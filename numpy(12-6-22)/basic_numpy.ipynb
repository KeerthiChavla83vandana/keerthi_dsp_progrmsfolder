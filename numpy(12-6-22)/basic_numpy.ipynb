{
 "cells": [
  {
   "cell_type": "code",
   "execution_count": 2,
   "id": "d4b9729a",
   "metadata": {},
   "outputs": [
    {
     "name": "stdout",
     "output_type": "stream",
     "text": [
      "[1 2 3 4 5]\n"
     ]
    }
   ],
   "source": [
    "import numpy as np\n",
    "arr=np.array([1,2,3,4,5])\n",
    "print(arr)"
   ]
  },
  {
   "cell_type": "code",
   "execution_count": 7,
   "id": "6893d635",
   "metadata": {},
   "outputs": [
    {
     "name": "stdout",
     "output_type": "stream",
     "text": [
      "[ 40 500  60 400 250]\n",
      "1.20.3\n"
     ]
    }
   ],
   "source": [
    "my_transaction=np.array([40,500,60,400,250])\n",
    "print(my_transaction)\n",
    "\n",
    "# version function\n",
    "print(np.__version__)"
   ]
  },
  {
   "cell_type": "code",
   "execution_count": 8,
   "id": "09a2e8de",
   "metadata": {},
   "outputs": [
    {
     "ename": "AttributeError",
     "evalue": "module 'numpy' has no attribute '_version_'",
     "output_type": "error",
     "traceback": [
      "\u001b[1;31m---------------------------------------------------------------------------\u001b[0m",
      "\u001b[1;31mAttributeError\u001b[0m                            Traceback (most recent call last)",
      "\u001b[1;32mC:\\Users\\KEERTH~1\\AppData\\Local\\Temp/ipykernel_8940/2767711398.py\u001b[0m in \u001b[0;36m<module>\u001b[1;34m\u001b[0m\n\u001b[1;32m----> 1\u001b[1;33m \u001b[0mprint\u001b[0m\u001b[1;33m(\u001b[0m\u001b[0mnp\u001b[0m\u001b[1;33m.\u001b[0m\u001b[0m_version_\u001b[0m\u001b[1;33m)\u001b[0m\u001b[1;33m\u001b[0m\u001b[1;33m\u001b[0m\u001b[0m\n\u001b[0m",
      "\u001b[1;32m~\\anaconda3\\lib\\site-packages\\numpy\\__init__.py\u001b[0m in \u001b[0;36m__getattr__\u001b[1;34m(attr)\u001b[0m\n\u001b[0;32m    301\u001b[0m                 \u001b[1;32mreturn\u001b[0m \u001b[0mTester\u001b[0m\u001b[1;33m\u001b[0m\u001b[1;33m\u001b[0m\u001b[0m\n\u001b[0;32m    302\u001b[0m \u001b[1;33m\u001b[0m\u001b[0m\n\u001b[1;32m--> 303\u001b[1;33m             raise AttributeError(\"module {!r} has no attribute \"\n\u001b[0m\u001b[0;32m    304\u001b[0m                                  \"{!r}\".format(__name__, attr))\n\u001b[0;32m    305\u001b[0m \u001b[1;33m\u001b[0m\u001b[0m\n",
      "\u001b[1;31mAttributeError\u001b[0m: module 'numpy' has no attribute '_version_'"
     ]
    }
   ],
   "source": [
    "print(np._version_)"
   ]
  },
  {
   "cell_type": "code",
   "execution_count": 9,
   "id": "df1bd165",
   "metadata": {},
   "outputs": [
    {
     "name": "stdout",
     "output_type": "stream",
     "text": [
      "1.20.3\n"
     ]
    }
   ],
   "source": [
    "print(np.__version__)"
   ]
  },
  {
   "cell_type": "code",
   "execution_count": 11,
   "id": "4a58dfb5",
   "metadata": {},
   "outputs": [
    {
     "name": "stdout",
     "output_type": "stream",
     "text": [
      "<class 'numpy.ndarray'>\n",
      "<class 'numpy.ndarray'>\n"
     ]
    }
   ],
   "source": [
    "print(type(my_transaction))\n",
    "print(type(arr))"
   ]
  },
  {
   "cell_type": "code",
   "execution_count": 23,
   "id": "ac2c5574",
   "metadata": {},
   "outputs": [
    {
     "name": "stdout",
     "output_type": "stream",
     "text": [
      "[ 2  3 10  5  8 23 19]\n",
      "no of dimentions: 0\n",
      "310\n",
      "no of dimentions: 1\n",
      "[ 3  6  8  9 24]\n",
      "no of dimentions: 2\n",
      "[[3.  4.  5. ]\n",
      " [2.  2.3 7. ]]\n",
      "no of dimentions: 3\n",
      "[[[ 3  8  9]\n",
      "  [41  4 35]]\n",
      "\n",
      " [[ 0  1 99]\n",
      "  [56 87  0]]]\n"
     ]
    }
   ],
   "source": [
    "# pass tuple to array() methodn\n",
    "# array method retuns list\n",
    "mom=np.array((2,3,10,5,8,23,19))\n",
    "print(mom)\n",
    "\n",
    "# 0 dimension array\n",
    "arr=np.array(310)\n",
    "\n",
    "print(\"no of dimentions:\",arr.ndim)\n",
    "print(arr)\n",
    "\n",
    "# 1 d array\n",
    "b=np.array([3,6,8,9,24])\n",
    "\n",
    "print(\"no of dimentions:\",b.ndim)\n",
    "print(b)\n",
    "\n",
    "\n",
    "# 2D array\n",
    "c=np.array([[3,4,5],[2,2.3,7]])\n",
    "\n",
    "print(\"no of dimentions:\",c.ndim)\n",
    "print(c)\n",
    "\n",
    "# 3D array\n",
    "d=np.array([[[3,8,9],[41,4,35]],[[0,1,99],[56,87,0]]])\n",
    "\n",
    "print(\"no of dimentions:\",d.ndim)\n",
    "print(d)"
   ]
  },
  {
   "cell_type": "code",
   "execution_count": 20,
   "id": "242774fe",
   "metadata": {},
   "outputs": [
    {
     "name": "stdout",
     "output_type": "stream",
     "text": [
      "0\n",
      "1\n",
      "2\n",
      "3\n"
     ]
    }
   ],
   "source": [
    "# number of dimesion OF ARRY\n",
    "print(arr.ndim)\n",
    "\n",
    "\n",
    "print(b.ndim)\n",
    "print(c.ndim)\n",
    "print(d.ndim)"
   ]
  },
  {
   "cell_type": "code",
   "execution_count": 26,
   "id": "ffd764ca",
   "metadata": {},
   "outputs": [
    {
     "name": "stdout",
     "output_type": "stream",
     "text": [
      "array dimenstion: 5\n",
      "[[[[[ 2  4  3  8 10]]]]]\n",
      "array dimension: 3\n",
      "[[[4 8 5]]]\n"
     ]
    }
   ],
   "source": [
    "# HIGHER DIMENSIONS\n",
    "a=np.array([2,4,3,8,10],ndmin=5)\n",
    "print(\"array dimenstion:\",a.ndim)\n",
    "print(a)\n",
    "\n",
    "b=np.array([4,8,5],ndmin=3)\n",
    "print(\"array dimension:\",b.ndim)\n",
    "print(b)"
   ]
  },
  {
   "cell_type": "code",
   "execution_count": 27,
   "id": "a2d4eedc",
   "metadata": {},
   "outputs": [
    {
     "name": "stdout",
     "output_type": "stream",
     "text": [
      "310\n"
     ]
    },
    {
     "ename": "IndexError",
     "evalue": "too many indices for array: array is 0-dimensional, but 1 were indexed",
     "output_type": "error",
     "traceback": [
      "\u001b[1;31m---------------------------------------------------------------------------\u001b[0m",
      "\u001b[1;31mIndexError\u001b[0m                                Traceback (most recent call last)",
      "\u001b[1;32mC:\\Users\\KEERTH~1\\AppData\\Local\\Temp/ipykernel_8940/50781864.py\u001b[0m in \u001b[0;36m<module>\u001b[1;34m\u001b[0m\n\u001b[0;32m      1\u001b[0m \u001b[1;31m#indexing\u001b[0m\u001b[1;33m\u001b[0m\u001b[1;33m\u001b[0m\u001b[0m\n\u001b[0;32m      2\u001b[0m \u001b[0mprint\u001b[0m\u001b[1;33m(\u001b[0m\u001b[0marr\u001b[0m\u001b[1;33m)\u001b[0m\u001b[1;33m\u001b[0m\u001b[1;33m\u001b[0m\u001b[0m\n\u001b[1;32m----> 3\u001b[1;33m \u001b[0mprint\u001b[0m\u001b[1;33m(\u001b[0m\u001b[0marr\u001b[0m\u001b[1;33m[\u001b[0m\u001b[1;36m0\u001b[0m\u001b[1;33m]\u001b[0m\u001b[1;33m)\u001b[0m\u001b[1;33m\u001b[0m\u001b[1;33m\u001b[0m\u001b[0m\n\u001b[0m",
      "\u001b[1;31mIndexError\u001b[0m: too many indices for array: array is 0-dimensional, but 1 were indexed"
     ]
    }
   ],
   "source": [
    "#indexing\n",
    "print(arr)\n",
    "print(arr[0])"
   ]
  },
  {
   "cell_type": "code",
   "execution_count": 30,
   "id": "58fcda0f",
   "metadata": {},
   "outputs": [
    {
     "name": "stdout",
     "output_type": "stream",
     "text": [
      "[ 40 500  60 400 250]\n",
      "500\n",
      "40\n"
     ]
    },
    {
     "ename": "IndexError",
     "evalue": "index 6 is out of bounds for axis 0 with size 5",
     "output_type": "error",
     "traceback": [
      "\u001b[1;31m---------------------------------------------------------------------------\u001b[0m",
      "\u001b[1;31mIndexError\u001b[0m                                Traceback (most recent call last)",
      "\u001b[1;32mC:\\Users\\KEERTH~1\\AppData\\Local\\Temp/ipykernel_8940/180982170.py\u001b[0m in \u001b[0;36m<module>\u001b[1;34m\u001b[0m\n\u001b[0;32m      2\u001b[0m \u001b[0mprint\u001b[0m\u001b[1;33m(\u001b[0m\u001b[0mmy_transaction\u001b[0m\u001b[1;33m[\u001b[0m\u001b[1;36m1\u001b[0m\u001b[1;33m]\u001b[0m\u001b[1;33m)\u001b[0m\u001b[1;33m\u001b[0m\u001b[1;33m\u001b[0m\u001b[0m\n\u001b[0;32m      3\u001b[0m \u001b[0mprint\u001b[0m\u001b[1;33m(\u001b[0m\u001b[0mmy_transaction\u001b[0m\u001b[1;33m[\u001b[0m\u001b[1;36m0\u001b[0m\u001b[1;33m]\u001b[0m\u001b[1;33m)\u001b[0m\u001b[1;33m\u001b[0m\u001b[1;33m\u001b[0m\u001b[0m\n\u001b[1;32m----> 4\u001b[1;33m \u001b[0mprint\u001b[0m\u001b[1;33m(\u001b[0m\u001b[0mmy_transaction\u001b[0m\u001b[1;33m[\u001b[0m\u001b[1;36m6\u001b[0m\u001b[1;33m]\u001b[0m\u001b[1;33m)\u001b[0m\u001b[1;33m\u001b[0m\u001b[1;33m\u001b[0m\u001b[0m\n\u001b[0m",
      "\u001b[1;31mIndexError\u001b[0m: index 6 is out of bounds for axis 0 with size 5"
     ]
    }
   ],
   "source": [
    "print(my_transaction)\n",
    "print(my_transaction[1])\n",
    "print(my_transaction[0])\n",
    "print(my_transaction[6])"
   ]
  },
  {
   "cell_type": "code",
   "execution_count": 37,
   "id": "9d871166",
   "metadata": {},
   "outputs": [
    {
     "name": "stdout",
     "output_type": "stream",
     "text": [
      "[[3.  4.  5. ]\n",
      " [2.  2.3 7. ]]\n",
      "[3. 4. 5.]\n",
      "[2.  2.3 7. ]\n",
      "2.0\n",
      "[2.  2.3 7. ]\n",
      "[3. 4. 5.]\n"
     ]
    }
   ],
   "source": [
    "print(c)\n",
    "print(c[0])\n",
    "print(c[1])\n",
    "print(c[1][0])\n",
    "print(c[-1])\n",
    "print(c[-2])"
   ]
  },
  {
   "cell_type": "code",
   "execution_count": 4,
   "id": "0ab989e1",
   "metadata": {},
   "outputs": [
    {
     "name": "stdout",
     "output_type": "stream",
     "text": [
      "[ 2  3  8 28 23 10]\n",
      "add 2 3 indexes\n",
      "36\n"
     ]
    }
   ],
   "source": [
    "import numpy as np\n",
    "arr=np.array([2,3,8,28,23,10])\n",
    "print(arr)\n",
    "\n",
    "#indexing\n",
    "print(\"add 2 3 indexes\")\n",
    "print(arr[2]+arr[3])\n"
   ]
  },
  {
   "cell_type": "code",
   "execution_count": 12,
   "id": "18501105",
   "metadata": {},
   "outputs": [
    {
     "name": "stdout",
     "output_type": "stream",
     "text": [
      "2nd element  on 1 row\n",
      "2\n",
      "5 th element on 2nd row\n",
      "10\n",
      "negative indexing\n",
      "10\n",
      "2nd row\n",
      "[ 6  7  8  9 10]\n"
     ]
    }
   ],
   "source": [
    "sis = np.array([[1,2,3,4,5], [6,7,8,9,10]])\n",
    "print(\"2nd element  on 1 row\")\n",
    "print(sis[0,1])\n",
    "\n",
    "print(\"5 th element on 2nd row\")\n",
    "print(sis[1,4])\n",
    "\n",
    "print(\"negative indexing\")\n",
    "print(sis[1,-1])\n",
    "\n",
    "print(\"2nd row\")\n",
    "print(sis[-1])\n",
    "               "
   ]
  },
  {
   "cell_type": "code",
   "execution_count": 10,
   "id": "bc258c1c",
   "metadata": {},
   "outputs": [
    {
     "name": "stdout",
     "output_type": "stream",
     "text": [
      "3d array\n",
      "first 2d array\n",
      "[[1 2 3]\n",
      " [4 5 6]]\n",
      "in 2nd 2d array 1st row\n",
      "[7 8 9]\n",
      "in 1st 2d array ,2nd row 3 rd element\n",
      "6\n",
      "1,1\n",
      "[10 11 12]\n",
      "1,1,2\n",
      "12\n",
      "0,1,0\n",
      "4\n"
     ]
    }
   ],
   "source": [
    "print(\"3d array\")\n",
    "mom = np.array([[[1, 2, 3], [4, 5, 6]], [[7, 8, 9], [10, 11, 12]]])\n",
    "print(\"first 2d array\")\n",
    "print(mom[0])\n",
    "print(\"in 2nd 2d array 1st row\")\n",
    "print(mom[1,0])\n",
    "\n",
    "print(\"in 1st 2d array ,2nd row 3 rd element\")\n",
    "print(mom[0,1,2])\n",
    "\n",
    "print(\"1,1\")\n",
    "print(mom[1,1])\n",
    "\n",
    "print(\"1,1,2\")\n",
    "print(mom[1,1,2])\n",
    "\n",
    "print(\"0,1,0\")\n",
    "print(mom[0,1,0])"
   ]
  },
  {
   "cell_type": "code",
   "execution_count": 14,
   "id": "e38e3257",
   "metadata": {},
   "outputs": [
    {
     "name": "stdout",
     "output_type": "stream",
     "text": [
      "1.20.3\n",
      "blas_mkl_info:\n",
      "    libraries = ['mkl_rt']\n",
      "    library_dirs = ['C:/Users/Keerthy Chawla/anaconda3\\\\Library\\\\lib']\n",
      "    define_macros = [('SCIPY_MKL_H', None), ('HAVE_CBLAS', None)]\n",
      "    include_dirs = ['C:/Users/Keerthy Chawla/anaconda3\\\\Library\\\\include']\n",
      "blas_opt_info:\n",
      "    libraries = ['mkl_rt']\n",
      "    library_dirs = ['C:/Users/Keerthy Chawla/anaconda3\\\\Library\\\\lib']\n",
      "    define_macros = [('SCIPY_MKL_H', None), ('HAVE_CBLAS', None)]\n",
      "    include_dirs = ['C:/Users/Keerthy Chawla/anaconda3\\\\Library\\\\include']\n",
      "lapack_mkl_info:\n",
      "    libraries = ['mkl_rt']\n",
      "    library_dirs = ['C:/Users/Keerthy Chawla/anaconda3\\\\Library\\\\lib']\n",
      "    define_macros = [('SCIPY_MKL_H', None), ('HAVE_CBLAS', None)]\n",
      "    include_dirs = ['C:/Users/Keerthy Chawla/anaconda3\\\\Library\\\\include']\n",
      "lapack_opt_info:\n",
      "    libraries = ['mkl_rt']\n",
      "    library_dirs = ['C:/Users/Keerthy Chawla/anaconda3\\\\Library\\\\lib']\n",
      "    define_macros = [('SCIPY_MKL_H', None), ('HAVE_CBLAS', None)]\n",
      "    include_dirs = ['C:/Users/Keerthy Chawla/anaconda3\\\\Library\\\\include']\n",
      "None\n"
     ]
    }
   ],
   "source": [
    "import numpy as np\n",
    "print(np.__version__)\n",
    "\n",
    "print(np.show_config())\n",
    "\n"
   ]
  },
  {
   "cell_type": "code",
   "execution_count": 15,
   "id": "67dfa5ae",
   "metadata": {},
   "outputs": [
    {
     "name": "stdout",
     "output_type": "stream",
     "text": [
      "add(x1, x2, /, out=None, *, where=True, casting='same_kind', order='K', dtype=None, subok=True[, signature, extobj])\n",
      "\n",
      "Add arguments element-wise.\n",
      "\n",
      "Parameters\n",
      "----------\n",
      "x1, x2 : array_like\n",
      "    The arrays to be added.\n",
      "    If ``x1.shape != x2.shape``, they must be broadcastable to a common\n",
      "    shape (which becomes the shape of the output).\n",
      "out : ndarray, None, or tuple of ndarray and None, optional\n",
      "    A location into which the result is stored. If provided, it must have\n",
      "    a shape that the inputs broadcast to. If not provided or None,\n",
      "    a freshly-allocated array is returned. A tuple (possible only as a\n",
      "    keyword argument) must have length equal to the number of outputs.\n",
      "where : array_like, optional\n",
      "    This condition is broadcast over the input. At locations where the\n",
      "    condition is True, the `out` array will be set to the ufunc result.\n",
      "    Elsewhere, the `out` array will retain its original value.\n",
      "    Note that if an uninitialized `out` array is created via the default\n",
      "    ``out=None``, locations within it where the condition is False will\n",
      "    remain uninitialized.\n",
      "**kwargs\n",
      "    For other keyword-only arguments, see the\n",
      "    :ref:`ufunc docs <ufuncs.kwargs>`.\n",
      "\n",
      "Returns\n",
      "-------\n",
      "add : ndarray or scalar\n",
      "    The sum of `x1` and `x2`, element-wise.\n",
      "    This is a scalar if both `x1` and `x2` are scalars.\n",
      "\n",
      "Notes\n",
      "-----\n",
      "Equivalent to `x1` + `x2` in terms of array broadcasting.\n",
      "\n",
      "Examples\n",
      "--------\n",
      ">>> np.add(1.0, 4.0)\n",
      "5.0\n",
      ">>> x1 = np.arange(9.0).reshape((3, 3))\n",
      ">>> x2 = np.arange(3.0)\n",
      ">>> np.add(x1, x2)\n",
      "array([[  0.,   2.,   4.],\n",
      "       [  3.,   5.,   7.],\n",
      "       [  6.,   8.,  10.]])\n",
      "\n",
      "The ``+`` operator can be used as a shorthand for ``np.add`` on ndarrays.\n",
      "\n",
      ">>> x1 = np.arange(9.0).reshape((3, 3))\n",
      ">>> x2 = np.arange(3.0)\n",
      ">>> x1 + x2\n",
      "array([[ 0.,  2.,  4.],\n",
      "       [ 3.,  5.,  7.],\n",
      "       [ 6.,  8., 10.]])\n",
      "None\n"
     ]
    }
   ],
   "source": [
    "# get help on add function\n",
    "import numpy as np\n",
    "print(np.info(np.add))"
   ]
  },
  {
   "cell_type": "code",
   "execution_count": 16,
   "id": "533dfc3d",
   "metadata": {},
   "outputs": [
    {
     "name": "stdout",
     "output_type": "stream",
     "text": [
      "orignal array:\n",
      "[1 2 3 4]\n",
      "test if none of the elements of the said  array is zero:\n",
      "True\n",
      "original array:\n",
      "test if none of the elements of the said array is zero:\n",
      "False\n"
     ]
    }
   ],
   "source": [
    "#checking all element if there is one element 0\n",
    "x=np.array([1,2,3,4])\n",
    "print(\"orignal array:\")\n",
    "print(x)\n",
    "\n",
    "print(\"test if none of the elements of the said  array is zero:\")\n",
    "print(np.all(x))\n",
    "\n",
    "\n",
    "x=np.array([0,3,8,9])\n",
    "print(\"original array:\")\n",
    "\n",
    "print(\"test if none of the elements of the said array is zero:\")\n",
    "print(np.all(x))"
   ]
  },
  {
   "cell_type": "code",
   "execution_count": 17,
   "id": "3d79eedd",
   "metadata": {},
   "outputs": [
    {
     "name": "stdout",
     "output_type": "stream",
     "text": [
      "original array:\n",
      "[1 0 0 0]\n",
      "test whether anyone of the element of given array is non-zeros:\n",
      "True\n",
      "original array:\n",
      "test any one whether any of the element is non-zeros\n",
      "False\n"
     ]
    }
   ],
   "source": [
    "# cheking non zeros\n",
    "y=np.array([1,0,0,0])\n",
    "print(\"original array:\")\n",
    "print(y)\n",
    "\n",
    "print(\"test whether anyone of the element of given array is non-zeros:\")\n",
    "print(np.any(y))\n",
    "\n",
    "y=np.array([0,0,0,0])\n",
    "print(\"original array:\")\n",
    "print(\"test any one whether any of the element is non-zeros\")\n",
    "print(np.any(y))"
   ]
  },
  {
   "cell_type": "code",
   "execution_count": 19,
   "id": "f8435c58",
   "metadata": {},
   "outputs": [
    {
     "name": "stdout",
     "output_type": "stream",
     "text": [
      "original array: \n",
      "[ 1.  0. nan inf]\n",
      "test a given  array elements wise for finiteness:\n",
      "[ True  True False False]\n"
     ]
    }
   ],
   "source": [
    "a=np.array([1,0,np.nan,np.inf])\n",
    "print(\"original array: \")\n",
    "print(a)\n",
    "\n",
    "print(\"test a given  array elements wise for finiteness:\")\n",
    "print(np.isfinite(a))"
   ]
  },
  {
   "cell_type": "code",
   "execution_count": 23,
   "id": "aac240ff",
   "metadata": {},
   "outputs": [
    {
     "name": "stdout",
     "output_type": "stream",
     "text": [
      "original array\n",
      "[ 2.  0. nan inf]\n",
      "test element wiese for positive or  negitive infinity:\n",
      "[False False False  True]\n",
      "array b:\n",
      "[-4. nan inf inf]\n",
      "[False False  True  True]\n"
     ]
    }
   ],
   "source": [
    "a=np.array([2,0,np.nan,np.inf])\n",
    "print(\"original array\")\n",
    "print(a)\n",
    "\n",
    "print(\"test element wiese for positive or  negitive infinity:\")\n",
    "print(np.isinf(a))\n",
    "\n",
    "b=np.array([-4,np.nan,np.inf,np.inf])\n",
    "print(\"array b:\")\n",
    "print(b)\n",
    "print(np.isinf(b))"
   ]
  },
  {
   "cell_type": "code",
   "execution_count": 1,
   "id": "9cd43990",
   "metadata": {},
   "outputs": [
    {
     "name": "stdout",
     "output_type": "stream",
     "text": [
      "orinal array\n",
      "[10. nan inf]\n",
      "test elements for nan values\n",
      "[False  True False]\n"
     ]
    }
   ],
   "source": [
    "import numpy as np\n",
    "# program to test nan values\n",
    "a=np.array([10,np.nan,np.inf])\n",
    "print(\"orinal array\")\n",
    "print(a)\n",
    "print(\"test elements for nan values\")\n",
    "print(np.isnan(a))"
   ]
  },
  {
   "cell_type": "code",
   "execution_count": 3,
   "id": "4e7fecc9",
   "metadata": {},
   "outputs": [
    {
     "name": "stdout",
     "output_type": "stream",
     "text": [
      "original array:\n",
      "[ 2.+5.j  4.+0.j  5.+0.j 43.+0.j  6.+7.j]\n",
      "checking for complex number:\n",
      "[ True False False False  True]\n",
      "cheking for real number:\n",
      "[False  True  True  True False]\n",
      "cheking for scalar:\n",
      "True\n",
      "False\n"
     ]
    }
   ],
   "source": [
    "m=np.array([2+5j,4+0j,5,43,6+7j])\n",
    "print(\"original array:\")\n",
    "print(m)\n",
    "\n",
    "print(\"checking for complex number:\")\n",
    "print(np.iscomplex(m))\n",
    "\n",
    "print(\"cheking for real number:\")\n",
    "print(np.isreal(m))\n",
    "\n",
    "print(\"cheking for scalar:\")\n",
    "print(np.isscalar(3.1))\n",
    "\n",
    "print(np.isscalar([3.1]))"
   ]
  },
  {
   "cell_type": "code",
   "execution_count": 4,
   "id": "6f268635",
   "metadata": {},
   "outputs": [
    {
     "name": "stdout",
     "output_type": "stream",
     "text": [
      "test if two arrays are elements equal with in a tolarence\n",
      "False\n",
      "False\n",
      "False\n",
      "False\n",
      "True\n"
     ]
    }
   ],
   "source": [
    "#tolerence\n",
    "import numpy as np\n",
    "\n",
    "print(\"test if two arrays are elements equal with in a tolarence\")\n",
    "\n",
    "print(np.allclose([1e10,1e-7],[100001e10,1e-8]))\n",
    "print(np.allclose([1e10,1e-8],[100001e10,1e-9]))\n",
    "print(np.allclose([1e10,1e-8],[10001e10,1e-9]))\n",
    "print(np.allclose([1.0,np.nan],[1.0,np.nan]))\n",
    "print(np.allclose([1.0,np.nan],[1.0,np.nan],equal_nan=True))"
   ]
  },
  {
   "cell_type": "code",
   "execution_count": 7,
   "id": "6f7ed160",
   "metadata": {},
   "outputs": [
    {
     "name": "stdout",
     "output_type": "stream",
     "text": [
      "original array:\n",
      "[  1   7  13 105]\n",
      "no of bytes occupied by each elemet\n",
      "4\n",
      "size of the me(mory )occupied by array:\n",
      "%d bytes 16\n",
      "16 bytes\n"
     ]
    }
   ],
   "source": [
    "x=np.array([1,7,13,105])\n",
    "print(\"original array:\")\n",
    "print(x)\n",
    "\n",
    "\n",
    "print(\"no of bytes occupied by each elemet\")\n",
    "print(x.itemsize)\n",
    "\n",
    "print(\"size of the me(mory )occupied by array:\")\n",
    "print(\"%d bytes\",(x.size * x.itemsize))\n",
    "\n",
    "print(\"%d bytes\" % (x.size * x.itemsize))\n"
   ]
  },
  {
   "cell_type": "code",
   "execution_count": 16,
   "id": "a5a94a0d",
   "metadata": {},
   "outputs": [
    {
     "name": "stdout",
     "output_type": "stream",
     "text": [
      "an array of 10 zeros:\n",
      "[0. 0. 0. 0. 0. 0. 0. 0. 0. 0.]\n",
      "arrayof 10 1 s:\n",
      "[1. 1. 1. 1. 1. 1. 1. 1. 1. 1.]\n",
      "array of 10 5's:\n",
      "[5. 5. 5. 5. 5. 5. 5. 5. 5. 5.]\n",
      "array of 10 8's\n",
      "[8. 8. 8. 8. 8. 8. 8. 8. 8. 8.]\n",
      "[[0. 0. 0. 0. 0. 0. 0. 0. 0. 0.]\n",
      " [1. 1. 1. 1. 1. 1. 1. 1. 1. 1.]\n",
      " [5. 5. 5. 5. 5. 5. 5. 5. 5. 5.]\n",
      " [8. 8. 8. 8. 8. 8. 8. 8. 8. 8.]]\n",
      "arange in 2x2 \n"
     ]
    },
    {
     "ename": "ValueError",
     "evalue": "cannot reshape array of size 40 into shape (2,2)",
     "output_type": "error",
     "traceback": [
      "\u001b[1;31m---------------------------------------------------------------------------\u001b[0m",
      "\u001b[1;31mValueError\u001b[0m                                Traceback (most recent call last)",
      "\u001b[1;32mC:\\Users\\KEERTH~1\\AppData\\Local\\Temp/ipykernel_5740/4236197942.py\u001b[0m in \u001b[0;36m<module>\u001b[1;34m\u001b[0m\n\u001b[0;32m     20\u001b[0m \u001b[0mprint\u001b[0m\u001b[1;33m(\u001b[0m\u001b[0msu\u001b[0m\u001b[1;33m)\u001b[0m\u001b[1;33m\u001b[0m\u001b[1;33m\u001b[0m\u001b[0m\n\u001b[0;32m     21\u001b[0m \u001b[0mprint\u001b[0m\u001b[1;33m(\u001b[0m\u001b[1;34m\"arange in 2x2 \"\u001b[0m\u001b[1;33m)\u001b[0m\u001b[1;33m\u001b[0m\u001b[1;33m\u001b[0m\u001b[0m\n\u001b[1;32m---> 22\u001b[1;33m \u001b[0mprint\u001b[0m\u001b[1;33m(\u001b[0m\u001b[0msu\u001b[0m\u001b[1;33m.\u001b[0m\u001b[0mreshape\u001b[0m\u001b[1;33m(\u001b[0m\u001b[1;36m2\u001b[0m\u001b[1;33m,\u001b[0m\u001b[1;36m2\u001b[0m\u001b[1;33m)\u001b[0m\u001b[1;33m)\u001b[0m\u001b[1;33m\u001b[0m\u001b[1;33m\u001b[0m\u001b[0m\n\u001b[0m",
      "\u001b[1;31mValueError\u001b[0m: cannot reshape array of size 40 into shape (2,2)"
     ]
    }
   ],
   "source": [
    "#array of 1,0,5s\n",
    "print(\"an array of 10 zeros:\")\n",
    "\n",
    "sa=np.zeros(10)\n",
    "print(sa)\n",
    "\n",
    "sa2=np.ones(10)\n",
    "print(\"arrayof 10 1 s:\")\n",
    "print(sa2)\n",
    "\n",
    "print(\"array of 10 5's:\")\n",
    "sa3=np.ones(10)*5\n",
    "print(sa3)\n",
    "\n",
    "print(\"array of 10 8's\")\n",
    "sa4=np.ones(10)*8\n",
    "print(sa4)\n",
    "\n",
    "su=np.array([sa,sa2,sa3,sa4])\n",
    "print(su)\n",
    "print(\"arange in 2x2 \")\n",
    "print(su.reshape(2,2))"
   ]
  },
  {
   "cell_type": "code",
   "execution_count": 22,
   "id": "5d212fae",
   "metadata": {},
   "outputs": [
    {
     "name": "stdout",
     "output_type": "stream",
     "text": [
      "array of the integer from 30 -70\n",
      "[30 31 32 33 34 35 36 37 38 39 40 41 42 43 44 45 46 47 48 49 50 51 52 53\n",
      " 54 55 56 57 58 59 60 61 62 63 64 65 66 67 68 69 70]\n",
      "arnge in 4x10\n"
     ]
    },
    {
     "ename": "ValueError",
     "evalue": "cannot reshape array of size 41 into shape (4,10)",
     "output_type": "error",
     "traceback": [
      "\u001b[1;31m---------------------------------------------------------------------------\u001b[0m",
      "\u001b[1;31mValueError\u001b[0m                                Traceback (most recent call last)",
      "\u001b[1;32mC:\\Users\\KEERTH~1\\AppData\\Local\\Temp/ipykernel_5740/2440364094.py\u001b[0m in \u001b[0;36m<module>\u001b[1;34m\u001b[0m\n\u001b[0;32m      4\u001b[0m \u001b[1;33m\u001b[0m\u001b[0m\n\u001b[0;32m      5\u001b[0m \u001b[0mprint\u001b[0m\u001b[1;33m(\u001b[0m\u001b[1;34m\"arnge in 4x10\"\u001b[0m\u001b[1;33m)\u001b[0m\u001b[1;33m\u001b[0m\u001b[1;33m\u001b[0m\u001b[0m\n\u001b[1;32m----> 6\u001b[1;33m \u001b[0mprint\u001b[0m\u001b[1;33m(\u001b[0m\u001b[0marr\u001b[0m\u001b[1;33m.\u001b[0m\u001b[0mreshape\u001b[0m\u001b[1;33m(\u001b[0m\u001b[1;36m4\u001b[0m\u001b[1;33m,\u001b[0m\u001b[1;36m10\u001b[0m\u001b[1;33m)\u001b[0m\u001b[1;33m)\u001b[0m\u001b[1;33m\u001b[0m\u001b[1;33m\u001b[0m\u001b[0m\n\u001b[0m",
      "\u001b[1;31mValueError\u001b[0m: cannot reshape array of size 41 into shape (4,10)"
     ]
    }
   ],
   "source": [
    "arr=np.arange(30,71)\n",
    "print(\"array of the integer from 30 -70\")\n",
    "print(arr)\n",
    "\n",
    "print(\"arnge in 4x10\")\n",
    "print(arr.reshape(4,10))"
   ]
  },
  {
   "cell_type": "code",
   "execution_count": 23,
   "id": "443506eb",
   "metadata": {},
   "outputs": [
    {
     "name": "stdout",
     "output_type": "stream",
     "text": [
      "array of the integer from 30 -70\n",
      "[30 31 32 33 34 35 36 37 38 39 40 41 42 43 44 45 46 47 48 49 50 51 52 53\n",
      " 54 55 56 57 58 59 60 61 62 63 64 65 66 67 68 69]\n",
      "arnge in 4x10\n",
      "[[30 31 32 33 34 35 36 37 38 39]\n",
      " [40 41 42 43 44 45 46 47 48 49]\n",
      " [50 51 52 53 54 55 56 57 58 59]\n",
      " [60 61 62 63 64 65 66 67 68 69]]\n"
     ]
    }
   ],
   "source": [
    "arr=np.arange(30,70)\n",
    "print(\"array of the integer from 30 -70\")\n",
    "print(arr)\n",
    "\n",
    "print(\"arnge in 4x10\")\n",
    "print(arr.reshape(4,10))"
   ]
  },
  {
   "cell_type": "code",
   "execution_count": 26,
   "id": "15333c79",
   "metadata": {},
   "outputs": [
    {
     "name": "stdout",
     "output_type": "stream",
     "text": [
      "array of all even itegers from 30-70\n",
      "[30 32 34 36 38 40 42 44 46 48 50 52 54 56 58 60 62 64 66 68 70]\n",
      "array of all odd integers from 30-70\n",
      "[31 33 35 37 39 41 43 45 47 49 51 53 55 57 59 61 63 65 67 69]\n"
     ]
    }
   ],
   "source": [
    "nanna=np.arange(30,71,2)\n",
    "print(\"array of all even itegers from 30-70\")\n",
    "print(nanna)\n",
    "\n",
    "mom=np.arange(31,71,2)\n",
    "print(\"array of all odd integers from 30-70\")\n",
    "print(mom)"
   ]
  },
  {
   "cell_type": "raw",
   "id": "326221ac",
   "metadata": {},
   "source": [
    "import numpy as np\n",
    "arr2d=np.identity(3)\n",
    "print(\"3x3 matrix\")\n",
    "print(arr2d)"
   ]
  },
  {
   "cell_type": "code",
   "execution_count": 27,
   "id": "7786d5e2",
   "metadata": {},
   "outputs": [
    {
     "name": "stdout",
     "output_type": "stream",
     "text": [
      "3x3 matrix\n",
      "[[1. 0. 0.]\n",
      " [0. 1. 0.]\n",
      " [0. 0. 1.]]\n"
     ]
    }
   ],
   "source": [
    "import numpy as np\n",
    "arr2d=np.identity(3)\n",
    "print(\"3x3 matrix\")\n",
    "print(arr2d)\n",
    "\n"
   ]
  },
  {
   "cell_type": "code",
   "execution_count": 3,
   "id": "5dbc87a7",
   "metadata": {},
   "outputs": [
    {
     "name": "stdout",
     "output_type": "stream",
     "text": [
      "[3 4 5]\n",
      "<class 'numpy.ndarray'>\n"
     ]
    }
   ],
   "source": [
    "import numpy as np\n",
    "g=np.array((3,4,5))\n",
    "print(g)\n",
    "print(type(g))"
   ]
  },
  {
   "cell_type": "code",
   "execution_count": null,
   "id": "4ecd56cf",
   "metadata": {},
   "outputs": [],
   "source": []
  }
 ],
 "metadata": {
  "kernelspec": {
   "display_name": "Python 3 (ipykernel)",
   "language": "python",
   "name": "python3"
  },
  "language_info": {
   "codemirror_mode": {
    "name": "ipython",
    "version": 3
   },
   "file_extension": ".py",
   "mimetype": "text/x-python",
   "name": "python",
   "nbconvert_exporter": "python",
   "pygments_lexer": "ipython3",
   "version": "3.9.7"
  }
 },
 "nbformat": 4,
 "nbformat_minor": 5
}
