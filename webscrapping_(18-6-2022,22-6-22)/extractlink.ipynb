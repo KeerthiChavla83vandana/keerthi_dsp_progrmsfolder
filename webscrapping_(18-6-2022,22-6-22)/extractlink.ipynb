{
 "cells": [
  {
   "cell_type": "code",
   "execution_count": 14,
   "id": "f9d5e5a8",
   "metadata": {},
   "outputs": [
    {
     "ename": "TypeError",
     "evalue": "'str' object is not callable",
     "output_type": "error",
     "traceback": [
      "\u001b[1;31m---------------------------------------------------------------------------\u001b[0m",
      "\u001b[1;31mTypeError\u001b[0m                                 Traceback (most recent call last)",
      "\u001b[1;32mC:\\Users\\KEERTH~1\\AppData\\Local\\Temp/ipykernel_4788/3411860564.py\u001b[0m in \u001b[0;36m<module>\u001b[1;34m\u001b[0m\n\u001b[0;32m     10\u001b[0m     \u001b[1;32mreturn\u001b[0m \u001b[0murl\u001b[0m\u001b[1;33m\u001b[0m\u001b[1;33m\u001b[0m\u001b[0m\n\u001b[0;32m     11\u001b[0m \u001b[0murl\u001b[0m\u001b[1;33m=\u001b[0m\u001b[0mgetURL\u001b[0m\u001b[1;33m(\u001b[0m\u001b[0mpage\u001b[0m\u001b[1;33m)\u001b[0m\u001b[1;33m\u001b[0m\u001b[1;33m\u001b[0m\u001b[0m\n\u001b[1;32m---> 12\u001b[1;33m \u001b[0mprint\u001b[0m\u001b[1;33m(\u001b[0m\u001b[0mtype\u001b[0m\u001b[1;33m(\u001b[0m\u001b[0murl\u001b[0m\u001b[1;33m)\u001b[0m\u001b[1;33m)\u001b[0m\u001b[1;33m\u001b[0m\u001b[1;33m\u001b[0m\u001b[0m\n\u001b[0m\u001b[0;32m     13\u001b[0m \u001b[0mprint\u001b[0m\u001b[1;33m(\u001b[0m\u001b[1;34m\"*** link ***\"\u001b[0m\u001b[1;33m)\u001b[0m\u001b[1;33m\u001b[0m\u001b[1;33m\u001b[0m\u001b[0m\n\u001b[0;32m     14\u001b[0m \u001b[1;31m#print(url)\u001b[0m\u001b[1;33m\u001b[0m\u001b[1;33m\u001b[0m\u001b[0m\n",
      "\u001b[1;31mTypeError\u001b[0m: 'str' object is not callable"
     ]
    }
   ],
   "source": [
    "page=\"  welcome <a href = 'https://accounts.google.com/b/0/AddMailService'> \"\n",
    "#print(page)\n",
    "def getURL(page):\n",
    "    start_link = page.find(\"<a href\")\n",
    "    start_quote=page.find('\"',start_link)\n",
    "    end_quote = page.find('\"',start_quote+1)\n",
    "    url=page[start_quote + 1:end_quote]\n",
    "    #print (url)\n",
    "    #get URL(page)\n",
    "    return url\n",
    "url=getURL(page)\n",
    "print(type(url))\n",
    "print(\"*** link ***\")\n",
    "#print(url)"
   ]
  },
  {
   "cell_type": "code",
   "execution_count": 5,
   "id": "3daebefd",
   "metadata": {},
   "outputs": [
    {
     "ename": "SyntaxError",
     "evalue": "invalid syntax (Temp/ipykernel_4788/3252295494.py, line 1)",
     "output_type": "error",
     "traceback": [
      "\u001b[1;36m  File \u001b[1;32m\"C:\\Users\\KEERTH~1\\AppData\\Local\\Temp/ipykernel_4788/3252295494.py\"\u001b[1;36m, line \u001b[1;32m1\u001b[0m\n\u001b[1;33m    page=\" <a href = \"https://accounts.google.com/b/0/AddMailService\">\"\u001b[0m\n\u001b[1;37m                      ^\u001b[0m\n\u001b[1;31mSyntaxError\u001b[0m\u001b[1;31m:\u001b[0m invalid syntax\n"
     ]
    }
   ],
   "source": [
    "page=\" <a href = \"https://accounts.google.com/b/0/AddMailService\">\"\n",
    "print(page)\n",
    "def getURL(page):\n",
    "    start_link = page.find(\"a href\")\n",
    "    start_quote=page.find('\"',start_link)\n",
    "    end_quote = page.find('\"',start)\n",
    "    url=page[start_quote + 1:end_quote]\n",
    "    #print (url)\n",
    "    #get URL(page)\n",
    "    return url\n",
    "url=getURL(page)\n",
    "print=(\" *** link ***\")\n",
    "print(url)"
   ]
  },
  {
   "cell_type": "code",
   "execution_count": 7,
   "id": "8bb92edc",
   "metadata": {},
   "outputs": [
    {
     "ename": "NameError",
     "evalue": "name 'page' is not defined",
     "output_type": "error",
     "traceback": [
      "\u001b[1;31m---------------------------------------------------------------------------\u001b[0m",
      "\u001b[1;31mNameError\u001b[0m                                 Traceback (most recent call last)",
      "\u001b[1;32mC:\\Users\\KEERTH~1\\AppData\\Local\\Temp/ipykernel_4788/2242097962.py\u001b[0m in \u001b[0;36m<module>\u001b[1;34m\u001b[0m\n\u001b[0;32m      2\u001b[0m \u001b[0murl\u001b[0m\u001b[1;33m=\u001b[0m\u001b[1;34m'file:///C:/Users/KEERTH~1/AppData/Local/Temp/Rar$EXa7184.8126/html%20geany%20progrmes/durga%20blood.html'\u001b[0m\u001b[1;33m\u001b[0m\u001b[1;33m\u001b[0m\u001b[0m\n\u001b[0;32m      3\u001b[0m \u001b[0mresp\u001b[0m\u001b[1;33m=\u001b[0m\u001b[0murllib\u001b[0m\u001b[1;33m.\u001b[0m\u001b[0mrequest\u001b[0m\u001b[1;33m.\u001b[0m\u001b[0murlopen\u001b[0m\u001b[1;33m(\u001b[0m\u001b[0murl\u001b[0m\u001b[1;33m)\u001b[0m\u001b[1;33m\u001b[0m\u001b[1;33m\u001b[0m\u001b[0m\n\u001b[1;32m----> 4\u001b[1;33m \u001b[0mpage\u001b[0m\u001b[1;33m=\u001b[0m\u001b[0mstr\u001b[0m\u001b[1;33m(\u001b[0m\u001b[0mpage\u001b[0m\u001b[1;33m)\u001b[0m\u001b[1;33m\u001b[0m\u001b[1;33m\u001b[0m\u001b[0m\n\u001b[0m\u001b[0;32m      5\u001b[0m \u001b[1;31m#page='hj abc <a href=\"https://www.\"'\u001b[0m\u001b[1;33m\u001b[0m\u001b[1;33m\u001b[0m\u001b[0m\n\u001b[0;32m      6\u001b[0m \u001b[1;32mdef\u001b[0m \u001b[0mgetURL\u001b[0m\u001b[1;33m(\u001b[0m\u001b[0mpage\u001b[0m\u001b[1;33m)\u001b[0m\u001b[1;33m:\u001b[0m\u001b[1;33m\u001b[0m\u001b[1;33m\u001b[0m\u001b[0m\n",
      "\u001b[1;31mNameError\u001b[0m: name 'page' is not defined"
     ]
    }
   ],
   "source": [
    "import urllib.request\n",
    "url='file:///C:/Users/KEERTH~1/AppData/Local/Temp/Rar$EXa7184.8126/html%20geany%20progrmes/durga%20blood.html'\n",
    "resp=urllib.request.urlopen(url)\n",
    "page=str(page)\n",
    "#page='hj abc <a href=\"https://www.\"'\n",
    "def getURL(page):\n",
    "    start_link=page.find(\"a href\")\n",
    "    start_quote=page.find('\"',start_link)\n",
    "    end_quote=page.find('\"',start_quote+1)\n",
    "    url = page[start_quote+1:end_quote+1:end_quote]\n",
    "#print(url)\n",
    "#geturl(page)\n",
    "    return url,end_quote\n",
    "while true:  #call for infinite loop\n",
    "    url,n=getURL(page)\n",
    "    page=page[n: ]\n",
    "    #print(page)\n",
    "    if url:\n",
    "        print(url)\n",
    "    else:\n",
    "        break\n",
    "    "
   ]
  },
  {
   "cell_type": "code",
   "execution_count": null,
   "id": "a85ffeaf",
   "metadata": {},
   "outputs": [],
   "source": [
    "import requests\n",
    "#making a get request\n",
    "page= requests.get'http://www.google .com')\n",
    "#check status code for respnse received \n",
    "success code 200\n",
    "print(page)\n",
    "print(page.content)\n",
    "print(page.url)\n"
   ]
  }
 ],
 "metadata": {
  "kernelspec": {
   "display_name": "Python 3 (ipykernel)",
   "language": "python",
   "name": "python3"
  },
  "language_info": {
   "codemirror_mode": {
    "name": "ipython",
    "version": 3
   },
   "file_extension": ".py",
   "mimetype": "text/x-python",
   "name": "python",
   "nbconvert_exporter": "python",
   "pygments_lexer": "ipython3",
   "version": "3.9.7"
  }
 },
 "nbformat": 4,
 "nbformat_minor": 5
}
