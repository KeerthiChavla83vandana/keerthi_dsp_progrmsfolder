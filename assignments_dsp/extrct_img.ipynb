{
 "cells": [
  {
   "cell_type": "code",
   "execution_count": null,
   "id": "0d6a6737",
   "metadata": {},
   "outputs": [],
   "source": [
    "import requests\n",
    "from bs4 import BeautifulSoup\n",
    "url=\"https://www.rguktsklm.ac.in\"\n",
    "\n",
    "reqs=requests.get(url)\n",
    "soup=BeautifulSoup(reqs.text,\"html.parser\")\n",
    "urls=[]\n",
    "for link in soup.find_all('a'):\n",
    "    print(link.get(\"href\"))"
   ]
  },
  {
   "cell_type": "code",
   "execution_count": null,
   "id": "d6dfadcd",
   "metadata": {},
   "outputs": [],
   "source": [
    "import urllib.reqest\n",
    "img=\"https://www.flaticon.com/free-icon/college_5351063\"\n",
    "\n",
    "resp=urllib.request.urlopen(img)\n",
    "page=str(page1)\n",
    "\n",
    "def getimg(page):\n",
    "    start_img=page.find(\"<img src\")\n",
    "    start_quote=page.find(' \"',start_img)\n",
    "    end_quote=page.find('\"',start_quote+1)\n",
    "    img=page[start_quote+1:end_quote]\n",
    "    \n",
    "    return img,end_quote\n",
    "\n",
    "while True:\n",
    "    img,n=getimg(page)\n",
    "    page=page[n:]\n",
    "    \n",
    "    #print page\n",
    "    if img:\n",
    "        print(img)\n",
    "        \n",
    "    else:\n",
    "        break"
   ]
  },
  {
   "cell_type": "code",
   "execution_count": null,
   "id": "054f66f0",
   "metadata": {},
   "outputs": [],
   "source": [
    "import requests\n",
    "from bs4 import beautifulSoup\n",
    "def getdata(url):\n",
    "    \n",
    "    r=requests.get(url)\n",
    "    return r.text\n",
    "htmldata=getdata(\"https://www.rguktsklm.ac.in\")\n",
    "soup=BeautifulSoup(htmldata,\"html.parser\")\n",
    "for img in soup.find_all(\"img\"):\n",
    "    print(img['src'])\n",
    "    \n"
   ]
  }
 ],
 "metadata": {
  "kernelspec": {
   "display_name": "Python 3 (ipykernel)",
   "language": "python",
   "name": "python3"
  },
  "language_info": {
   "codemirror_mode": {
    "name": "ipython",
    "version": 3
   },
   "file_extension": ".py",
   "mimetype": "text/x-python",
   "name": "python",
   "nbconvert_exporter": "python",
   "pygments_lexer": "ipython3",
   "version": "3.9.7"
  }
 },
 "nbformat": 4,
 "nbformat_minor": 5
}
