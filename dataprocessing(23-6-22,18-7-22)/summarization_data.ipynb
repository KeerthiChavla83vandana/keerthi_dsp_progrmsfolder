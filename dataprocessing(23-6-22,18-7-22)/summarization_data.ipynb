{
 "cells": [
  {
   "cell_type": "code",
   "execution_count": 2,
   "id": "2f4c74d3",
   "metadata": {},
   "outputs": [
    {
     "name": "stdout",
     "output_type": "stream",
     "text": [
      "groupby\n",
      "<pandas.core.groupby.generic.DataFrameGroupBy object at 0x0000016CC737C790>\n"
     ]
    },
    {
     "data": {
      "text/html": [
       "<div>\n",
       "<style scoped>\n",
       "    .dataframe tbody tr th:only-of-type {\n",
       "        vertical-align: middle;\n",
       "    }\n",
       "\n",
       "    .dataframe tbody tr th {\n",
       "        vertical-align: top;\n",
       "    }\n",
       "\n",
       "    .dataframe thead th {\n",
       "        text-align: right;\n",
       "    }\n",
       "</style>\n",
       "<table border=\"1\" class=\"dataframe\">\n",
       "  <thead>\n",
       "    <tr style=\"text-align: right;\">\n",
       "      <th></th>\n",
       "      <th>name</th>\n",
       "      <th>age</th>\n",
       "      <th>gender</th>\n",
       "      <th>phone</th>\n",
       "      <th>branch</th>\n",
       "    </tr>\n",
       "  </thead>\n",
       "  <tbody>\n",
       "    <tr>\n",
       "      <th>0</th>\n",
       "      <td>jaga</td>\n",
       "      <td>30</td>\n",
       "      <td>female</td>\n",
       "      <td>233</td>\n",
       "      <td>cse</td>\n",
       "    </tr>\n",
       "    <tr>\n",
       "      <th>1</th>\n",
       "      <td>keerthi</td>\n",
       "      <td>18</td>\n",
       "      <td>female</td>\n",
       "      <td>630</td>\n",
       "      <td>cse</td>\n",
       "    </tr>\n",
       "    <tr>\n",
       "      <th>2</th>\n",
       "      <td>prasanna</td>\n",
       "      <td>17</td>\n",
       "      <td>female</td>\n",
       "      <td>730</td>\n",
       "      <td>cse</td>\n",
       "    </tr>\n",
       "    <tr>\n",
       "      <th>3</th>\n",
       "      <td>venky</td>\n",
       "      <td>19</td>\n",
       "      <td>female</td>\n",
       "      <td>427</td>\n",
       "      <td>ece</td>\n",
       "    </tr>\n",
       "    <tr>\n",
       "      <th>4</th>\n",
       "      <td>aswini</td>\n",
       "      <td>15</td>\n",
       "      <td>female</td>\n",
       "      <td>908</td>\n",
       "      <td>civil</td>\n",
       "    </tr>\n",
       "    <tr>\n",
       "      <th>5</th>\n",
       "      <td>gopi</td>\n",
       "      <td>13</td>\n",
       "      <td>male</td>\n",
       "      <td>574</td>\n",
       "      <td>mech</td>\n",
       "    </tr>\n",
       "    <tr>\n",
       "      <th>6</th>\n",
       "      <td>madhu</td>\n",
       "      <td>27</td>\n",
       "      <td>male</td>\n",
       "      <td>345</td>\n",
       "      <td>ece</td>\n",
       "    </tr>\n",
       "  </tbody>\n",
       "</table>\n",
       "</div>"
      ],
      "text/plain": [
       "       name  age  gender  phone branch\n",
       "0      jaga   30  female    233    cse\n",
       "1   keerthi   18  female    630    cse\n",
       "2  prasanna   17  female    730    cse\n",
       "3     venky   19  female    427    ece\n",
       "4    aswini   15  female    908  civil\n",
       "5      gopi   13    male    574   mech\n",
       "6     madhu   27    male    345    ece"
      ]
     },
     "execution_count": 2,
     "metadata": {},
     "output_type": "execute_result"
    }
   ],
   "source": [
    "import pandas as pd\n",
    "df=pd.read_csv(\"myfamily.csv\")\n",
    "df\n",
    "print(\"groupby\")\n",
    "\n",
    "print(df.groupby(['gender']))\n",
    "\n",
    "#viewing group\n",
    "df\n",
    "\n"
   ]
  },
  {
   "cell_type": "code",
   "execution_count": 4,
   "id": "ba805d9e",
   "metadata": {},
   "outputs": [
    {
     "data": {
      "text/html": [
       "<div>\n",
       "<style scoped>\n",
       "    .dataframe tbody tr th:only-of-type {\n",
       "        vertical-align: middle;\n",
       "    }\n",
       "\n",
       "    .dataframe tbody tr th {\n",
       "        vertical-align: top;\n",
       "    }\n",
       "\n",
       "    .dataframe thead th {\n",
       "        text-align: right;\n",
       "    }\n",
       "</style>\n",
       "<table border=\"1\" class=\"dataframe\">\n",
       "  <thead>\n",
       "    <tr style=\"text-align: right;\">\n",
       "      <th></th>\n",
       "      <th>First Name</th>\n",
       "      <th>Gender</th>\n",
       "      <th>Start Date</th>\n",
       "      <th>Last Login Time</th>\n",
       "      <th>Salary</th>\n",
       "      <th>Bonus %</th>\n",
       "      <th>Senior Management</th>\n",
       "      <th>Team</th>\n",
       "    </tr>\n",
       "  </thead>\n",
       "  <tbody>\n",
       "    <tr>\n",
       "      <th>0</th>\n",
       "      <td>Douglas</td>\n",
       "      <td>Male</td>\n",
       "      <td>08-06-1993</td>\n",
       "      <td>12:42 PM</td>\n",
       "      <td>97308</td>\n",
       "      <td>6.945</td>\n",
       "      <td>True</td>\n",
       "      <td>Marketing</td>\n",
       "    </tr>\n",
       "    <tr>\n",
       "      <th>1</th>\n",
       "      <td>Thomas</td>\n",
       "      <td>Male</td>\n",
       "      <td>3/31/1996</td>\n",
       "      <td>6:53 AM</td>\n",
       "      <td>61933</td>\n",
       "      <td>4.170</td>\n",
       "      <td>True</td>\n",
       "      <td>NaN</td>\n",
       "    </tr>\n",
       "    <tr>\n",
       "      <th>2</th>\n",
       "      <td>Maria</td>\n",
       "      <td>Female</td>\n",
       "      <td>4/23/1993</td>\n",
       "      <td>11:17 AM</td>\n",
       "      <td>130590</td>\n",
       "      <td>11.858</td>\n",
       "      <td>False</td>\n",
       "      <td>Finance</td>\n",
       "    </tr>\n",
       "    <tr>\n",
       "      <th>3</th>\n",
       "      <td>Jerry</td>\n",
       "      <td>Male</td>\n",
       "      <td>03-04-2005</td>\n",
       "      <td>1:00 PM</td>\n",
       "      <td>138705</td>\n",
       "      <td>9.340</td>\n",
       "      <td>True</td>\n",
       "      <td>Finance</td>\n",
       "    </tr>\n",
       "    <tr>\n",
       "      <th>4</th>\n",
       "      <td>Larry</td>\n",
       "      <td>Male</td>\n",
       "      <td>1/24/1998</td>\n",
       "      <td>4:47 PM</td>\n",
       "      <td>101004</td>\n",
       "      <td>1.389</td>\n",
       "      <td>True</td>\n",
       "      <td>Client Services</td>\n",
       "    </tr>\n",
       "    <tr>\n",
       "      <th>...</th>\n",
       "      <td>...</td>\n",
       "      <td>...</td>\n",
       "      <td>...</td>\n",
       "      <td>...</td>\n",
       "      <td>...</td>\n",
       "      <td>...</td>\n",
       "      <td>...</td>\n",
       "      <td>...</td>\n",
       "    </tr>\n",
       "    <tr>\n",
       "      <th>995</th>\n",
       "      <td>Henry</td>\n",
       "      <td>NaN</td>\n",
       "      <td>11/23/2014</td>\n",
       "      <td>6:09 AM</td>\n",
       "      <td>132483</td>\n",
       "      <td>16.655</td>\n",
       "      <td>False</td>\n",
       "      <td>Distribution</td>\n",
       "    </tr>\n",
       "    <tr>\n",
       "      <th>996</th>\n",
       "      <td>Phillip</td>\n",
       "      <td>Male</td>\n",
       "      <td>1/31/1984</td>\n",
       "      <td>6:30 AM</td>\n",
       "      <td>42392</td>\n",
       "      <td>19.675</td>\n",
       "      <td>False</td>\n",
       "      <td>Finance</td>\n",
       "    </tr>\n",
       "    <tr>\n",
       "      <th>997</th>\n",
       "      <td>Russell</td>\n",
       "      <td>Male</td>\n",
       "      <td>5/20/2013</td>\n",
       "      <td>12:39 PM</td>\n",
       "      <td>96914</td>\n",
       "      <td>1.421</td>\n",
       "      <td>False</td>\n",
       "      <td>Product</td>\n",
       "    </tr>\n",
       "    <tr>\n",
       "      <th>998</th>\n",
       "      <td>Larry</td>\n",
       "      <td>Male</td>\n",
       "      <td>4/20/2013</td>\n",
       "      <td>4:45 PM</td>\n",
       "      <td>60500</td>\n",
       "      <td>11.985</td>\n",
       "      <td>False</td>\n",
       "      <td>Business Development</td>\n",
       "    </tr>\n",
       "    <tr>\n",
       "      <th>999</th>\n",
       "      <td>Albert</td>\n",
       "      <td>Male</td>\n",
       "      <td>5/15/2012</td>\n",
       "      <td>6:24 PM</td>\n",
       "      <td>129949</td>\n",
       "      <td>10.169</td>\n",
       "      <td>True</td>\n",
       "      <td>Sales</td>\n",
       "    </tr>\n",
       "  </tbody>\n",
       "</table>\n",
       "<p>1000 rows × 8 columns</p>\n",
       "</div>"
      ],
      "text/plain": [
       "    First Name  Gender  Start Date Last Login Time  Salary  Bonus %  \\\n",
       "0      Douglas    Male  08-06-1993        12:42 PM   97308    6.945   \n",
       "1       Thomas    Male   3/31/1996         6:53 AM   61933    4.170   \n",
       "2        Maria  Female   4/23/1993        11:17 AM  130590   11.858   \n",
       "3        Jerry    Male  03-04-2005         1:00 PM  138705    9.340   \n",
       "4        Larry    Male   1/24/1998         4:47 PM  101004    1.389   \n",
       "..         ...     ...         ...             ...     ...      ...   \n",
       "995      Henry     NaN  11/23/2014         6:09 AM  132483   16.655   \n",
       "996    Phillip    Male   1/31/1984         6:30 AM   42392   19.675   \n",
       "997    Russell    Male   5/20/2013        12:39 PM   96914    1.421   \n",
       "998      Larry    Male   4/20/2013         4:45 PM   60500   11.985   \n",
       "999     Albert    Male   5/15/2012         6:24 PM  129949   10.169   \n",
       "\n",
       "    Senior Management                  Team  \n",
       "0                True             Marketing  \n",
       "1                True                   NaN  \n",
       "2               False               Finance  \n",
       "3                True               Finance  \n",
       "4                True       Client Services  \n",
       "..                ...                   ...  \n",
       "995             False          Distribution  \n",
       "996             False               Finance  \n",
       "997             False               Product  \n",
       "998             False  Business Development  \n",
       "999              True                 Sales  \n",
       "\n",
       "[1000 rows x 8 columns]"
      ]
     },
     "execution_count": 4,
     "metadata": {},
     "output_type": "execute_result"
    }
   ],
   "source": [
    "import pandas as pd\n",
    "dp=pd.read_csv(\"employees.csv\")\n",
    "dp"
   ]
  },
  {
   "cell_type": "code",
   "execution_count": 16,
   "id": "9659a929",
   "metadata": {},
   "outputs": [
    {
     "name": "stdout",
     "output_type": "stream",
     "text": [
      "groupby\n",
      "<pandas.core.groupby.generic.DataFrameGroupBy object at 0x000001BA6F42A820>\n"
     ]
    },
    {
     "ename": "TypeError",
     "evalue": "'method' object is not subscriptable",
     "output_type": "error",
     "traceback": [
      "\u001b[1;31m---------------------------------------------------------------------------\u001b[0m",
      "\u001b[1;31mTypeError\u001b[0m                                 Traceback (most recent call last)",
      "\u001b[1;32mC:\\Users\\KEERTH~1\\AppData\\Local\\Temp/ipykernel_2928/2226430241.py\u001b[0m in \u001b[0;36m<module>\u001b[1;34m\u001b[0m\n\u001b[0;32m      4\u001b[0m \u001b[1;33m\u001b[0m\u001b[0m\n\u001b[0;32m      5\u001b[0m \u001b[1;31m#viewing groups\u001b[0m\u001b[1;33m\u001b[0m\u001b[1;33m\u001b[0m\u001b[0m\n\u001b[1;32m----> 6\u001b[1;33m \u001b[0mprint\u001b[0m\u001b[1;33m(\u001b[0m\u001b[0mdf\u001b[0m\u001b[1;33m.\u001b[0m\u001b[0mgroupby\u001b[0m\u001b[1;33m[\u001b[0m\u001b[1;34m'gender'\u001b[0m\u001b[1;33m]\u001b[0m\u001b[1;33m.\u001b[0m\u001b[0mgroups\u001b[0m\u001b[1;33m(\u001b[0m\u001b[1;33m)\u001b[0m\u001b[1;33m)\u001b[0m\u001b[1;33m\u001b[0m\u001b[1;33m\u001b[0m\u001b[0m\n\u001b[0m",
      "\u001b[1;31mTypeError\u001b[0m: 'method' object is not subscriptable"
     ]
    }
   ],
   "source": [
    "print(\"groupby\")\n",
    "\n",
    "print(df.groupby(['gender']))\n",
    "\n",
    "#viewing groups\n",
    "print(df.groupby['gender'].groups())"
   ]
  },
  {
   "cell_type": "raw",
   "id": "7f317f5f",
   "metadata": {},
   "source": [
    "# displaying grouped value\n"
   ]
  },
  {
   "cell_type": "code",
   "execution_count": 20,
   "id": "05d61f85",
   "metadata": {},
   "outputs": [
    {
     "name": "stdout",
     "output_type": "stream",
     "text": [
      "       name  age  gender  phone branch\n",
      "0      jaga   30  female    233    cse\n",
      "1   keerthi   18  female    630    cse\n",
      "2  prasanna   17  female    730    cse\n",
      "3     venky   19  female    427    ece\n",
      "4    aswini   15  female    908  civil\n"
     ]
    }
   ],
   "source": [
    "c=df.groupby(['gender'])\n",
    "print(c.get_group('female'))"
   ]
  },
  {
   "cell_type": "code",
   "execution_count": 21,
   "id": "a6200466",
   "metadata": {},
   "outputs": [
    {
     "name": "stdout",
     "output_type": "stream",
     "text": [
      "    name  age gender  phone branch\n",
      "5   gopi   13   male    574   mech\n",
      "6  madhu   27   male    345    ece\n"
     ]
    }
   ],
   "source": [
    "d=df.groupby(['gender'])\n",
    "print(d.get_group('male'))"
   ]
  },
  {
   "cell_type": "code",
   "execution_count": 35,
   "id": "3f2ecf6f",
   "metadata": {},
   "outputs": [
    {
     "name": "stdout",
     "output_type": "stream",
     "text": [
      "{'female': [0, 1, 2, 3, 4], 'male': [5, 6]}\n"
     ]
    }
   ],
   "source": [
    "print(df.groupby(['gender']).groups)"
   ]
  },
  {
   "cell_type": "code",
   "execution_count": 25,
   "id": "f050b3cb",
   "metadata": {},
   "outputs": [
    {
     "name": "stdout",
     "output_type": "stream",
     "text": [
      "after grouping ,perform agrigate function-summarization\n",
      "         name  age  phone branch\n",
      "gender                          \n",
      "female  venky   30    908    ece\n",
      "male    madhu   27    574   mech\n"
     ]
    }
   ],
   "source": [
    "print(\"after grouping ,perform agrigate function-summarization\")\n",
    "print(df.groupby(['gender']).max())"
   ]
  },
  {
   "cell_type": "markdown",
   "id": "78f02d6f",
   "metadata": {},
   "source": [
    "pritn(c.min())"
   ]
  },
  {
   "cell_type": "code",
   "execution_count": 27,
   "id": "786a8f00",
   "metadata": {},
   "outputs": [
    {
     "name": "stdout",
     "output_type": "stream",
     "text": [
      "          name  age  phone branch\n",
      "gender                           \n",
      "female  aswini   15    233  civil\n",
      "male      gopi   13    345    ece\n",
      "group by gender is asigned to c\n"
     ]
    }
   ],
   "source": [
    "print(c.min())\n",
    "\n",
    "print(\"group by gender is asigned to c\")"
   ]
  },
  {
   "cell_type": "code",
   "execution_count": 28,
   "id": "335de935",
   "metadata": {},
   "outputs": [
    {
     "name": "stdout",
     "output_type": "stream",
     "text": [
      "          name  age  phone branch\n",
      "gender                           \n",
      "female  aswini   15    233  civil\n",
      "male      gopi   13    345    ece\n"
     ]
    }
   ],
   "source": [
    "print(df.groupby(['gender']).min())"
   ]
  },
  {
   "cell_type": "code",
   "execution_count": 29,
   "id": "d64752e2",
   "metadata": {},
   "outputs": [
    {
     "name": "stdout",
     "output_type": "stream",
     "text": [
      "        age  phone\n",
      "gender            \n",
      "female   99   2928\n",
      "male     40    919\n"
     ]
    }
   ],
   "source": [
    "print(df.groupby(['gender']).sum())"
   ]
  },
  {
   "cell_type": "code",
   "execution_count": 31,
   "id": "37d045c6",
   "metadata": {},
   "outputs": [
    {
     "name": "stdout",
     "output_type": "stream",
     "text": [
      "         age  phone\n",
      "gender             \n",
      "female  19.8  585.6\n",
      "male    20.0  459.5\n",
      "        name  age  phone  branch\n",
      "gender                          \n",
      "female     5    5      5       5\n",
      "male       2    2      2       2\n"
     ]
    }
   ],
   "source": [
    "print(df.groupby(['gender']).mean())\n",
    "\n",
    "print(df.groupby(['gender']).count())"
   ]
  },
  {
   "cell_type": "code",
   "execution_count": 34,
   "id": "9222ddad",
   "metadata": {},
   "outputs": [
    {
     "name": "stdout",
     "output_type": "stream",
     "text": [
      "grouping 2 colums\n",
      "<pandas.core.groupby.generic.DataFrameGroupBy object at 0x000001BA6F42A7C0>\n"
     ]
    },
    {
     "data": {
      "text/html": [
       "<div>\n",
       "<style scoped>\n",
       "    .dataframe tbody tr th:only-of-type {\n",
       "        vertical-align: middle;\n",
       "    }\n",
       "\n",
       "    .dataframe tbody tr th {\n",
       "        vertical-align: top;\n",
       "    }\n",
       "\n",
       "    .dataframe thead th {\n",
       "        text-align: right;\n",
       "    }\n",
       "</style>\n",
       "<table border=\"1\" class=\"dataframe\">\n",
       "  <thead>\n",
       "    <tr style=\"text-align: right;\">\n",
       "      <th></th>\n",
       "      <th></th>\n",
       "      <th>name</th>\n",
       "      <th>age</th>\n",
       "      <th>phone</th>\n",
       "    </tr>\n",
       "    <tr>\n",
       "      <th>gender</th>\n",
       "      <th>branch</th>\n",
       "      <th></th>\n",
       "      <th></th>\n",
       "      <th></th>\n",
       "    </tr>\n",
       "  </thead>\n",
       "  <tbody>\n",
       "    <tr>\n",
       "      <th rowspan=\"3\" valign=\"top\">female</th>\n",
       "      <th>civil</th>\n",
       "      <td>aswini</td>\n",
       "      <td>15</td>\n",
       "      <td>908</td>\n",
       "    </tr>\n",
       "    <tr>\n",
       "      <th>cse</th>\n",
       "      <td>jaga</td>\n",
       "      <td>30</td>\n",
       "      <td>233</td>\n",
       "    </tr>\n",
       "    <tr>\n",
       "      <th>ece</th>\n",
       "      <td>venky</td>\n",
       "      <td>19</td>\n",
       "      <td>427</td>\n",
       "    </tr>\n",
       "    <tr>\n",
       "      <th rowspan=\"2\" valign=\"top\">male</th>\n",
       "      <th>ece</th>\n",
       "      <td>madhu</td>\n",
       "      <td>27</td>\n",
       "      <td>345</td>\n",
       "    </tr>\n",
       "    <tr>\n",
       "      <th>mech</th>\n",
       "      <td>gopi</td>\n",
       "      <td>13</td>\n",
       "      <td>574</td>\n",
       "    </tr>\n",
       "  </tbody>\n",
       "</table>\n",
       "</div>"
      ],
      "text/plain": [
       "                 name  age  phone\n",
       "gender branch                    \n",
       "female civil   aswini   15    908\n",
       "       cse       jaga   30    233\n",
       "       ece      venky   19    427\n",
       "male   ece      madhu   27    345\n",
       "       mech      gopi   13    574"
      ]
     },
     "execution_count": 34,
     "metadata": {},
     "output_type": "execute_result"
    }
   ],
   "source": [
    "print(\"grouping 2 colums\")\n",
    "a=df.groupby(['gender','branch'])\n",
    "print(a)\n",
    "a.first()"
   ]
  },
  {
   "cell_type": "code",
   "execution_count": 36,
   "id": "4e7a3906",
   "metadata": {},
   "outputs": [
    {
     "name": "stdout",
     "output_type": "stream",
     "text": [
      "{('female', 'civil'): [4], ('female', 'cse'): [0, 1, 2], ('female', 'ece'): [3], ('male', 'ece'): [6], ('male', 'mech'): [5]}\n"
     ]
    }
   ],
   "source": [
    "print(a.groups)"
   ]
  },
  {
   "cell_type": "code",
   "execution_count": 38,
   "id": "9932ac12",
   "metadata": {},
   "outputs": [
    {
     "name": "stdout",
     "output_type": "stream",
     "text": [
      "                   name  age  phone\n",
      "gender branch                      \n",
      "female civil     aswini   15    908\n",
      "       cse     prasanna   30    730\n",
      "       ece        venky   19    427\n",
      "male   ece        madhu   27    345\n",
      "       mech        gopi   13    574\n",
      "                   name  age  phone\n",
      "gender branch                      \n",
      "female civil     aswini   15    908\n",
      "       cse     prasanna   30    730\n",
      "       ece        venky   19    427\n",
      "male   ece        madhu   27    345\n",
      "       mech        gopi   13    574\n"
     ]
    }
   ],
   "source": [
    "print(df.groupby(['gender','branch']).max())\n",
    "#above same as below\n",
    "print(a.max())"
   ]
  },
  {
   "cell_type": "code",
   "execution_count": 40,
   "id": "6b4cf618",
   "metadata": {},
   "outputs": [
    {
     "name": "stdout",
     "output_type": "stream",
     "text": [
      "                 name  age  phone\n",
      "gender branch                    \n",
      "female civil   aswini   15    908\n",
      "       cse       jaga   17    233\n",
      "       ece      venky   19    427\n",
      "male   ece      madhu   27    345\n",
      "       mech      gopi   13    574\n"
     ]
    },
    {
     "data": {
      "text/html": [
       "<div>\n",
       "<style scoped>\n",
       "    .dataframe tbody tr th:only-of-type {\n",
       "        vertical-align: middle;\n",
       "    }\n",
       "\n",
       "    .dataframe tbody tr th {\n",
       "        vertical-align: top;\n",
       "    }\n",
       "\n",
       "    .dataframe thead th {\n",
       "        text-align: right;\n",
       "    }\n",
       "</style>\n",
       "<table border=\"1\" class=\"dataframe\">\n",
       "  <thead>\n",
       "    <tr style=\"text-align: right;\">\n",
       "      <th></th>\n",
       "      <th></th>\n",
       "      <th>name</th>\n",
       "      <th>age</th>\n",
       "      <th>phone</th>\n",
       "    </tr>\n",
       "    <tr>\n",
       "      <th>gender</th>\n",
       "      <th>branch</th>\n",
       "      <th></th>\n",
       "      <th></th>\n",
       "      <th></th>\n",
       "    </tr>\n",
       "  </thead>\n",
       "  <tbody>\n",
       "    <tr>\n",
       "      <th rowspan=\"3\" valign=\"top\">female</th>\n",
       "      <th>civil</th>\n",
       "      <td>aswini</td>\n",
       "      <td>15</td>\n",
       "      <td>908</td>\n",
       "    </tr>\n",
       "    <tr>\n",
       "      <th>cse</th>\n",
       "      <td>jaga</td>\n",
       "      <td>17</td>\n",
       "      <td>233</td>\n",
       "    </tr>\n",
       "    <tr>\n",
       "      <th>ece</th>\n",
       "      <td>venky</td>\n",
       "      <td>19</td>\n",
       "      <td>427</td>\n",
       "    </tr>\n",
       "    <tr>\n",
       "      <th rowspan=\"2\" valign=\"top\">male</th>\n",
       "      <th>ece</th>\n",
       "      <td>madhu</td>\n",
       "      <td>27</td>\n",
       "      <td>345</td>\n",
       "    </tr>\n",
       "    <tr>\n",
       "      <th>mech</th>\n",
       "      <td>gopi</td>\n",
       "      <td>13</td>\n",
       "      <td>574</td>\n",
       "    </tr>\n",
       "  </tbody>\n",
       "</table>\n",
       "</div>"
      ],
      "text/plain": [
       "                 name  age  phone\n",
       "gender branch                    \n",
       "female civil   aswini   15    908\n",
       "       cse       jaga   17    233\n",
       "       ece      venky   19    427\n",
       "male   ece      madhu   27    345\n",
       "       mech      gopi   13    574"
      ]
     },
     "execution_count": 40,
     "metadata": {},
     "output_type": "execute_result"
    }
   ],
   "source": [
    "print(df.groupby(['gender','branch']).min())\n",
    "\n",
    "v=a.min()\n",
    "v"
   ]
  },
  {
   "cell_type": "code",
   "execution_count": 43,
   "id": "bdbe7829",
   "metadata": {},
   "outputs": [
    {
     "name": "stdout",
     "output_type": "stream",
     "text": [
      "<pandas.core.groupby.generic.DataFrameGroupBy object at 0x000001BA6F42AFD0>\n"
     ]
    },
    {
     "data": {
      "text/html": [
       "<div>\n",
       "<style scoped>\n",
       "    .dataframe tbody tr th:only-of-type {\n",
       "        vertical-align: middle;\n",
       "    }\n",
       "\n",
       "    .dataframe tbody tr th {\n",
       "        vertical-align: top;\n",
       "    }\n",
       "\n",
       "    .dataframe thead th {\n",
       "        text-align: right;\n",
       "    }\n",
       "</style>\n",
       "<table border=\"1\" class=\"dataframe\">\n",
       "  <thead>\n",
       "    <tr style=\"text-align: right;\">\n",
       "      <th></th>\n",
       "      <th></th>\n",
       "      <th></th>\n",
       "      <th>name</th>\n",
       "      <th>phone</th>\n",
       "    </tr>\n",
       "    <tr>\n",
       "      <th>gender</th>\n",
       "      <th>branch</th>\n",
       "      <th>age</th>\n",
       "      <th></th>\n",
       "      <th></th>\n",
       "    </tr>\n",
       "  </thead>\n",
       "  <tbody>\n",
       "    <tr>\n",
       "      <th rowspan=\"5\" valign=\"top\">female</th>\n",
       "      <th>civil</th>\n",
       "      <th>15</th>\n",
       "      <td>aswini</td>\n",
       "      <td>908</td>\n",
       "    </tr>\n",
       "    <tr>\n",
       "      <th rowspan=\"3\" valign=\"top\">cse</th>\n",
       "      <th>17</th>\n",
       "      <td>prasanna</td>\n",
       "      <td>730</td>\n",
       "    </tr>\n",
       "    <tr>\n",
       "      <th>18</th>\n",
       "      <td>keerthi</td>\n",
       "      <td>630</td>\n",
       "    </tr>\n",
       "    <tr>\n",
       "      <th>30</th>\n",
       "      <td>jaga</td>\n",
       "      <td>233</td>\n",
       "    </tr>\n",
       "    <tr>\n",
       "      <th>ece</th>\n",
       "      <th>19</th>\n",
       "      <td>venky</td>\n",
       "      <td>427</td>\n",
       "    </tr>\n",
       "    <tr>\n",
       "      <th rowspan=\"2\" valign=\"top\">male</th>\n",
       "      <th>ece</th>\n",
       "      <th>27</th>\n",
       "      <td>madhu</td>\n",
       "      <td>345</td>\n",
       "    </tr>\n",
       "    <tr>\n",
       "      <th>mech</th>\n",
       "      <th>13</th>\n",
       "      <td>gopi</td>\n",
       "      <td>574</td>\n",
       "    </tr>\n",
       "  </tbody>\n",
       "</table>\n",
       "</div>"
      ],
      "text/plain": [
       "                       name  phone\n",
       "gender branch age                 \n",
       "female civil  15     aswini    908\n",
       "       cse    17   prasanna    730\n",
       "              18    keerthi    630\n",
       "              30       jaga    233\n",
       "       ece    19      venky    427\n",
       "male   ece    27      madhu    345\n",
       "       mech   13       gopi    574"
      ]
     },
     "execution_count": 43,
     "metadata": {},
     "output_type": "execute_result"
    }
   ],
   "source": [
    "b=df.groupby(['gender','branch','age'])\n",
    "print(b)\n",
    "\n",
    "b.first()"
   ]
  },
  {
   "cell_type": "code",
   "execution_count": 44,
   "id": "32abd915",
   "metadata": {},
   "outputs": [
    {
     "data": {
      "text/html": [
       "<div>\n",
       "<style scoped>\n",
       "    .dataframe tbody tr th:only-of-type {\n",
       "        vertical-align: middle;\n",
       "    }\n",
       "\n",
       "    .dataframe tbody tr th {\n",
       "        vertical-align: top;\n",
       "    }\n",
       "\n",
       "    .dataframe thead th {\n",
       "        text-align: right;\n",
       "    }\n",
       "</style>\n",
       "<table border=\"1\" class=\"dataframe\">\n",
       "  <thead>\n",
       "    <tr style=\"text-align: right;\">\n",
       "      <th></th>\n",
       "      <th></th>\n",
       "      <th></th>\n",
       "      <th>name</th>\n",
       "      <th>phone</th>\n",
       "    </tr>\n",
       "    <tr>\n",
       "      <th>branch</th>\n",
       "      <th>gender</th>\n",
       "      <th>age</th>\n",
       "      <th></th>\n",
       "      <th></th>\n",
       "    </tr>\n",
       "  </thead>\n",
       "  <tbody>\n",
       "    <tr>\n",
       "      <th>civil</th>\n",
       "      <th>female</th>\n",
       "      <th>15</th>\n",
       "      <td>aswini</td>\n",
       "      <td>908</td>\n",
       "    </tr>\n",
       "    <tr>\n",
       "      <th rowspan=\"3\" valign=\"top\">cse</th>\n",
       "      <th rowspan=\"3\" valign=\"top\">female</th>\n",
       "      <th>17</th>\n",
       "      <td>prasanna</td>\n",
       "      <td>730</td>\n",
       "    </tr>\n",
       "    <tr>\n",
       "      <th>18</th>\n",
       "      <td>keerthi</td>\n",
       "      <td>630</td>\n",
       "    </tr>\n",
       "    <tr>\n",
       "      <th>30</th>\n",
       "      <td>jaga</td>\n",
       "      <td>233</td>\n",
       "    </tr>\n",
       "    <tr>\n",
       "      <th rowspan=\"2\" valign=\"top\">ece</th>\n",
       "      <th>female</th>\n",
       "      <th>19</th>\n",
       "      <td>venky</td>\n",
       "      <td>427</td>\n",
       "    </tr>\n",
       "    <tr>\n",
       "      <th>male</th>\n",
       "      <th>27</th>\n",
       "      <td>madhu</td>\n",
       "      <td>345</td>\n",
       "    </tr>\n",
       "    <tr>\n",
       "      <th>mech</th>\n",
       "      <th>male</th>\n",
       "      <th>13</th>\n",
       "      <td>gopi</td>\n",
       "      <td>574</td>\n",
       "    </tr>\n",
       "  </tbody>\n",
       "</table>\n",
       "</div>"
      ],
      "text/plain": [
       "                       name  phone\n",
       "branch gender age                 \n",
       "civil  female 15     aswini    908\n",
       "cse    female 17   prasanna    730\n",
       "              18    keerthi    630\n",
       "              30       jaga    233\n",
       "ece    female 19      venky    427\n",
       "       male   27      madhu    345\n",
       "mech   male   13       gopi    574"
      ]
     },
     "execution_count": 44,
     "metadata": {},
     "output_type": "execute_result"
    }
   ],
   "source": [
    "d=df.groupby(['branch','gender','age'])\n",
    "d.first()"
   ]
  },
  {
   "cell_type": "code",
   "execution_count": 46,
   "id": "cfe5de88",
   "metadata": {},
   "outputs": [
    {
     "name": "stdout",
     "output_type": "stream",
     "text": [
      "{('civil', 'female', 15): [4], ('cse', 'female', 17): [2], ('cse', 'female', 18): [1], ('cse', 'female', 30): [0], ('ece', 'female', 19): [3], ('ece', 'male', 27): [6], ('mech', 'male', 13): [5]}\n"
     ]
    }
   ],
   "source": [
    "print(d.groups)\n"
   ]
  },
  {
   "cell_type": "code",
   "execution_count": 47,
   "id": "22d05c30",
   "metadata": {},
   "outputs": [
    {
     "name": "stdout",
     "output_type": "stream",
     "text": [
      "                       name  phone\n",
      "branch gender age                 \n",
      "civil  female 15     aswini    908\n",
      "cse    female 17   prasanna    730\n",
      "              18    keerthi    630\n",
      "              30       jaga    233\n",
      "ece    female 19      venky    427\n",
      "       male   27      madhu    345\n",
      "mech   male   13       gopi    574\n",
      "                       name  phone\n",
      "branch gender age                 \n",
      "civil  female 15     aswini    908\n",
      "cse    female 17   prasanna    730\n",
      "              18    keerthi    630\n",
      "              30       jaga    233\n",
      "ece    female 19      venky    427\n",
      "       male   27      madhu    345\n",
      "mech   male   13       gopi    574\n",
      "                   phone\n",
      "branch gender age       \n",
      "civil  female 15     908\n",
      "cse    female 17     730\n",
      "              18     630\n",
      "              30     233\n",
      "ece    female 19     427\n",
      "       male   27     345\n",
      "mech   male   13     574\n",
      "                   phone\n",
      "branch gender age       \n",
      "civil  female 15   908.0\n",
      "cse    female 17   730.0\n",
      "              18   630.0\n",
      "              30   233.0\n",
      "ece    female 19   427.0\n",
      "       male   27   345.0\n",
      "mech   male   13   574.0\n"
     ]
    }
   ],
   "source": [
    "print(df.groupby(['branch','gender','age']).max())\n",
    "\n",
    "print(df.groupby(['branch','gender','age']).min())\n",
    "\n",
    "print(df.groupby(['branch','gender','age']).sum())\n",
    "\n",
    "print(df.groupby(['branch','gender','age']).mean())"
   ]
  },
  {
   "cell_type": "code",
   "execution_count": 48,
   "id": "a94f9460",
   "metadata": {},
   "outputs": [
    {
     "name": "stdout",
     "output_type": "stream",
     "text": [
      "       name  age  gender  phone branch\n",
      "0      jaga   30  female    233    cse\n",
      "1   keerthi   18  female    630    cse\n",
      "2  prasanna   17  female    730    cse\n",
      "3     venky   19  female    427    ece\n",
      "4    aswini   15  female    908  civil\n"
     ]
    }
   ],
   "source": [
    "print(df.groupby(['gender']).get_group('female'))"
   ]
  },
  {
   "cell_type": "code",
   "execution_count": 3,
   "id": "793ee1ab",
   "metadata": {},
   "outputs": [
    {
     "name": "stdout",
     "output_type": "stream",
     "text": [
      "name      age  gender  phone  branch\n",
      "jaga      30   female  233    cse       1\n",
      "keerthi   18   female  630    cse       1\n",
      "prasanna  17   female  730    cse       1\n",
      "dtype: int64\n"
     ]
    }
   ],
   "source": [
    "print(df.groupby(['gender','branch']).get_group(('female','cse')).value_counts())"
   ]
  },
  {
   "cell_type": "code",
   "execution_count": 59,
   "id": "2eae18f7",
   "metadata": {},
   "outputs": [
    {
     "name": "stdout",
     "output_type": "stream",
     "text": [
      "female    5\n",
      "male      2\n",
      "Name: gender, dtype: int64\n"
     ]
    }
   ],
   "source": [
    "\n",
    "print(df.gender.value_counts())"
   ]
  },
  {
   "cell_type": "code",
   "execution_count": 60,
   "id": "9dc90903",
   "metadata": {},
   "outputs": [
    {
     "name": "stdout",
     "output_type": "stream",
     "text": [
      "cse      3\n",
      "ece      2\n",
      "civil    1\n",
      "mech     1\n",
      "Name: branch, dtype: int64\n"
     ]
    }
   ],
   "source": [
    "print(df.branch.value_counts())"
   ]
  },
  {
   "cell_type": "code",
   "execution_count": 62,
   "id": "42e9c14a",
   "metadata": {},
   "outputs": [
    {
     "ename": "NameError",
     "evalue": "name 'branch' is not defined",
     "output_type": "error",
     "traceback": [
      "\u001b[1;31m---------------------------------------------------------------------------\u001b[0m",
      "\u001b[1;31mNameError\u001b[0m                                 Traceback (most recent call last)",
      "\u001b[1;32mC:\\Users\\KEERTH~1\\AppData\\Local\\Temp/ipykernel_2928/3267267091.py\u001b[0m in \u001b[0;36m<module>\u001b[1;34m\u001b[0m\n\u001b[1;32m----> 1\u001b[1;33m \u001b[0mprint\u001b[0m\u001b[1;33m(\u001b[0m\u001b[0mdf\u001b[0m\u001b[1;33m.\u001b[0m\u001b[0mgender\u001b[0m\u001b[1;33m,\u001b[0m\u001b[0mbranch\u001b[0m\u001b[1;33m.\u001b[0m\u001b[0mvalue_counts\u001b[0m\u001b[1;33m(\u001b[0m\u001b[1;33m)\u001b[0m\u001b[1;33m)\u001b[0m\u001b[1;33m\u001b[0m\u001b[1;33m\u001b[0m\u001b[0m\n\u001b[0m",
      "\u001b[1;31mNameError\u001b[0m: name 'branch' is not defined"
     ]
    }
   ],
   "source": [
    "print(df.gender,branch.value_counts())"
   ]
  },
  {
   "cell_type": "code",
   "execution_count": null,
   "id": "42218be5",
   "metadata": {},
   "outputs": [],
   "source": []
  }
 ],
 "metadata": {
  "kernelspec": {
   "display_name": "Python 3 (ipykernel)",
   "language": "python",
   "name": "python3"
  },
  "language_info": {
   "codemirror_mode": {
    "name": "ipython",
    "version": 3
   },
   "file_extension": ".py",
   "mimetype": "text/x-python",
   "name": "python",
   "nbconvert_exporter": "python",
   "pygments_lexer": "ipython3",
   "version": "3.9.7"
  }
 },
 "nbformat": 4,
 "nbformat_minor": 5
}
