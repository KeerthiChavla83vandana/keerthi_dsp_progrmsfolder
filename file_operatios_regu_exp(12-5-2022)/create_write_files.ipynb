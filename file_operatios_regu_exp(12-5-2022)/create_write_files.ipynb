{
 "cells": [
  {
   "cell_type": "code",
   "execution_count": 1,
   "id": "8fe3f667",
   "metadata": {},
   "outputs": [
    {
     "name": "stdout",
     "output_type": "stream",
     "text": [
      "file created\n",
      "End of file\n"
     ]
    }
   ],
   "source": [
    "# creating and writing new file\n",
    "a=open(\"f1.txt\",\"w\")  #file created with f1 \n",
    "print(\"file created\")\n",
    "\n",
    "a.close()\n",
    "print(\"End of file\")"
   ]
  },
  {
   "cell_type": "code",
   "execution_count": 4,
   "id": "b01dce53",
   "metadata": {},
   "outputs": [
    {
     "name": "stdout",
     "output_type": "stream",
     "text": [
      "write some lines\n",
      "file closed\n"
     ]
    }
   ],
   "source": [
    "# writting data in file\n",
    "a=open(\"f1.txt\",\"w\")\n",
    "a.write(\"hello..world \")\n",
    "a.write(\"my world is MY CHELLI AND AMMA\")\n",
    "print(\"write some lines\")\n",
    "a.close()\n",
    "\n",
    "print(\"file closed\")"
   ]
  },
  {
   "cell_type": "code",
   "execution_count": 6,
   "id": "a84f5abc",
   "metadata": {},
   "outputs": [
    {
     "name": "stdout",
     "output_type": "stream",
     "text": [
      "read content\n",
      "hello..world my world is MY CHELLI AND AMMA\n",
      "\n",
      "end\n"
     ]
    }
   ],
   "source": [
    "#read some bytes of content\n",
    "a=open(\"f1.txt\",\"r\")\n",
    "data=a.read()\n",
    "\n",
    "dt=a.read(5)\n",
    "\n",
    "print(\"read content\")\n",
    "\n",
    "print(data)\n",
    "print(dt)\n",
    "\n",
    "a.close()\n",
    "\n",
    "print(\"end\")\n"
   ]
  },
  {
   "cell_type": "markdown",
   "id": "e6dde7d9",
   "metadata": {},
   "source": [
    "# swaping two files"
   ]
  },
  {
   "cell_type": "code",
   "execution_count": 25,
   "id": "c2f5cf96",
   "metadata": {},
   "outputs": [
    {
     "name": "stdout",
     "output_type": "stream",
     "text": [
      "f1:durga prasanna, f2:jaga wrote\n"
     ]
    }
   ],
   "source": [
    "b=open(\"F1.txt\",\"w\")\n",
    "b.write(\"DURGA PRASANNA\")\n",
    "\n",
    "b2=open(\"F2.txt\",\"w\")\n",
    "b2.write(\"JAGADEESWARI 12\")\n",
    "\n",
    "print(\"f1:durga prasanna, f2:jaga wrote\")\n",
    "\n",
    "b.close()\n",
    "b2.close()\n"
   ]
  },
  {
   "cell_type": "code",
   "execution_count": null,
   "id": "bac4ae06",
   "metadata": {},
   "outputs": [],
   "source": [
    "\n"
   ]
  },
  {
   "cell_type": "code",
   "execution_count": 28,
   "id": "7e8928e0",
   "metadata": {},
   "outputs": [
    {
     "name": "stdout",
     "output_type": "stream",
     "text": [
      "DURGA PRASANNA\n",
      "JAGADEESWARI 12\n",
      "DURGA PRASANNA\n",
      "swapping completed\n"
     ]
    }
   ],
   "source": [
    "b=open(\"F1.txt\",\"r\")\n",
    "\n",
    "x=b.read()\n",
    "\n",
    "print(x)\n",
    "\n",
    "\n",
    "\n",
    "\n",
    "\n",
    "b.close()\n",
    "\n",
    "\n",
    "b=open(\"F1.txt\",\"w\")\n",
    "b2=open(\"F2.txt\",\"r\")\n",
    "#swaping\n",
    "b.write(b2.read())\n",
    "b.close()\n",
    "b2.close()\n",
    "\n",
    "b2=open(\"F2.txt\",\"w\")\n",
    "b2.write(x)\n",
    "b2.close()\n",
    "\n",
    "b=open(\"F1.txt\",\"r\")\n",
    "b2=open(\"F2.txt\",\"r\")\n",
    "print(b.read())\n",
    "print(b2.read())\n",
    "\n",
    "b.close()\n",
    "b2.close()\n",
    "print(\"swapping completed\")\n",
    "\n"
   ]
  },
  {
   "cell_type": "code",
   "execution_count": 29,
   "id": "1cfbd558",
   "metadata": {},
   "outputs": [
    {
     "name": "stdout",
     "output_type": "stream",
     "text": [
      "['JAGADEESWARI 12my sis']\n"
     ]
    }
   ],
   "source": [
    "\n",
    "#append linds\n",
    "a=open(\"f1.txt\",\"a\")\n",
    "a.write(\"my sis\")\n",
    "a.close()\n",
    "\n",
    "a=open(\"f1.txt\",\"r\")\n",
    "print(a.readlines())"
   ]
  },
  {
   "cell_type": "code",
   "execution_count": null,
   "id": "67d3edc9",
   "metadata": {},
   "outputs": [],
   "source": []
  }
 ],
 "metadata": {
  "kernelspec": {
   "display_name": "Python 3 (ipykernel)",
   "language": "python",
   "name": "python3"
  },
  "language_info": {
   "codemirror_mode": {
    "name": "ipython",
    "version": 3
   },
   "file_extension": ".py",
   "mimetype": "text/x-python",
   "name": "python",
   "nbconvert_exporter": "python",
   "pygments_lexer": "ipython3",
   "version": "3.9.7"
  }
 },
 "nbformat": 4,
 "nbformat_minor": 5
}
