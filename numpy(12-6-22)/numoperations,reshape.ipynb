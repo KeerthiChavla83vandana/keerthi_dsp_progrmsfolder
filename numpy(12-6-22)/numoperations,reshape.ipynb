{
 "cells": [
  {
   "cell_type": "code",
   "execution_count": 3,
   "id": "ad98d02c",
   "metadata": {},
   "outputs": [
    {
     "name": "stdout",
     "output_type": "stream",
     "text": [
      "[ 1  2  3 23 14]\n",
      "[[ 2  3  8]\n",
      " [33 11 19]\n",
      " [ 7  8 14]]\n",
      "dimention of a2\n",
      "2\n"
     ]
    }
   ],
   "source": [
    "import numpy as np\n",
    "a=np.array([1,2,3,23,14])\n",
    "print(a)\n",
    "\n",
    "#CREATING ARRAY USING LIST\n",
    "l1=[2,3,8]\n",
    "l2=[33,11,19]\n",
    "l3=[7,8,14]\n",
    "a2=np.array([l1,l2,l3])\n",
    "print(a2)\n",
    "\n",
    "print(\"dimention of a2\")\n",
    "print(a2.ndim)"
   ]
  },
  {
   "cell_type": "code",
   "execution_count": 6,
   "id": "35b568eb",
   "metadata": {},
   "outputs": [
    {
     "name": "stdout",
     "output_type": "stream",
     "text": [
      "arrange 10 numbers \n",
      "[0 1 2 3 4 5 6 7 8 9]\n",
      "arrange 9 numbers \n",
      "[0 1 2 3 4 5 6 7 8]\n"
     ]
    }
   ],
   "source": [
    "# arrange 10 numbers\n",
    "print(\"arrange 10 numbers \")\n",
    "b=np.arange(10)\n",
    "print(b)\n",
    "\n",
    "print(\"arrange 9 numbers \")\n",
    "c=np.arange(9)\n",
    "print(c)\n",
    "\n"
   ]
  },
  {
   "cell_type": "code",
   "execution_count": 7,
   "id": "c3c1dd65",
   "metadata": {},
   "outputs": [
    {
     "name": "stdout",
     "output_type": "stream",
     "text": [
      "reshape of3,3\n"
     ]
    },
    {
     "ename": "NameError",
     "evalue": "name 'a3' is not defined",
     "output_type": "error",
     "traceback": [
      "\u001b[1;31m---------------------------------------------------------------------------\u001b[0m",
      "\u001b[1;31mNameError\u001b[0m                                 Traceback (most recent call last)",
      "\u001b[1;32mC:\\Users\\KEERTH~1\\AppData\\Local\\Temp/ipykernel_2184/994667188.py\u001b[0m in \u001b[0;36m<module>\u001b[1;34m\u001b[0m\n\u001b[0;32m      1\u001b[0m \u001b[1;31m#reshape\u001b[0m\u001b[1;33m\u001b[0m\u001b[1;33m\u001b[0m\u001b[0m\n\u001b[0;32m      2\u001b[0m \u001b[0mprint\u001b[0m\u001b[1;33m(\u001b[0m\u001b[1;34m\"reshape of3,3\"\u001b[0m\u001b[1;33m)\u001b[0m\u001b[1;33m\u001b[0m\u001b[1;33m\u001b[0m\u001b[0m\n\u001b[1;32m----> 3\u001b[1;33m \u001b[0mprint\u001b[0m\u001b[1;33m(\u001b[0m\u001b[0ma3\u001b[0m\u001b[1;33m.\u001b[0m\u001b[0mreshape\u001b[0m\u001b[1;33m(\u001b[0m\u001b[1;36m3\u001b[0m\u001b[1;33m,\u001b[0m\u001b[1;36m3\u001b[0m\u001b[1;33m)\u001b[0m\u001b[1;33m)\u001b[0m\u001b[1;33m\u001b[0m\u001b[1;33m\u001b[0m\u001b[0m\n\u001b[0m\u001b[0;32m      4\u001b[0m \u001b[0mprint\u001b[0m\u001b[1;33m(\u001b[0m\u001b[0ma3\u001b[0m\u001b[1;33m)\u001b[0m\u001b[1;33m\u001b[0m\u001b[1;33m\u001b[0m\u001b[0m\n",
      "\u001b[1;31mNameError\u001b[0m: name 'a3' is not defined"
     ]
    }
   ],
   "source": [
    "#reshape\n",
    "print(\"reshape of3,3\")\n",
    "print(a3.reshape(3,3))\n",
    "print(a3)"
   ]
  },
  {
   "cell_type": "code",
   "execution_count": 12,
   "id": "c336cad2",
   "metadata": {},
   "outputs": [
    {
     "name": "stdout",
     "output_type": "stream",
     "text": [
      "reshape of3,3\n",
      "[[0 1 2]\n",
      " [3 4 5]\n",
      " [6 7 8]]\n",
      "[0 1 2 3 4 5 6 7 8]\n",
      "reshape of 2,5\n",
      "[[0 1 2 3 4]\n",
      " [5 6 7 8 9]]\n",
      "[0 1 2 3 4 5 6 7 8 9]\n"
     ]
    }
   ],
   "source": [
    "#reshape\n",
    "print(\"reshape of3,3\")\n",
    "print(c.reshape(3,3))\n",
    "print(\"after reshape ORIGINAL array not changed\")\n",
    "print(c)\n",
    "\n",
    "print(\"reshape of 2,5\")\n",
    "print(b.reshape(2,5))\n",
    "print(b)"
   ]
  },
  {
   "cell_type": "code",
   "execution_count": 1,
   "id": "edf49af5",
   "metadata": {},
   "outputs": [
    {
     "name": "stdout",
     "output_type": "stream",
     "text": [
      "[0 1 2 3 4 5 6 7 8]\n",
      "None\n",
      "[[0 1 2]\n",
      " [3 4 5]\n",
      " [6 7 8]]\n",
      "resize changes ORIGINAL array\n",
      "[[0 1 2]\n",
      " [3 4 5]\n",
      " [6 7 8]]\n"
     ]
    }
   ],
   "source": [
    "import numpy as np\n",
    "dp=np.arange(9)\n",
    "print(dp)\n",
    "\n",
    "\n",
    "print(dp.resize(3,3))\n",
    "print(dp)\n",
    "\n",
    "\n",
    "\n",
    "print(\"resize changes ORIGINAL array\" )\n",
    "print(dp)"
   ]
  },
  {
   "cell_type": "code",
   "execution_count": 13,
   "id": "f21d11ab",
   "metadata": {},
   "outputs": [
    {
     "name": "stdout",
     "output_type": "stream",
     "text": [
      "[[0 1 2]\n",
      " [3 4 5]\n",
      " [6 7 8]]\n"
     ]
    }
   ],
   "source": [
    "print(dp)\n"
   ]
  },
  {
   "cell_type": "code",
   "execution_count": 5,
   "id": "dae41b45",
   "metadata": {},
   "outputs": [
    {
     "name": "stdout",
     "output_type": "stream",
     "text": [
      "[0 1 2 3 4 5 6 7 8]\n",
      "[ 0  2  4  6  8 10 12 14 16 18]\n",
      "[[ 0  2]\n",
      " [ 4  6]\n",
      " [ 8 10]\n",
      " [12 14]\n",
      " [16 18]]\n",
      "dimentions of a4\n",
      "2\n",
      "shape of a4\n",
      "(5, 2)\n",
      "size of a\n",
      "10\n",
      "itemsize\n",
      "4\n",
      "data type of a4\n",
      "int32\n",
      "data a4\n",
      "<memory at 0x00000217DE2A7E10>\n"
     ]
    }
   ],
   "source": [
    "import numpy as np\n",
    "dp=np.arange(9)\n",
    "print(dp)\n",
    "\n",
    "a4=np.arange(0,20,2)\n",
    "print(a4)\n",
    "\n",
    "a4.shape=(5,2)\n",
    "print(a4)\n",
    "\n",
    "print(\"dimentions of a4\")\n",
    "print(a4.ndim)\n",
    "\n",
    "print(\"shape of a4\")\n",
    "print(a4.shape)\n",
    "\n",
    "print(\"size of a\")\n",
    "print(a4.size)\n",
    "\n",
    "print(\"itemsize means no of bytes of each element\")\n",
    "print(a4.itemsize)\n",
    "\n",
    "print(\"data type of a4\")\n",
    "print(a4.dtype)\n",
    "\n",
    "print(\"data a4\")\n",
    "print(a4.data)\n"
   ]
  },
  {
   "cell_type": "code",
   "execution_count": 6,
   "id": "49fb4f18",
   "metadata": {},
   "outputs": [
    {
     "data": {
      "text/plain": [
       "numpy.ndarray"
      ]
     },
     "execution_count": 6,
     "metadata": {},
     "output_type": "execute_result"
    }
   ],
   "source": [
    "type(a4)"
   ]
  },
  {
   "cell_type": "code",
   "execution_count": 11,
   "id": "3e5bedb1",
   "metadata": {},
   "outputs": [
    {
     "name": "stdout",
     "output_type": "stream",
     "text": [
      "[[0. 0. 0.]\n",
      " [0. 0. 0.]]\n",
      "[[0. 0. 0.]\n",
      " [0. 0. 0.]\n",
      " [0. 0. 0.]]\n",
      "[[1. 1.]\n",
      " [1. 1.]\n",
      " [1. 1.]]\n",
      "[[1. 1. 1. 1. 1.]\n",
      " [1. 1. 1. 1. 1.]\n",
      " [1. 1. 1. 1. 1.]\n",
      " [1. 1. 1. 1. 1.]]\n"
     ]
    }
   ],
   "source": [
    "print(np.zeros((2,3)))\n",
    "\n",
    "print(np.zeros((3,3)))\n",
    "\n",
    "print(np.ones((3,2)))\n",
    "\n",
    "print(np.ones((4,5)))\n",
    "\n"
   ]
  },
  {
   "cell_type": "code",
   "execution_count": 14,
   "id": "d49bde33",
   "metadata": {},
   "outputs": [
    {
     "ename": "TypeError",
     "evalue": "empty() missing required argument 'shape' (pos 1)",
     "output_type": "error",
     "traceback": [
      "\u001b[1;31m---------------------------------------------------------------------------\u001b[0m",
      "\u001b[1;31mTypeError\u001b[0m                                 Traceback (most recent call last)",
      "\u001b[1;32mC:\\Users\\KEERTH~1\\AppData\\Local\\Temp/ipykernel_6352/492906589.py\u001b[0m in \u001b[0;36m<module>\u001b[1;34m\u001b[0m\n\u001b[1;32m----> 1\u001b[1;33m \u001b[0mprint\u001b[0m\u001b[1;33m(\u001b[0m\u001b[0mnp\u001b[0m\u001b[1;33m.\u001b[0m\u001b[0mempty\u001b[0m\u001b[1;33m(\u001b[0m\u001b[1;33m)\u001b[0m\u001b[1;33m)\u001b[0m\u001b[1;33m\u001b[0m\u001b[1;33m\u001b[0m\u001b[0m\n\u001b[0m",
      "\u001b[1;31mTypeError\u001b[0m: empty() missing required argument 'shape' (pos 1)"
     ]
    }
   ],
   "source": [
    "print(np.empty())"
   ]
  },
  {
   "cell_type": "code",
   "execution_count": 15,
   "id": "c56af1f4",
   "metadata": {},
   "outputs": [
    {
     "name": "stdout",
     "output_type": "stream",
     "text": [
      "[[1.13710371e-311 2.47032823e-322 0.00000000e+000 0.00000000e+000]\n",
      " [2.22521510e-306 2.92966904e-033 7.17713721e-091 4.31795927e-061]\n",
      " [4.31821937e-038 5.93876662e-038 3.99910963e+252 2.52871062e-052]]\n"
     ]
    }
   ],
   "source": [
    "print(np.empty((3,4)))"
   ]
  },
  {
   "cell_type": "code",
   "execution_count": 16,
   "id": "8f902670",
   "metadata": {},
   "outputs": [
    {
     "name": "stdout",
     "output_type": "stream",
     "text": [
      "[[1. 1. 1.]\n",
      " [1. 1. 1.]]\n"
     ]
    }
   ],
   "source": [
    "print(np.empty((2,3)))"
   ]
  },
  {
   "cell_type": "code",
   "execution_count": 23,
   "id": "04966141",
   "metadata": {},
   "outputs": [
    {
     "name": "stdout",
     "output_type": "stream",
     "text": [
      "[ 0.   2.5  5.   7.5 10. ]\n",
      "[ 1.  4.  7. 10.]\n",
      "[ 1. 10.]\n",
      "[]\n"
     ]
    }
   ],
   "source": [
    "print(np.linspace(0,10,5))\n",
    "\n",
    "print(np.linspace(1,10,4))\n",
    "\n",
    "print(np.linspace(1,10,2))\n",
    "print(np.linspace(1,10,0))"
   ]
  },
  {
   "cell_type": "code",
   "execution_count": 30,
   "id": "1605e5fa",
   "metadata": {},
   "outputs": [
    {
     "name": "stdout",
     "output_type": "stream",
     "text": [
      "[[ 0  2]\n",
      " [ 4  6]\n",
      " [ 8 10]\n",
      " [12 14]\n",
      " [16 18]]\n",
      "90\n",
      "[0 1 2 3 4 5]\n",
      "15\n"
     ]
    }
   ],
   "source": [
    "print(a4)\n",
    "print(np.sum(a4))\n",
    "\n",
    "c=np.arange(0,6)\n",
    "print(c)\n",
    "print(np.sum(c))"
   ]
  },
  {
   "cell_type": "code",
   "execution_count": null,
   "id": "503cadc6",
   "metadata": {},
   "outputs": [],
   "source": []
  }
 ],
 "metadata": {
  "kernelspec": {
   "display_name": "Python 3 (ipykernel)",
   "language": "python",
   "name": "python3"
  },
  "language_info": {
   "codemirror_mode": {
    "name": "ipython",
    "version": 3
   },
   "file_extension": ".py",
   "mimetype": "text/x-python",
   "name": "python",
   "nbconvert_exporter": "python",
   "pygments_lexer": "ipython3",
   "version": "3.9.7"
  }
 },
 "nbformat": 4,
 "nbformat_minor": 5
}
