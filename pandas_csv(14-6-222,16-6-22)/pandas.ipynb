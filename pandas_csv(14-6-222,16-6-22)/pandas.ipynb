{
 "cells": [
  {
   "cell_type": "code",
   "execution_count": 2,
   "id": "555d5ffc",
   "metadata": {},
   "outputs": [
    {
     "name": "stdout",
     "output_type": "stream",
     "text": [
      "    bikes      cars\n",
      "0  pulsur     fords\n",
      "1  bullet      tata\n",
      "2     tvs     bajaj\n",
      "3  activa  rols roy\n"
     ]
    }
   ],
   "source": [
    "import pandas as pd\n",
    "mydataset={'bikes':[\"pulsur\",\"bullet\",\"tvs\",\"activa\"],'cars':[\"fords\",\"tata\",\"bajaj\",\"rols roy\"]}\n",
    "vehicles= pd.DataFrame(mydataset)\n",
    "print(vehicles)\n"
   ]
  },
  {
   "cell_type": "code",
   "execution_count": null,
   "id": "2b5641e1",
   "metadata": {},
   "outputs": [],
   "source": []
  }
 ],
 "metadata": {
  "kernelspec": {
   "display_name": "Python 3 (ipykernel)",
   "language": "python",
   "name": "python3"
  },
  "language_info": {
   "codemirror_mode": {
    "name": "ipython",
    "version": 3
   },
   "file_extension": ".py",
   "mimetype": "text/x-python",
   "name": "python",
   "nbconvert_exporter": "python",
   "pygments_lexer": "ipython3",
   "version": "3.9.7"
  }
 },
 "nbformat": 4,
 "nbformat_minor": 5
}
