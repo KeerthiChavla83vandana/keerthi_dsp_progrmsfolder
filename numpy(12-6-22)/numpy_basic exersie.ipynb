{
 "cells": [
  {
   "cell_type": "code",
   "execution_count": 2,
   "id": "d4b9729a",
   "metadata": {},
   "outputs": [
    {
     "name": "stdout",
     "output_type": "stream",
     "text": [
      "[1 2 3 4 5]\n"
     ]
    }
   ],
   "source": [
    "import numpy as np\n",
    "arr=np.array([1,2,3,4,5])\n",
    "print(arr)"
   ]
  },
  {
   "cell_type": "code",
   "execution_count": 7,
   "id": "6893d635",
   "metadata": {},
   "outputs": [
    {
     "name": "stdout",
     "output_type": "stream",
     "text": [
      "[ 40 500  60 400 250]\n",
      "1.20.3\n"
     ]
    }
   ],
   "source": [
    "my_transaction=np.array([40,500,60,400,250])\n",
    "print(my_transaction)\n",
    "\n",
    "# version function\n",
    "print(np.__version__)"
   ]
  },
  {
   "cell_type": "code",
   "execution_count": 8,
   "id": "09a2e8de",
   "metadata": {},
   "outputs": [
    {
     "ename": "AttributeError",
     "evalue": "module 'numpy' has no attribute '_version_'",
     "output_type": "error",
     "traceback": [
      "\u001b[1;31m---------------------------------------------------------------------------\u001b[0m",
      "\u001b[1;31mAttributeError\u001b[0m                            Traceback (most recent call last)",
      "\u001b[1;32mC:\\Users\\KEERTH~1\\AppData\\Local\\Temp/ipykernel_8940/2767711398.py\u001b[0m in \u001b[0;36m<module>\u001b[1;34m\u001b[0m\n\u001b[1;32m----> 1\u001b[1;33m \u001b[0mprint\u001b[0m\u001b[1;33m(\u001b[0m\u001b[0mnp\u001b[0m\u001b[1;33m.\u001b[0m\u001b[0m_version_\u001b[0m\u001b[1;33m)\u001b[0m\u001b[1;33m\u001b[0m\u001b[1;33m\u001b[0m\u001b[0m\n\u001b[0m",
      "\u001b[1;32m~\\anaconda3\\lib\\site-packages\\numpy\\__init__.py\u001b[0m in \u001b[0;36m__getattr__\u001b[1;34m(attr)\u001b[0m\n\u001b[0;32m    301\u001b[0m                 \u001b[1;32mreturn\u001b[0m \u001b[0mTester\u001b[0m\u001b[1;33m\u001b[0m\u001b[1;33m\u001b[0m\u001b[0m\n\u001b[0;32m    302\u001b[0m \u001b[1;33m\u001b[0m\u001b[0m\n\u001b[1;32m--> 303\u001b[1;33m             raise AttributeError(\"module {!r} has no attribute \"\n\u001b[0m\u001b[0;32m    304\u001b[0m                                  \"{!r}\".format(__name__, attr))\n\u001b[0;32m    305\u001b[0m \u001b[1;33m\u001b[0m\u001b[0m\n",
      "\u001b[1;31mAttributeError\u001b[0m: module 'numpy' has no attribute '_version_'"
     ]
    }
   ],
   "source": [
    "print(np._version_)"
   ]
  },
  {
   "cell_type": "code",
   "execution_count": 9,
   "id": "df1bd165",
   "metadata": {},
   "outputs": [
    {
     "name": "stdout",
     "output_type": "stream",
     "text": [
      "1.20.3\n"
     ]
    }
   ],
   "source": [
    "print(np.__version__)"
   ]
  },
  {
   "cell_type": "code",
   "execution_count": 11,
   "id": "4a58dfb5",
   "metadata": {},
   "outputs": [
    {
     "name": "stdout",
     "output_type": "stream",
     "text": [
      "<class 'numpy.ndarray'>\n",
      "<class 'numpy.ndarray'>\n"
     ]
    }
   ],
   "source": [
    "print(type(my_transaction))\n",
    "print(type(arr))"
   ]
  },
  {
   "cell_type": "code",
   "execution_count": 23,
   "id": "ac2c5574",
   "metadata": {},
   "outputs": [
    {
     "name": "stdout",
     "output_type": "stream",
     "text": [
      "[ 2  3 10  5  8 23 19]\n",
      "no of dimentions: 0\n",
      "310\n",
      "no of dimentions: 1\n",
      "[ 3  6  8  9 24]\n",
      "no of dimentions: 2\n",
      "[[3.  4.  5. ]\n",
      " [2.  2.3 7. ]]\n",
      "no of dimentions: 3\n",
      "[[[ 3  8  9]\n",
      "  [41  4 35]]\n",
      "\n",
      " [[ 0  1 99]\n",
      "  [56 87  0]]]\n"
     ]
    }
   ],
   "source": [
    "# pass tuple to array() methodn\n",
    "# array method retuns list\n",
    "mom=np.array((2,3,10,5,8,23,19))\n",
    "print(mom)\n",
    "\n",
    "# 0 dimension array\n",
    "arr=np.array(310)\n",
    "\n",
    "print(\"no of dimentions:\",arr.ndim)\n",
    "print(arr)\n",
    "\n",
    "# 1 d array\n",
    "b=np.array([3,6,8,9,24])\n",
    "\n",
    "print(\"no of dimentions:\",b.ndim)\n",
    "print(b)\n",
    "\n",
    "\n",
    "# 2D array\n",
    "c=np.array([[3,4,5],[2,2.3,7]])\n",
    "\n",
    "print(\"no of dimentions:\",c.ndim)\n",
    "print(c)\n",
    "\n",
    "# 3D array\n",
    "d=np.array([[[3,8,9],[41,4,35]],[[0,1,99],[56,87,0]]])\n",
    "\n",
    "print(\"no of dimentions:\",d.ndim)\n",
    "print(d)"
   ]
  },
  {
   "cell_type": "code",
   "execution_count": 20,
   "id": "242774fe",
   "metadata": {},
   "outputs": [
    {
     "name": "stdout",
     "output_type": "stream",
     "text": [
      "0\n",
      "1\n",
      "2\n",
      "3\n"
     ]
    }
   ],
   "source": [
    "# number of dimesion OF ARRY\n",
    "print(arr.ndim)\n",
    "\n",
    "\n",
    "print(b.ndim)\n",
    "print(c.ndim)\n",
    "print(d.ndim)"
   ]
  },
  {
   "cell_type": "code",
   "execution_count": 26,
   "id": "ffd764ca",
   "metadata": {},
   "outputs": [
    {
     "name": "stdout",
     "output_type": "stream",
     "text": [
      "array dimenstion: 5\n",
      "[[[[[ 2  4  3  8 10]]]]]\n",
      "array dimension: 3\n",
      "[[[4 8 5]]]\n"
     ]
    }
   ],
   "source": [
    "# HIGHER DIMENSIONS\n",
    "a=np.array([2,4,3,8,10],ndmin=5)\n",
    "print(\"array dimenstion:\",a.ndim)\n",
    "print(a)\n",
    "\n",
    "b=np.array([4,8,5],ndmin=3)\n",
    "print(\"array dimension:\",b.ndim)\n",
    "print(b)"
   ]
  },
  {
   "cell_type": "code",
   "execution_count": 27,
   "id": "a2d4eedc",
   "metadata": {},
   "outputs": [
    {
     "name": "stdout",
     "output_type": "stream",
     "text": [
      "310\n"
     ]
    },
    {
     "ename": "IndexError",
     "evalue": "too many indices for array: array is 0-dimensional, but 1 were indexed",
     "output_type": "error",
     "traceback": [
      "\u001b[1;31m---------------------------------------------------------------------------\u001b[0m",
      "\u001b[1;31mIndexError\u001b[0m                                Traceback (most recent call last)",
      "\u001b[1;32mC:\\Users\\KEERTH~1\\AppData\\Local\\Temp/ipykernel_8940/50781864.py\u001b[0m in \u001b[0;36m<module>\u001b[1;34m\u001b[0m\n\u001b[0;32m      1\u001b[0m \u001b[1;31m#indexing\u001b[0m\u001b[1;33m\u001b[0m\u001b[1;33m\u001b[0m\u001b[0m\n\u001b[0;32m      2\u001b[0m \u001b[0mprint\u001b[0m\u001b[1;33m(\u001b[0m\u001b[0marr\u001b[0m\u001b[1;33m)\u001b[0m\u001b[1;33m\u001b[0m\u001b[1;33m\u001b[0m\u001b[0m\n\u001b[1;32m----> 3\u001b[1;33m \u001b[0mprint\u001b[0m\u001b[1;33m(\u001b[0m\u001b[0marr\u001b[0m\u001b[1;33m[\u001b[0m\u001b[1;36m0\u001b[0m\u001b[1;33m]\u001b[0m\u001b[1;33m)\u001b[0m\u001b[1;33m\u001b[0m\u001b[1;33m\u001b[0m\u001b[0m\n\u001b[0m",
      "\u001b[1;31mIndexError\u001b[0m: too many indices for array: array is 0-dimensional, but 1 were indexed"
     ]
    }
   ],
   "source": [
    "#indexing\n",
    "print(arr)\n",
    "print(arr[0])"
   ]
  },
  {
   "cell_type": "code",
   "execution_count": 30,
   "id": "58fcda0f",
   "metadata": {},
   "outputs": [
    {
     "name": "stdout",
     "output_type": "stream",
     "text": [
      "[ 40 500  60 400 250]\n",
      "500\n",
      "40\n"
     ]
    },
    {
     "ename": "IndexError",
     "evalue": "index 6 is out of bounds for axis 0 with size 5",
     "output_type": "error",
     "traceback": [
      "\u001b[1;31m---------------------------------------------------------------------------\u001b[0m",
      "\u001b[1;31mIndexError\u001b[0m                                Traceback (most recent call last)",
      "\u001b[1;32mC:\\Users\\KEERTH~1\\AppData\\Local\\Temp/ipykernel_8940/180982170.py\u001b[0m in \u001b[0;36m<module>\u001b[1;34m\u001b[0m\n\u001b[0;32m      2\u001b[0m \u001b[0mprint\u001b[0m\u001b[1;33m(\u001b[0m\u001b[0mmy_transaction\u001b[0m\u001b[1;33m[\u001b[0m\u001b[1;36m1\u001b[0m\u001b[1;33m]\u001b[0m\u001b[1;33m)\u001b[0m\u001b[1;33m\u001b[0m\u001b[1;33m\u001b[0m\u001b[0m\n\u001b[0;32m      3\u001b[0m \u001b[0mprint\u001b[0m\u001b[1;33m(\u001b[0m\u001b[0mmy_transaction\u001b[0m\u001b[1;33m[\u001b[0m\u001b[1;36m0\u001b[0m\u001b[1;33m]\u001b[0m\u001b[1;33m)\u001b[0m\u001b[1;33m\u001b[0m\u001b[1;33m\u001b[0m\u001b[0m\n\u001b[1;32m----> 4\u001b[1;33m \u001b[0mprint\u001b[0m\u001b[1;33m(\u001b[0m\u001b[0mmy_transaction\u001b[0m\u001b[1;33m[\u001b[0m\u001b[1;36m6\u001b[0m\u001b[1;33m]\u001b[0m\u001b[1;33m)\u001b[0m\u001b[1;33m\u001b[0m\u001b[1;33m\u001b[0m\u001b[0m\n\u001b[0m",
      "\u001b[1;31mIndexError\u001b[0m: index 6 is out of bounds for axis 0 with size 5"
     ]
    }
   ],
   "source": [
    "print(my_transaction)\n",
    "print(my_transaction[1])\n",
    "print(my_transaction[0])\n",
    "print(my_transaction[6])"
   ]
  },
  {
   "cell_type": "code",
   "execution_count": 37,
   "id": "9d871166",
   "metadata": {},
   "outputs": [
    {
     "name": "stdout",
     "output_type": "stream",
     "text": [
      "[[3.  4.  5. ]\n",
      " [2.  2.3 7. ]]\n",
      "[3. 4. 5.]\n",
      "[2.  2.3 7. ]\n",
      "2.0\n",
      "[2.  2.3 7. ]\n",
      "[3. 4. 5.]\n"
     ]
    }
   ],
   "source": [
    "print(c)\n",
    "print(c[0])\n",
    "print(c[1])\n",
    "print(c[1][0])\n",
    "print(c[-1])\n",
    "print(c[-2])"
   ]
  },
  {
   "cell_type": "code",
   "execution_count": 4,
   "id": "0ab989e1",
   "metadata": {},
   "outputs": [
    {
     "name": "stdout",
     "output_type": "stream",
     "text": [
      "[ 2  3  8 28 23 10]\n",
      "add 2 3 indexes\n",
      "36\n"
     ]
    }
   ],
   "source": [
    "import numpy as np\n",
    "arr=np.array([2,3,8,28,23,10])\n",
    "print(arr)\n",
    "\n",
    "#indexing\n",
    "print(\"add 2 3 indexes\")\n",
    "print(arr[2]+arr[3])\n"
   ]
  },
  {
   "cell_type": "code",
   "execution_count": 12,
   "id": "18501105",
   "metadata": {},
   "outputs": [
    {
     "name": "stdout",
     "output_type": "stream",
     "text": [
      "2nd element  on 1 row\n",
      "2\n",
      "5 th element on 2nd row\n",
      "10\n",
      "negative indexing\n",
      "10\n",
      "2nd row\n",
      "[ 6  7  8  9 10]\n"
     ]
    }
   ],
   "source": [
    "sis = np.array([[1,2,3,4,5], [6,7,8,9,10]])\n",
    "print(\"2nd element  on 1 row\")\n",
    "print(sis[0,1])\n",
    "\n",
    "print(\"5 th element on 2nd row\")\n",
    "print(sis[1,4])\n",
    "\n",
    "print(\"negative indexing\")\n",
    "print(sis[1,-1])\n",
    "\n",
    "print(\"2nd row\")\n",
    "print(sis[-1])\n",
    "               "
   ]
  },
  {
   "cell_type": "code",
   "execution_count": 10,
   "id": "bc258c1c",
   "metadata": {},
   "outputs": [
    {
     "name": "stdout",
     "output_type": "stream",
     "text": [
      "3d array\n",
      "first 2d array\n",
      "[[1 2 3]\n",
      " [4 5 6]]\n",
      "in 2nd 2d array 1st row\n",
      "[7 8 9]\n",
      "in 1st 2d array ,2nd row 3 rd element\n",
      "6\n",
      "1,1\n",
      "[10 11 12]\n",
      "1,1,2\n",
      "12\n",
      "0,1,0\n",
      "4\n"
     ]
    }
   ],
   "source": [
    "print(\"3d array\")\n",
    "mom = np.array([[[1, 2, 3], [4, 5, 6]], [[7, 8, 9], [10, 11, 12]]])\n",
    "print(\"first 2d array\")\n",
    "print(mom[0])\n",
    "print(\"in 2nd 2d array 1st row\")\n",
    "print(mom[1,0])\n",
    "\n",
    "print(\"in 1st 2d array ,2nd row 3 rd element\")\n",
    "print(mom[0,1,2])\n",
    "\n",
    "print(\"1,1\")\n",
    "print(mom[1,1])\n",
    "\n",
    "print(\"1,1,2\")\n",
    "print(mom[1,1,2])\n",
    "\n",
    "print(\"0,1,0\")\n",
    "print(mom[0,1,0])"
   ]
  },
  {
   "cell_type": "code",
   "execution_count": 14,
   "id": "e38e3257",
   "metadata": {},
   "outputs": [
    {
     "name": "stdout",
     "output_type": "stream",
     "text": [
      "1.20.3\n",
      "blas_mkl_info:\n",
      "    libraries = ['mkl_rt']\n",
      "    library_dirs = ['C:/Users/Keerthy Chawla/anaconda3\\\\Library\\\\lib']\n",
      "    define_macros = [('SCIPY_MKL_H', None), ('HAVE_CBLAS', None)]\n",
      "    include_dirs = ['C:/Users/Keerthy Chawla/anaconda3\\\\Library\\\\include']\n",
      "blas_opt_info:\n",
      "    libraries = ['mkl_rt']\n",
      "    library_dirs = ['C:/Users/Keerthy Chawla/anaconda3\\\\Library\\\\lib']\n",
      "    define_macros = [('SCIPY_MKL_H', None), ('HAVE_CBLAS', None)]\n",
      "    include_dirs = ['C:/Users/Keerthy Chawla/anaconda3\\\\Library\\\\include']\n",
      "lapack_mkl_info:\n",
      "    libraries = ['mkl_rt']\n",
      "    library_dirs = ['C:/Users/Keerthy Chawla/anaconda3\\\\Library\\\\lib']\n",
      "    define_macros = [('SCIPY_MKL_H', None), ('HAVE_CBLAS', None)]\n",
      "    include_dirs = ['C:/Users/Keerthy Chawla/anaconda3\\\\Library\\\\include']\n",
      "lapack_opt_info:\n",
      "    libraries = ['mkl_rt']\n",
      "    library_dirs = ['C:/Users/Keerthy Chawla/anaconda3\\\\Library\\\\lib']\n",
      "    define_macros = [('SCIPY_MKL_H', None), ('HAVE_CBLAS', None)]\n",
      "    include_dirs = ['C:/Users/Keerthy Chawla/anaconda3\\\\Library\\\\include']\n",
      "None\n"
     ]
    }
   ],
   "source": [
    "import numpy as np\n",
    "print(np.__version__)\n",
    "\n",
    "print(np.show_config())\n",
    "\n"
   ]
  },
  {
   "cell_type": "code",
   "execution_count": 15,
   "id": "67dfa5ae",
   "metadata": {},
   "outputs": [
    {
     "name": "stdout",
     "output_type": "stream",
     "text": [
      "add(x1, x2, /, out=None, *, where=True, casting='same_kind', order='K', dtype=None, subok=True[, signature, extobj])\n",
      "\n",
      "Add arguments element-wise.\n",
      "\n",
      "Parameters\n",
      "----------\n",
      "x1, x2 : array_like\n",
      "    The arrays to be added.\n",
      "    If ``x1.shape != x2.shape``, they must be broadcastable to a common\n",
      "    shape (which becomes the shape of the output).\n",
      "out : ndarray, None, or tuple of ndarray and None, optional\n",
      "    A location into which the result is stored. If provided, it must have\n",
      "    a shape that the inputs broadcast to. If not provided or None,\n",
      "    a freshly-allocated array is returned. A tuple (possible only as a\n",
      "    keyword argument) must have length equal to the number of outputs.\n",
      "where : array_like, optional\n",
      "    This condition is broadcast over the input. At locations where the\n",
      "    condition is True, the `out` array will be set to the ufunc result.\n",
      "    Elsewhere, the `out` array will retain its original value.\n",
      "    Note that if an uninitialized `out` array is created via the default\n",
      "    ``out=None``, locations within it where the condition is False will\n",
      "    remain uninitialized.\n",
      "**kwargs\n",
      "    For other keyword-only arguments, see the\n",
      "    :ref:`ufunc docs <ufuncs.kwargs>`.\n",
      "\n",
      "Returns\n",
      "-------\n",
      "add : ndarray or scalar\n",
      "    The sum of `x1` and `x2`, element-wise.\n",
      "    This is a scalar if both `x1` and `x2` are scalars.\n",
      "\n",
      "Notes\n",
      "-----\n",
      "Equivalent to `x1` + `x2` in terms of array broadcasting.\n",
      "\n",
      "Examples\n",
      "--------\n",
      ">>> np.add(1.0, 4.0)\n",
      "5.0\n",
      ">>> x1 = np.arange(9.0).reshape((3, 3))\n",
      ">>> x2 = np.arange(3.0)\n",
      ">>> np.add(x1, x2)\n",
      "array([[  0.,   2.,   4.],\n",
      "       [  3.,   5.,   7.],\n",
      "       [  6.,   8.,  10.]])\n",
      "\n",
      "The ``+`` operator can be used as a shorthand for ``np.add`` on ndarrays.\n",
      "\n",
      ">>> x1 = np.arange(9.0).reshape((3, 3))\n",
      ">>> x2 = np.arange(3.0)\n",
      ">>> x1 + x2\n",
      "array([[ 0.,  2.,  4.],\n",
      "       [ 3.,  5.,  7.],\n",
      "       [ 6.,  8., 10.]])\n",
      "None\n"
     ]
    }
   ],
   "source": [
    "# get help on add function\n",
    "import numpy as np\n",
    "print(np.info(np.add))"
   ]
  },
  {
   "cell_type": "code",
   "execution_count": 16,
   "id": "533dfc3d",
   "metadata": {},
   "outputs": [
    {
     "name": "stdout",
     "output_type": "stream",
     "text": [
      "orignal array:\n",
      "[1 2 3 4]\n",
      "test if none of the elements of the said  array is zero:\n",
      "True\n",
      "original array:\n",
      "test if none of the elements of the said array is zero:\n",
      "False\n"
     ]
    }
   ],
   "source": [
    "#checking all element if there is one element 0\n",
    "x=np.array([1,2,3,4])\n",
    "print(\"orignal array:\")\n",
    "print(x)\n",
    "\n",
    "print(\"test if none of the elements of the said  array is zero:\")\n",
    "print(np.all(x))\n",
    "\n",
    "\n",
    "x=np.array([0,3,8,9])\n",
    "print(\"original array:\")\n",
    "\n",
    "print(\"test if none of the elements of the said array is zero:\")\n",
    "print(np.all(x))"
   ]
  },
  {
   "cell_type": "code",
   "execution_count": 17,
   "id": "3d79eedd",
   "metadata": {},
   "outputs": [
    {
     "name": "stdout",
     "output_type": "stream",
     "text": [
      "original array:\n",
      "[1 0 0 0]\n",
      "test whether anyone of the element of given array is non-zeros:\n",
      "True\n",
      "original array:\n",
      "test any one whether any of the element is non-zeros\n",
      "False\n"
     ]
    }
   ],
   "source": [
    "# cheking non zeros\n",
    "y=np.array([1,0,0,0])\n",
    "print(\"original array:\")\n",
    "print(y)\n",
    "\n",
    "print(\"test whether anyone of the element of given array is non-zeros:\")\n",
    "print(np.any(y))\n",
    "\n",
    "y=np.array([0,0,0,0])\n",
    "print(\"original array:\")\n",
    "print(\"test any one whether any of the element is non-zeros\")\n",
    "print(np.any(y))"
   ]
  },
  {
   "cell_type": "code",
   "execution_count": 19,
   "id": "f8435c58",
   "metadata": {},
   "outputs": [
    {
     "name": "stdout",
     "output_type": "stream",
     "text": [
      "original array: \n",
      "[ 1.  0. nan inf]\n",
      "test a given  array elements wise for finiteness:\n",
      "[ True  True False False]\n"
     ]
    }
   ],
   "source": [
    "a=np.array([1,0,np.nan,np.inf])\n",
    "print(\"original array: \")\n",
    "print(a)\n",
    "\n",
    "print(\"test a given  array elements wise for finiteness:\")\n",
    "print(np.isfinite(a))"
   ]
  },
  {
   "cell_type": "code",
   "execution_count": 23,
   "id": "aac240ff",
   "metadata": {},
   "outputs": [
    {
     "name": "stdout",
     "output_type": "stream",
     "text": [
      "original array\n",
      "[ 2.  0. nan inf]\n",
      "test element wiese for positive or  negitive infinity:\n",
      "[False False False  True]\n",
      "array b:\n",
      "[-4. nan inf inf]\n",
      "[False False  True  True]\n"
     ]
    }
   ],
   "source": [
    "a=np.array([2,0,np.nan,np.inf])\n",
    "print(\"original array\")\n",
    "print(a)\n",
    "\n",
    "print(\"test element wiese for positive or  negitive infinity:\")\n",
    "print(np.isinf(a))\n",
    "\n",
    "b=np.array([-4,np.nan,np.inf,np.inf])\n",
    "print(\"array b:\")\n",
    "print(b)\n",
    "print(np.isinf(b))"
   ]
  },
  {
   "cell_type": "code",
   "execution_count": 1,
   "id": "9cd43990",
   "metadata": {},
   "outputs": [
    {
     "name": "stdout",
     "output_type": "stream",
     "text": [
      "orinal array\n",
      "[10. nan inf]\n",
      "test elements for nan values\n",
      "[False  True False]\n"
     ]
    }
   ],
   "source": [
    "import numpy as np\n",
    "# program to test nan values\n",
    "a=np.array([10,np.nan,np.inf])\n",
    "print(\"orinal array\")\n",
    "print(a)\n",
    "print(\"test elements for nan values\")\n",
    "print(np.isnan(a))"
   ]
  },
  {
   "cell_type": "code",
   "execution_count": 3,
   "id": "4e7fecc9",
   "metadata": {},
   "outputs": [
    {
     "name": "stdout",
     "output_type": "stream",
     "text": [
      "original array:\n",
      "[ 2.+5.j  4.+0.j  5.+0.j 43.+0.j  6.+7.j]\n",
      "checking for complex number:\n",
      "[ True False False False  True]\n",
      "cheking for real number:\n",
      "[False  True  True  True False]\n",
      "cheking for scalar:\n",
      "True\n",
      "False\n"
     ]
    }
   ],
   "source": [
    "m=np.array([2+5j,4+0j,5,43,6+7j])\n",
    "print(\"original array:\")\n",
    "print(m)\n",
    "\n",
    "print(\"checking for complex number:\")\n",
    "print(np.iscomplex(m))\n",
    "\n",
    "print(\"cheking for real number:\")\n",
    "print(np.isreal(m))\n",
    "\n",
    "print(\"cheking for scalar:\")\n",
    "print(np.isscalar(3.1))\n",
    "\n",
    "print(np.isscalar([3.1]))"
   ]
  },
  {
   "cell_type": "code",
   "execution_count": 4,
   "id": "6f268635",
   "metadata": {},
   "outputs": [
    {
     "name": "stdout",
     "output_type": "stream",
     "text": [
      "test if two arrays are elements equal with in a tolarence\n",
      "False\n",
      "False\n",
      "False\n",
      "False\n",
      "True\n"
     ]
    }
   ],
   "source": [
    "#tolerence\n",
    "import numpy as np\n",
    "\n",
    "print(\"test if two arrays are elements equal with in a tolarence\")\n",
    "\n",
    "print(np.allclose([1e10,1e-7],[100001e10,1e-8]))\n",
    "print(np.allclose([1e10,1e-8],[100001e10,1e-9]))\n",
    "print(np.allclose([1e10,1e-8],[10001e10,1e-9]))\n",
    "print(np.allclose([1.0,np.nan],[1.0,np.nan]))\n",
    "print(np.allclose([1.0,np.nan],[1.0,np.nan],equal_nan=True))"
   ]
  },
  {
   "cell_type": "code",
   "execution_count": 7,
   "id": "6f7ed160",
   "metadata": {},
   "outputs": [
    {
     "name": "stdout",
     "output_type": "stream",
     "text": [
      "original array:\n",
      "[  1   7  13 105]\n",
      "no of bytes occupied by each elemet\n",
      "4\n",
      "size of the me(mory )occupied by array:\n",
      "%d bytes 16\n",
      "16 bytes\n"
     ]
    }
   ],
   "source": [
    "x=np.array([1,7,13,105])\n",
    "print(\"original array:\")\n",
    "print(x)\n",
    "\n",
    "\n",
    "print(\"no of bytes occupied by each elemet\")\n",
    "print(x.itemsize)\n",
    "\n",
    "print(\"size of the me(mory )occupied by array:\")\n",
    "print(\"%d bytes\",(x.size * x.itemsize))\n",
    "\n",
    "print(\"%d bytes\" % (x.size * x.itemsize))\n"
   ]
  },
  {
   "cell_type": "code",
   "execution_count": 16,
   "id": "95f4f77f",
   "metadata": {},
   "outputs": [
    {
     "name": "stdout",
     "output_type": "stream",
     "text": [
      "an array of 10 zeros:\n",
      "[0. 0. 0. 0. 0. 0. 0. 0. 0. 0.]\n",
      "arrayof 10 1 s:\n",
      "[1. 1. 1. 1. 1. 1. 1. 1. 1. 1.]\n",
      "array of 10 5's:\n",
      "[5. 5. 5. 5. 5. 5. 5. 5. 5. 5.]\n",
      "array of 10 8's\n",
      "[8. 8. 8. 8. 8. 8. 8. 8. 8. 8.]\n",
      "[[0. 0. 0. 0. 0. 0. 0. 0. 0. 0.]\n",
      " [1. 1. 1. 1. 1. 1. 1. 1. 1. 1.]\n",
      " [5. 5. 5. 5. 5. 5. 5. 5. 5. 5.]\n",
      " [8. 8. 8. 8. 8. 8. 8. 8. 8. 8.]]\n",
      "arange in 2x2 \n"
     ]
    },
    {
     "ename": "ValueError",
     "evalue": "cannot reshape array of size 40 into shape (2,2)",
     "output_type": "error",
     "traceback": [
      "\u001b[1;31m---------------------------------------------------------------------------\u001b[0m",
      "\u001b[1;31mValueError\u001b[0m                                Traceback (most recent call last)",
      "\u001b[1;32mC:\\Users\\KEERTH~1\\AppData\\Local\\Temp/ipykernel_5740/4236197942.py\u001b[0m in \u001b[0;36m<module>\u001b[1;34m\u001b[0m\n\u001b[0;32m     20\u001b[0m \u001b[0mprint\u001b[0m\u001b[1;33m(\u001b[0m\u001b[0msu\u001b[0m\u001b[1;33m)\u001b[0m\u001b[1;33m\u001b[0m\u001b[1;33m\u001b[0m\u001b[0m\n\u001b[0;32m     21\u001b[0m \u001b[0mprint\u001b[0m\u001b[1;33m(\u001b[0m\u001b[1;34m\"arange in 2x2 \"\u001b[0m\u001b[1;33m)\u001b[0m\u001b[1;33m\u001b[0m\u001b[1;33m\u001b[0m\u001b[0m\n\u001b[1;32m---> 22\u001b[1;33m \u001b[0mprint\u001b[0m\u001b[1;33m(\u001b[0m\u001b[0msu\u001b[0m\u001b[1;33m.\u001b[0m\u001b[0mreshape\u001b[0m\u001b[1;33m(\u001b[0m\u001b[1;36m2\u001b[0m\u001b[1;33m,\u001b[0m\u001b[1;36m2\u001b[0m\u001b[1;33m)\u001b[0m\u001b[1;33m)\u001b[0m\u001b[1;33m\u001b[0m\u001b[1;33m\u001b[0m\u001b[0m\n\u001b[0m",
      "\u001b[1;31mValueError\u001b[0m: cannot reshape array of size 40 into shape (2,2)"
     ]
    }
   ],
   "source": [
    "#array of 1,0,5s\n",
    "print(\"an array of 10 zeros:\")\n",
    "\n",
    "sa=np.zeros(10)\n",
    "print(sa)\n",
    "\n",
    "sa2=np.ones(10)\n",
    "print(\"arrayof 10 1 s:\")\n",
    "print(sa2)\n",
    "\n",
    "print(\"array of 10 5's:\")\n",
    "sa3=np.ones(10)*5\n",
    "print(sa3)\n",
    "\n",
    "print(\"array of 10 8's\")\n",
    "sa4=np.ones(10)*8\n",
    "print(sa4)\n",
    "\n",
    "su=np.array([sa,sa2,sa3,sa4])\n",
    "print(su)\n",
    "print(\"arange in 2x2 \")\n",
    "print(su.reshape(2,2))"
   ]
  },
  {
   "cell_type": "code",
   "execution_count": 1,
   "id": "d94cf168",
   "metadata": {},
   "outputs": [
    {
     "ename": "NameError",
     "evalue": "name 'np' is not defined",
     "output_type": "error",
     "traceback": [
      "\u001b[1;31m---------------------------------------------------------------------------\u001b[0m",
      "\u001b[1;31mNameError\u001b[0m                                 Traceback (most recent call last)",
      "\u001b[1;32mC:\\Users\\KEERTH~1\\AppData\\Local\\Temp/ipykernel_8660/1518295710.py\u001b[0m in \u001b[0;36m<module>\u001b[1;34m\u001b[0m\n\u001b[1;32m----> 1\u001b[1;33m \u001b[0marr\u001b[0m\u001b[1;33m=\u001b[0m\u001b[0mnp\u001b[0m\u001b[1;33m.\u001b[0m\u001b[0marange\u001b[0m\u001b[1;33m(\u001b[0m\u001b[1;36m30\u001b[0m\u001b[1;33m,\u001b[0m\u001b[1;36m71\u001b[0m\u001b[1;33m)\u001b[0m\u001b[1;33m\u001b[0m\u001b[1;33m\u001b[0m\u001b[0m\n\u001b[0m\u001b[0;32m      2\u001b[0m \u001b[0mprint\u001b[0m\u001b[1;33m(\u001b[0m\u001b[1;34m\"array of the integer from 30 -70\"\u001b[0m\u001b[1;33m)\u001b[0m\u001b[1;33m\u001b[0m\u001b[1;33m\u001b[0m\u001b[0m\n\u001b[0;32m      3\u001b[0m \u001b[0mprint\u001b[0m\u001b[1;33m(\u001b[0m\u001b[0marr\u001b[0m\u001b[1;33m)\u001b[0m\u001b[1;33m\u001b[0m\u001b[1;33m\u001b[0m\u001b[0m\n\u001b[0;32m      4\u001b[0m \u001b[0mprint\u001b[0m\u001b[1;33m(\u001b[0m\u001b[0mtype\u001b[0m\u001b[1;33m(\u001b[0m\u001b[0marr\u001b[0m\u001b[1;33m)\u001b[0m\u001b[1;33m)\u001b[0m\u001b[1;33m\u001b[0m\u001b[1;33m\u001b[0m\u001b[0m\n\u001b[0;32m      5\u001b[0m \u001b[1;33m\u001b[0m\u001b[0m\n",
      "\u001b[1;31mNameError\u001b[0m: name 'np' is not defined"
     ]
    }
   ],
   "source": [
    "arr=np.arange(30,71)\n",
    "print(\"array of the integer from 30 -70\")\n",
    "print(arr)\n",
    "print(type(arr))\n",
    "\n",
    "print(\"arnge in 4x10\")\n",
    "print(arr.reshape(4,10))"
   ]
  },
  {
   "cell_type": "code",
   "execution_count": 23,
   "id": "988d2fb9",
   "metadata": {},
   "outputs": [
    {
     "name": "stdout",
     "output_type": "stream",
     "text": [
      "array of the integer from 30 -70\n",
      "[30 31 32 33 34 35 36 37 38 39 40 41 42 43 44 45 46 47 48 49 50 51 52 53\n",
      " 54 55 56 57 58 59 60 61 62 63 64 65 66 67 68 69]\n",
      "arnge in 4x10\n",
      "[[30 31 32 33 34 35 36 37 38 39]\n",
      " [40 41 42 43 44 45 46 47 48 49]\n",
      " [50 51 52 53 54 55 56 57 58 59]\n",
      " [60 61 62 63 64 65 66 67 68 69]]\n"
     ]
    }
   ],
   "source": [
    "arr=np.arange(30,70)\n",
    "print(\"array of the integer from 30 -70\")\n",
    "print(arr)\n",
    "\n",
    "print(\"arnge in 4x10\")\n",
    "print(arr.reshape(4,10))"
   ]
  },
  {
   "cell_type": "code",
   "execution_count": 26,
   "id": "b4722e40",
   "metadata": {},
   "outputs": [
    {
     "name": "stdout",
     "output_type": "stream",
     "text": [
      "array of all even itegers from 30-70\n",
      "[30 32 34 36 38 40 42 44 46 48 50 52 54 56 58 60 62 64 66 68 70]\n",
      "array of all odd integers from 30-70\n",
      "[31 33 35 37 39 41 43 45 47 49 51 53 55 57 59 61 63 65 67 69]\n"
     ]
    }
   ],
   "source": [
    "nanna=np.arange(30,71,2)\n",
    "print(\"array of all even itegers from 30-70\")\n",
    "print(nanna)\n",
    "\n",
    "mom=np.arange(31,71,2)\n",
    "print(\"array of all odd integers from 30-70\")\n",
    "print(mom)"
   ]
  },
  {
   "cell_type": "raw",
   "id": "e90d9eb4",
   "metadata": {},
   "source": [
    "import numpy as np\n",
    "arr2d=np.identity(3)\n",
    "print(\"3x3 matrix\")\n",
    "print(arr2d)"
   ]
  },
  {
   "cell_type": "code",
   "execution_count": 27,
   "id": "fe444a29",
   "metadata": {},
   "outputs": [
    {
     "name": "stdout",
     "output_type": "stream",
     "text": [
      "3x3 matrix\n",
      "[[1. 0. 0.]\n",
      " [0. 1. 0.]\n",
      " [0. 0. 1.]]\n"
     ]
    }
   ],
   "source": [
    "import numpy as np\n",
    "arr2d=np.identity(3)\n",
    "print(\"3x3 matrix\")\n",
    "print(arr2d)\n",
    "\n"
   ]
  },
  {
   "cell_type": "code",
   "execution_count": 2,
   "id": "9785d8fb",
   "metadata": {},
   "outputs": [
    {
     "name": "stdout",
     "output_type": "stream",
     "text": [
      "original numbers\n",
      "[3 5]\n",
      "[2 5]\n",
      "comparision-grater\n",
      "[ True False]\n",
      "comparision-grater_equal\n",
      "[ True  True]\n",
      "comparision-lesser\n",
      "[False False]\n",
      "comparision-lesser_equal\n",
      "[False  True]\n"
     ]
    }
   ],
   "source": [
    "import numpy as np\n",
    "x=np.array([3,5])\n",
    "y=np.array([2,5])\n",
    "\n",
    "print(\"original numbers\")\n",
    "print(x)\n",
    "print(y)\n",
    "\n",
    "print(\"comparision-grater\")\n",
    "print(np.greater(x,y))\n",
    "\n",
    "\n",
    "print(\"comparision-grater_equal\")\n",
    "print(np.greater_equal(x,y))\n",
    "\n",
    "print(\"comparision-lesser\")\n",
    "print(np.less(x,y))\n",
    "\n",
    "print(\"comparision-lesser_equal\")\n",
    "print(np.less_equal(x,y))\n"
   ]
  },
  {
   "cell_type": "raw",
   "id": "a28b4468",
   "metadata": {},
   "source": [
    "\n"
   ]
  },
  {
   "cell_type": "code",
   "execution_count": 6,
   "id": "0c79d834",
   "metadata": {},
   "outputs": [
    {
     "name": "stdout",
     "output_type": "stream",
     "text": [
      "[8 9]\n",
      "[11  3]\n",
      "greater\n",
      "[False  True]\n",
      "[ True False]\n",
      "greater or equal\n",
      "[False  True]\n",
      "[ True False]\n",
      "less\n",
      "[ True False]\n",
      "less or equal\n",
      "[ True  True]\n"
     ]
    }
   ],
   "source": [
    "r=np.array((8,9))\n",
    "s=np.array((11,3))\n",
    "\n",
    "print(r)\n",
    "print(s)\n",
    "\n",
    "print(\"greater\")\n",
    "print(np.greater(r,s))\n",
    "print(np.greater(s,r))\n",
    "\n",
    "print(\"greater or equal\")\n",
    "print(np.greater_equal(r,s))\n",
    "print(np.greater_equal(s,r))\n",
    "\n",
    "print(\"less\")\n",
    "print(np.less(r,s))\n",
    "\n",
    "print(\"less or equal\")\n",
    "print(np.less_equal(s,s))"
   ]
  },
  {
   "cell_type": "code",
   "execution_count": 14,
   "id": "e56b2791",
   "metadata": {},
   "outputs": [
    {
     "name": "stdout",
     "output_type": "stream",
     "text": [
      "printing random values betwen 0-1\n",
      "[0.74256129 1.73625912 1.67834917]\n",
      "printing random values betwen 0-1\n",
      "[0.74256129 1.73625912 1.67834917]\n",
      "[-2.98277441]\n",
      "printing random values betwen 10-11\n",
      "[10.48342666]\n",
      "printing 3 random values betwen 15-6\n",
      "[9.58919116 3.55696628 3.68835965]\n"
     ]
    }
   ],
   "source": [
    "ran_num=np.random.normal((0,1,1))\n",
    "print(\"printing random values betwen 0-1\")\n",
    "print(ran_num)\n",
    "\n",
    "an_num=np.random.normal(0,1,2)\n",
    "print(\"printing random values betwen 0-1\")\n",
    "print(ran_num)\n",
    "\n",
    "t=np.random.normal(5,6,1)\n",
    "print(t)\n",
    "\n",
    "n_num=np.random.normal(10,11,1)\n",
    "print(\"printing random values betwen 10-11\")\n",
    "print(n_num)\n",
    "\n",
    "t=np.random.normal(5,6,3)\n",
    "print(\"printing 3 random values betwen 15-6\")\n",
    "print(t)\n"
   ]
  },
  {
   "cell_type": "code",
   "execution_count": 15,
   "id": "e4aed9bb",
   "metadata": {},
   "outputs": [
    {
     "name": "stdout",
     "output_type": "stream",
     "text": [
      "15 random values in between 0-1 from a standard normal distibution\n",
      "[-0.6424095   0.82205299 -1.50877285  0.69775242 -0.58647837  2.487996\n",
      " -0.94221985 -1.25615724 -0.89265085  1.08626934  0.46312857 -0.25626251\n",
      "  0.38741936 -2.28730668  0.86775538]\n"
     ]
    }
   ],
   "source": [
    "print(\"15 random values in between 0-1 from a standard normal distibution\")\n",
    "surya=np.random.normal(0,1,15)\n",
    "print(surya)"
   ]
  },
  {
   "cell_type": "code",
   "execution_count": 2,
   "id": "550e52bc",
   "metadata": {},
   "outputs": [
    {
     "ename": "TypeError",
     "evalue": "array() takes from 1 to 2 positional arguments but 3 were given",
     "output_type": "error",
     "traceback": [
      "\u001b[1;31m---------------------------------------------------------------------------\u001b[0m",
      "\u001b[1;31mTypeError\u001b[0m                                 Traceback (most recent call last)",
      "\u001b[1;32mC:\\Users\\KEERTH~1\\AppData\\Local\\Temp/ipykernel_8660/1649766661.py\u001b[0m in \u001b[0;36m<module>\u001b[1;34m\u001b[0m\n\u001b[0;32m      1\u001b[0m \u001b[1;32mimport\u001b[0m \u001b[0mnumpy\u001b[0m \u001b[1;32mas\u001b[0m \u001b[0mnp\u001b[0m\u001b[1;33m\u001b[0m\u001b[1;33m\u001b[0m\u001b[0m\n\u001b[1;32m----> 2\u001b[1;33m \u001b[0mf\u001b[0m\u001b[1;33m=\u001b[0m\u001b[0mnp\u001b[0m\u001b[1;33m.\u001b[0m\u001b[0marray\u001b[0m\u001b[1;33m(\u001b[0m\u001b[1;36m3\u001b[0m\u001b[1;33m,\u001b[0m\u001b[1;36m10\u001b[0m\u001b[1;33m,\u001b[0m\u001b[1;36m8\u001b[0m\u001b[1;33m)\u001b[0m\u001b[1;33m\u001b[0m\u001b[1;33m\u001b[0m\u001b[0m\n\u001b[0m\u001b[0;32m      3\u001b[0m \u001b[0mprint\u001b[0m\u001b[1;33m(\u001b[0m\u001b[0mf\u001b[0m\u001b[1;33m)\u001b[0m\u001b[1;33m\u001b[0m\u001b[1;33m\u001b[0m\u001b[0m\n\u001b[0;32m      4\u001b[0m \u001b[0mprint\u001b[0m\u001b[1;33m(\u001b[0m\u001b[0mtype\u001b[0m\u001b[1;33m(\u001b[0m\u001b[0mf\u001b[0m\u001b[1;33m)\u001b[0m\u001b[1;33m)\u001b[0m\u001b[1;33m\u001b[0m\u001b[1;33m\u001b[0m\u001b[0m\n",
      "\u001b[1;31mTypeError\u001b[0m: array() takes from 1 to 2 positional arguments but 3 were given"
     ]
    }
   ],
   "source": [
    "import numpy as np\n",
    "f=np.array(3,10,8)\n",
    "print(f)\n",
    "print(type(f))"
   ]
  },
  {
   "cell_type": "code",
   "execution_count": 3,
   "id": "8ee3394f",
   "metadata": {},
   "outputs": [
    {
     "name": "stdout",
     "output_type": "stream",
     "text": [
      "original vector:\n",
      "[15 16 17 18 19 20 21 22 23 24 25 26 27 28 29 30 31 32 33 34 35 36 37 38\n",
      " 39 40 41 42 43 44 45 46 47 48 49 50 51 52 53 54]\n",
      "printing vector except 1st and last element\n",
      "[16 17 18 19 20 21 22 23 24 25 26 27 28 29 30 31 32 33 34 35 36 37 38 39\n",
      " 40 41 42 43 44 45 46 47 48 49 50 51 52 53]\n"
     ]
    }
   ],
   "source": [
    "v=np.arange(15,55)\n",
    "print(\"original vector:\")\n",
    "print(v)\n",
    "\n",
    "print(\"printing vector except 1st and last element\")\n",
    "print(v[1:-1])"
   ]
  },
  {
   "cell_type": "code",
   "execution_count": 6,
   "id": "78e5151e",
   "metadata": {},
   "outputs": [
    {
     "name": "stdout",
     "output_type": "stream",
     "text": [
      "original array\n",
      "[[10 11 12 13]\n",
      " [14 15 16 17]\n",
      " [18 19 20 21]]\n",
      "each element of array is:\n",
      "10 11 12 13 14 15 16 17 18 19 20 21 "
     ]
    }
   ],
   "source": [
    "sis=np.arange(10,22).reshape((3,4))\n",
    "print(\"original array\")\n",
    "\n",
    "print(sis)\n",
    "\n",
    "print(\"each element of array is:\")\n",
    "for x in np.nditer(sis):\n",
    "    print(x,end=\" \")"
   ]
  },
  {
   "cell_type": "code",
   "execution_count": 4,
   "id": "2e8a269f",
   "metadata": {},
   "outputs": [
    {
     "name": "stdout",
     "output_type": "stream",
     "text": [
      "length 10 with values distributed between 5 50:\n",
      "[10.   19.75 29.5  39.25 49.  ]\n",
      " length 5 with values distributed between 5 50\n",
      "[ 5.   16.25 27.5  38.75 50.  ]\n"
     ]
    }
   ],
   "source": [
    "import numpy as np\n",
    "v=np.linspace(10,49,5)\n",
    "print(\"length 10 with values distributed between 5 50:\")\n",
    "print(v)\n",
    "\n",
    "n=np.linspace(5,50,5)\n",
    "print(\" length 5 with values distributed between 5 50\")\n",
    "print(n)"
   ]
  },
  {
   "cell_type": "code",
   "execution_count": 8,
   "id": "f9976996",
   "metadata": {},
   "outputs": [
    {
     "name": "stdout",
     "output_type": "stream",
     "text": [
      "orinal vector:\n",
      "[ 0  1  2  3  4  5  6  7  8  9 10 11 12 13 14 15 16 17 18 19 20]\n",
      "after changeing the sign of the number in the range from 9-15\n",
      "[  0   1   2   3   4   5   6   7   8  -9 -10 -11 -12 -13 -14 -15  16  17\n",
      "  18  19  20]\n",
      "[ 0  1  2  3 -1 -1 -1 -1 -1 -1 -1 -1 -1 13 14 15 16 17 18 19]\n"
     ]
    }
   ],
   "source": [
    "x=np.arange(21)\n",
    "print(\"orinal vector:\")\n",
    "print(x)\n",
    "\n",
    "print(\"after changeing the sign of the number in the range from 9-15\")\n",
    "\n",
    "x[(x >= 9) & (x <= 15)] *= -1\n",
    "print(x)\n",
    "\n",
    "y=np.arange(20)\n",
    "y[(y >= 4) & (y <= 12)] = -1\n",
    "print(y)"
   ]
  },
  {
   "cell_type": "code",
   "execution_count": 2,
   "id": "235dacee",
   "metadata": {},
   "outputs": [
    {
     "name": "stdout",
     "output_type": "stream",
     "text": [
      "vector of length 5 filled witharbitary from 0 to10\n",
      "[ 1  5  8 10  2]\n"
     ]
    }
   ],
   "source": [
    "import numpy as np\n",
    "x=np.random.randint(0,11,5)\n",
    "print(\"vector of length 5 filled witharbitary from 0 to10\")\n",
    "print(x)"
   ]
  },
  {
   "cell_type": "code",
   "execution_count": 4,
   "id": "d451372f",
   "metadata": {},
   "outputs": [
    {
     "name": "stdout",
     "output_type": "stream",
     "text": [
      "vector-1\n",
      "[1 8 3 5]\n",
      "vector-2\n",
      "[9 1 1 3]\n",
      "multiply the values of two said vectors:\n",
      "[ 9  8  3 15]\n"
     ]
    }
   ],
   "source": [
    "import numpy as np\n",
    "x=np.array([1,8,3,5])\n",
    "print(\"vector-1\")\n",
    "print(x)\n",
    "\n",
    "y=np.random.randint(0,11,4)\n",
    "print(\"vector-2\")\n",
    "print(y)\n",
    "\n",
    "result=x*y\n",
    "\n",
    "print(\"multiply the values of two said vectors:\")\n",
    "print(result)"
   ]
  },
  {
   "cell_type": "code",
   "execution_count": 5,
   "id": "19f98acf",
   "metadata": {},
   "outputs": [
    {
     "name": "stdout",
     "output_type": "stream",
     "text": [
      "vector-2\n",
      "[7 7 2 8]\n"
     ]
    }
   ],
   "source": [
    "y=np.random.randint(0,11,4)\n",
    "print(\"vector-2\")\n",
    "print(y)\n"
   ]
  },
  {
   "cell_type": "code",
   "execution_count": 6,
   "id": "f5725000",
   "metadata": {},
   "outputs": [
    {
     "name": "stdout",
     "output_type": "stream",
     "text": [
      "arrange 3x4 matric with 10-21 values\n",
      "[[10 11 12 13]\n",
      " [14 15 16 17]\n",
      " [18 19 20 21]]\n"
     ]
    }
   ],
   "source": [
    "print(\"arrange 3x4 matric with 10-21 values\")\n",
    "m=np.arange(10,22).reshape((3,4))\n",
    "print(m)"
   ]
  },
  {
   "cell_type": "code",
   "execution_count": 9,
   "id": "13dabfef",
   "metadata": {},
   "outputs": [
    {
     "name": "stdout",
     "output_type": "stream",
     "text": [
      "finding no of rows and colums of a given matrix\n",
      "[[0 1 2 3 4]\n",
      " [5 6 7 8 9]]\n",
      "no of rows and colums:\n",
      "(2, 5)\n"
     ]
    }
   ],
   "source": [
    "print(\"finding no of rows and colums of a given matrix\")\n",
    "m=np.arange(0,10).reshape((2,5))\n",
    "print(m)\n",
    "\n",
    "print(\"no of rows and colums:\")\n",
    "print(m.shape)"
   ]
  },
  {
   "cell_type": "code",
   "execution_count": 11,
   "id": "43e92ecd",
   "metadata": {},
   "outputs": [
    {
     "name": "stdout",
     "output_type": "stream",
     "text": [
      " creating 3x3 matrix with diagonla=1,remaing =0\n",
      "[[1. 0. 0.]\n",
      " [0. 1. 0.]\n",
      " [0. 0. 1.]]\n",
      " creating 4x4 matrix with diagonla=1,remaing =0\n",
      "[[1. 0. 0. 0.]\n",
      " [0. 1. 0. 0.]\n",
      " [0. 0. 1. 0.]\n",
      " [0. 0. 0. 1.]]\n"
     ]
    }
   ],
   "source": [
    "import numpy as np\n",
    "print(\" creating 3x3 matrix with diagonla=1,remaing =0\")\n",
    "x=np.eye(3)\n",
    "print(x)\n",
    "\n",
    "print(\" creating 4x4 matrix with diagonla=1,remaing =0\")\n",
    "y=np.eye(4)\n",
    "print(y)"
   ]
  },
  {
   "cell_type": "code",
   "execution_count": 12,
   "id": "9f63ba3b",
   "metadata": {},
   "outputs": [
    {
     "name": "stdout",
     "output_type": "stream",
     "text": [
      "[[1. 1. 1. 1. 1. 1. 1. 1. 1. 1.]\n",
      " [1. 0. 0. 0. 0. 0. 0. 0. 0. 1.]\n",
      " [1. 0. 0. 0. 0. 0. 0. 0. 0. 1.]\n",
      " [1. 0. 0. 0. 0. 0. 0. 0. 0. 1.]\n",
      " [1. 0. 0. 0. 0. 0. 0. 0. 0. 1.]\n",
      " [1. 0. 0. 0. 0. 0. 0. 0. 0. 1.]\n",
      " [1. 0. 0. 0. 0. 0. 0. 0. 0. 1.]\n",
      " [1. 0. 0. 0. 0. 0. 0. 0. 0. 1.]\n",
      " [1. 0. 0. 0. 0. 0. 0. 0. 0. 1.]\n",
      " [1. 1. 1. 1. 1. 1. 1. 1. 1. 1.]]\n"
     ]
    }
   ],
   "source": [
    "x=np.ones((10,10))\n",
    "x[1:-1,1:-1]=0\n",
    "print(x)\n",
    "#except border remaing as 0\n"
   ]
  },
  {
   "cell_type": "code",
   "execution_count": 13,
   "id": "534f2f03",
   "metadata": {},
   "outputs": [
    {
     "name": "stdout",
     "output_type": "stream",
     "text": [
      "5x5 zero matrix with diagonal elements =1,2,3,4,5\n",
      "[[1 0 0 0 0]\n",
      " [0 2 0 0 0]\n",
      " [0 0 3 0 0]\n",
      " [0 0 0 4 0]\n",
      " [0 0 0 0 5]]\n",
      "[[ 3  0  0]\n",
      " [ 0  8  0]\n",
      " [ 0  0 10]]\n"
     ]
    }
   ],
   "source": [
    "print(\"5x5 zero matrix with diagonal elements =1,2,3,4,5\")\n",
    "n=np.diag([1,2,3,4,5])\n",
    "print(n)\n",
    "\n",
    "x=np.diag([3,8,10])\n",
    "print(x)"
   ]
  },
  {
   "cell_type": "code",
   "execution_count": 14,
   "id": "a9a53ce7",
   "metadata": {},
   "outputs": [
    {
     "name": "stdout",
     "output_type": "stream",
     "text": [
      "4x4 in which 0-1 are staggared ,eith zeros on the main diagonal\n",
      "[[0. 1. 0. 1.]\n",
      " [1. 0. 1. 0.]\n",
      " [0. 1. 0. 1.]\n",
      " [1. 0. 1. 0.]]\n"
     ]
    }
   ],
   "source": [
    "print(\"4x4 in which 0-1 are staggared ,eith zeros on the main diagonal\")\n",
    "x=np.zeros((4,4))\n",
    "x[::2, 1::2]=1\n",
    "x[1::2, ::2]=1\n",
    "print(x)"
   ]
  },
  {
   "cell_type": "code",
   "execution_count": 15,
   "id": "623633dc",
   "metadata": {},
   "outputs": [
    {
     "name": "stdout",
     "output_type": "stream",
     "text": [
      "3x3x3 matrix with random values\n",
      "[[[0.54310914 0.83533671 0.84695944]\n",
      "  [0.76118138 0.94516032 0.92159754]\n",
      "  [0.50243036 0.1886428  0.3250628 ]]\n",
      "\n",
      " [[0.18565935 0.50383743 0.54566137]\n",
      "  [0.40864227 0.73922642 0.06020175]\n",
      "  [0.41898551 0.89380209 0.96318414]]\n",
      "\n",
      " [[0.29609527 0.81868541 0.17167762]\n",
      "  [0.72669508 0.53942508 0.37637135]\n",
      "  [0.4731352  0.13379121 0.19299361]]]\n"
     ]
    }
   ],
   "source": [
    "print(\"3x3x3 matrix with random values\")\n",
    "x=np.random.random((3,3,3,))\n",
    "print(x)"
   ]
  },
  {
   "cell_type": "code",
   "execution_count": 16,
   "id": "50f48be5",
   "metadata": {},
   "outputs": [
    {
     "name": "stdout",
     "output_type": "stream",
     "text": [
      "original array\n",
      "[[0 1]\n",
      " [2 3]]\n",
      "sum of all elements:\n",
      "6\n",
      "sum of each colum\n",
      "[2 4]\n",
      "sum of each row:\n",
      "[1 5]\n"
     ]
    }
   ],
   "source": [
    "j=np.array([[0,1],[2,3]])\n",
    "print(\"original array\")\n",
    "print(j)\n",
    "\n",
    "print(\"sum of all elements:\")\n",
    "print(np.sum(j))\n",
    "\n",
    "print(\"sum of each colum\")\n",
    "print(np.sum(j,axis=0))\n",
    "\n",
    "print(\"sum of each row:\")\n",
    "print(np.sum(j,axis=1))"
   ]
  },
  {
   "cell_type": "code",
   "execution_count": 17,
   "id": "934b991d",
   "metadata": {},
   "outputs": [
    {
     "name": "stdout",
     "output_type": "stream",
     "text": [
      "original array vectors:\n",
      "[4 5]\n",
      "[ 7 10]\n",
      "inner product of said vectors:\n",
      "78\n"
     ]
    }
   ],
   "source": [
    "x=np.array([4,5])\n",
    "y=np.array([7,10])\n",
    "\n",
    "print(\"original array vectors:\")\n",
    "print(x)\n",
    "print(y)\n",
    "\n",
    "print(\"inner product of said vectors:\")\n",
    "print(np.dot(x,y))"
   ]
  },
  {
   "cell_type": "code",
   "execution_count": 18,
   "id": "bb7589ad",
   "metadata": {},
   "outputs": [
    {
     "name": "stdout",
     "output_type": "stream",
     "text": [
      "original array\n",
      "[1 1 0]\n",
      "original matirx\n",
      "[[ 1  2  3]\n",
      " [ 4  5  6]\n",
      " [ 7  8  9]\n",
      " [10 11 12]]\n"
     ]
    },
    {
     "ename": "ValueError",
     "evalue": "operands could not be broadcast together with shapes (4,) (4,3) ",
     "output_type": "error",
     "traceback": [
      "\u001b[1;31m---------------------------------------------------------------------------\u001b[0m",
      "\u001b[1;31mValueError\u001b[0m                                Traceback (most recent call last)",
      "\u001b[1;32mC:\\Users\\KEERTH~1\\AppData\\Local\\Temp/ipykernel_6400/2936348144.py\u001b[0m in \u001b[0;36m<module>\u001b[1;34m\u001b[0m\n\u001b[0;32m      7\u001b[0m \u001b[0mprint\u001b[0m\u001b[1;33m(\u001b[0m\u001b[0mm\u001b[0m\u001b[1;33m)\u001b[0m\u001b[1;33m\u001b[0m\u001b[1;33m\u001b[0m\u001b[0m\n\u001b[0;32m      8\u001b[0m \u001b[1;33m\u001b[0m\u001b[0m\n\u001b[1;32m----> 9\u001b[1;33m \u001b[0mresult\u001b[0m\u001b[1;33m-\u001b[0m\u001b[0mnp\u001b[0m\u001b[1;33m.\u001b[0m\u001b[0mempty_like\u001b[0m\u001b[1;33m(\u001b[0m\u001b[0mm\u001b[0m\u001b[1;33m)\u001b[0m\u001b[1;33m\u001b[0m\u001b[1;33m\u001b[0m\u001b[0m\n\u001b[0m\u001b[0;32m     10\u001b[0m \u001b[1;33m\u001b[0m\u001b[0m\n\u001b[0;32m     11\u001b[0m \u001b[1;32mfor\u001b[0m \u001b[0mi\u001b[0m \u001b[1;32min\u001b[0m \u001b[0mrange\u001b[0m\u001b[1;33m(\u001b[0m\u001b[1;36m4\u001b[0m\u001b[1;33m)\u001b[0m\u001b[1;33m:\u001b[0m\u001b[1;33m\u001b[0m\u001b[1;33m\u001b[0m\u001b[0m\n",
      "\u001b[1;31mValueError\u001b[0m: operands could not be broadcast together with shapes (4,) (4,3) "
     ]
    }
   ],
   "source": [
    "m=np.array([[1,2,3],[4,5,6],[7,8,9],[10,11,12]])\n",
    "v=np.array([1,1,0])\n",
    "print(\"original array\")\n",
    "\n",
    "print(v)\n",
    "print(\"original matirx\")\n",
    "print(m)\n",
    "\n",
    "result-np.empty_like(m)\n",
    "\n",
    "for i in range(4):\n",
    "    result[i, :]=m[i, :]+v\n",
    "print(\"after adding the vector v to each row of the matrix m :\")\n",
    "print(result)"
   ]
  },
  {
   "cell_type": "code",
   "execution_count": null,
   "id": "657af235",
   "metadata": {},
   "outputs": [],
   "source": []
  }
 ],
 "metadata": {
  "kernelspec": {
   "display_name": "Python 3 (ipykernel)",
   "language": "python",
   "name": "python3"
  },
  "language_info": {
   "codemirror_mode": {
    "name": "ipython",
    "version": 3
   },
   "file_extension": ".py",
   "mimetype": "text/x-python",
   "name": "python",
   "nbconvert_exporter": "python",
   "pygments_lexer": "ipython3",
   "version": "3.9.7"
  }
 },
 "nbformat": 4,
 "nbformat_minor": 5
}
