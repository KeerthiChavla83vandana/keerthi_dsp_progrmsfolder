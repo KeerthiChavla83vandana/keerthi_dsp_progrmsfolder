{
 "cells": [
  {
   "cell_type": "markdown",
   "id": "5febbf0d",
   "metadata": {},
   "source": [
    "# Regular Expressions"
   ]
  },
  {
   "cell_type": "code",
   "execution_count": 1,
   "id": "39a417d6",
   "metadata": {},
   "outputs": [],
   "source": [
    "import re\n",
    "name=\"Vandana Durga prasanna\"\n",
    "sis=\"she is my sis,sis\"\n"
   ]
  },
  {
   "cell_type": "code",
   "execution_count": 7,
   "id": "fe2619f5",
   "metadata": {},
   "outputs": [
    {
     "name": "stdout",
     "output_type": "stream",
     "text": [
      "<re.Match object; span=(8, 11), match='Dur'>\n",
      "None\n"
     ]
    }
   ],
   "source": [
    "#search\n",
    "a=re.search(\"Dur\",name)\n",
    "print(a)\n",
    "\n",
    "b=re.search(\"DUR\",name)\n",
    "print(b)"
   ]
  },
  {
   "cell_type": "code",
   "execution_count": 10,
   "id": "9602bf52",
   "metadata": {},
   "outputs": [
    {
     "name": "stdout",
     "output_type": "stream",
     "text": [
      "['is', 'is', 'is']\n",
      "['a', 'a', 'a', 'a', 'a', 'a', 'a']\n"
     ]
    }
   ],
   "source": [
    "#find all\n",
    "c=re.findall(\"is\",sis)\n",
    "print(c)\n",
    "\n",
    "a=re.findall(\"a\",name)\n",
    "print(a)"
   ]
  },
  {
   "cell_type": "code",
   "execution_count": 12,
   "id": "1f4bf95c",
   "metadata": {},
   "outputs": [
    {
     "name": "stdout",
     "output_type": "stream",
     "text": [
      "she is my sister,sister\n"
     ]
    }
   ],
   "source": [
    "#sub\n",
    "b=re.sub(\"sis\",\"sister\",sis)\n",
    "print(b)"
   ]
  },
  {
   "cell_type": "code",
   "execution_count": 14,
   "id": "ce37d100",
   "metadata": {},
   "outputs": [
    {
     "name": "stdout",
     "output_type": "stream",
     "text": [
      "['she ', ' my s', ',s', '']\n"
     ]
    }
   ],
   "source": [
    "a=re.split(\"is\",sis)\n",
    "print(a)"
   ]
  },
  {
   "cell_type": "code",
   "execution_count": 15,
   "id": "d2be6e97",
   "metadata": {},
   "outputs": [
    {
     "name": "stdout",
     "output_type": "stream",
     "text": [
      "['a', 'd', 'a', 'a', 'g', 'a', 'a', 'a', 'a']\n"
     ]
    }
   ],
   "source": [
    "x=re.findall(\"[a-m]\",name)\n",
    "print(x)"
   ]
  },
  {
   "cell_type": "code",
   "execution_count": 16,
   "id": "7b58f814",
   "metadata": {},
   "outputs": [
    {
     "name": "stdout",
     "output_type": "stream",
     "text": [
      "[]\n"
     ]
    }
   ],
   "source": [
    "print(re.findall(\"[1-8]\",sis))"
   ]
  },
  {
   "cell_type": "code",
   "execution_count": 17,
   "id": "aa38acdb",
   "metadata": {},
   "outputs": [
    {
     "name": "stdout",
     "output_type": "stream",
     "text": [
      "['Durg']\n"
     ]
    }
   ],
   "source": [
    "#sesrch for du followed by andy cha\n",
    "x=re.findall(\"Du..\",name)\n",
    "print(x)"
   ]
  },
  {
   "cell_type": "code",
   "execution_count": 18,
   "id": "96a87e7f",
   "metadata": {},
   "outputs": [
    {
     "name": "stdout",
     "output_type": "stream",
     "text": [
      "['V']\n"
     ]
    }
   ],
   "source": [
    "x=re.findall(\"^V\",name)\n",
    "print(x)\n",
    "\n",
    "# start with x if true retuns string"
   ]
  },
  {
   "cell_type": "code",
   "execution_count": 23,
   "id": "6224ede5",
   "metadata": {},
   "outputs": [
    {
     "name": "stdout",
     "output_type": "stream",
     "text": [
      "vkeerthichavla@gmail.com\n",
      "True\n"
     ]
    }
   ],
   "source": [
    "import re\n",
    "def gmail(g):\n",
    "    pat=\"^[a-zA-Z0-9-_]+@[a-zA-Z0-9]+\\.[a-z]{1,3}$\"\n",
    "    if re.match(pat,g):\n",
    "        return True\n",
    "    return  notemail\n",
    "\n",
    "g=input()\n",
    "print(gmail(g))\n",
    "    "
   ]
  },
  {
   "cell_type": "code",
   "execution_count": null,
   "id": "67af5d5b",
   "metadata": {},
   "outputs": [],
   "source": [
    "num=int(input())\n",
    "pat=\"(0|91)?[7-9][0-9]{9}\"\n",
    "\n",
    "if re.match(pat,num):\n",
    "    return True\n"
   ]
  },
  {
   "cell_type": "code",
   "execution_count": null,
   "id": "7b099ecd",
   "metadata": {},
   "outputs": [],
   "source": []
  }
 ],
 "metadata": {
  "kernelspec": {
   "display_name": "Python 3 (ipykernel)",
   "language": "python",
   "name": "python3"
  },
  "language_info": {
   "codemirror_mode": {
    "name": "ipython",
    "version": 3
   },
   "file_extension": ".py",
   "mimetype": "text/x-python",
   "name": "python",
   "nbconvert_exporter": "python",
   "pygments_lexer": "ipython3",
   "version": "3.9.7"
  }
 },
 "nbformat": 4,
 "nbformat_minor": 5
}
