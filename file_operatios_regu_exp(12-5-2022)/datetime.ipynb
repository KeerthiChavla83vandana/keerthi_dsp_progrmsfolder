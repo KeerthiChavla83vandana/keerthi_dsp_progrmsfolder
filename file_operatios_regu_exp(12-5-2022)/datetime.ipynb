{
 "cells": [
  {
   "cell_type": "code",
   "execution_count": 1,
   "id": "96808a26",
   "metadata": {},
   "outputs": [],
   "source": [
    "import datetime"
   ]
  },
  {
   "cell_type": "code",
   "execution_count": 2,
   "id": "f130fbf0",
   "metadata": {},
   "outputs": [
    {
     "name": "stdout",
     "output_type": "stream",
     "text": [
      "2022-08-19 15:47:13.083598\n"
     ]
    }
   ],
   "source": [
    "print(datetime.datetime.today())"
   ]
  },
  {
   "cell_type": "code",
   "execution_count": 6,
   "id": "1aeb99a0",
   "metadata": {},
   "outputs": [
    {
     "name": "stdout",
     "output_type": "stream",
     "text": [
      "2022-08-19\n"
     ]
    }
   ],
   "source": [
    "print(datetime.date.today())"
   ]
  },
  {
   "cell_type": "code",
   "execution_count": 9,
   "id": "0d4f906e",
   "metadata": {},
   "outputs": [
    {
     "name": "stdout",
     "output_type": "stream",
     "text": [
      "2022\n"
     ]
    }
   ],
   "source": [
    "birth_date=8-5-2003\n",
    "print(datetime.date.today().year)"
   ]
  },
  {
   "cell_type": "code",
   "execution_count": 10,
   "id": "78603453",
   "metadata": {},
   "outputs": [
    {
     "name": "stdout",
     "output_type": "stream",
     "text": [
      "2022\n"
     ]
    }
   ],
   "source": [
    "date_today = datetime.date.today()\n",
    "print(date_today.year)"
   ]
  },
  {
   "cell_type": "code",
   "execution_count": 11,
   "id": "1ecca190",
   "metadata": {},
   "outputs": [
    {
     "name": "stdout",
     "output_type": "stream",
     "text": [
      "8\n"
     ]
    }
   ],
   "source": [
    "print(date_today.month)"
   ]
  },
  {
   "cell_type": "code",
   "execution_count": 13,
   "id": "3e1d8476",
   "metadata": {},
   "outputs": [
    {
     "name": "stdout",
     "output_type": "stream",
     "text": [
      "2003-05-08 00:00:00\n"
     ]
    }
   ],
   "source": [
    "k=datetime.datetime(2003,5,8)\n",
    "print(k)"
   ]
  },
  {
   "cell_type": "code",
   "execution_count": 14,
   "id": "9aa88c4b",
   "metadata": {},
   "outputs": [
    {
     "name": "stdout",
     "output_type": "stream",
     "text": [
      "2003\n"
     ]
    }
   ],
   "source": [
    "print(k.year)"
   ]
  },
  {
   "cell_type": "code",
   "execution_count": 15,
   "id": "a5c761eb",
   "metadata": {},
   "outputs": [
    {
     "name": "stdout",
     "output_type": "stream",
     "text": [
      "8\n"
     ]
    }
   ],
   "source": [
    "print(k.day)"
   ]
  },
  {
   "cell_type": "code",
   "execution_count": 16,
   "id": "e4325fe9",
   "metadata": {},
   "outputs": [
    {
     "name": "stdout",
     "output_type": "stream",
     "text": [
      "<built-in method date of datetime.datetime object at 0x00000243C12ED750>\n"
     ]
    }
   ],
   "source": [
    "print(k.date)"
   ]
  },
  {
   "cell_type": "code",
   "execution_count": 17,
   "id": "0f83f632",
   "metadata": {},
   "outputs": [
    {
     "name": "stdout",
     "output_type": "stream",
     "text": [
      "5\n"
     ]
    }
   ],
   "source": [
    "print(k.month)"
   ]
  },
  {
   "cell_type": "code",
   "execution_count": 18,
   "id": "07037869",
   "metadata": {},
   "outputs": [
    {
     "name": "stdout",
     "output_type": "stream",
     "text": [
      "2005-10-03 00:00:00\n",
      "3\n"
     ]
    }
   ],
   "source": [
    "a=datetime.datetime(2005,10,3)\n",
    "print(a)\n",
    "print(a.day)"
   ]
  },
  {
   "cell_type": "code",
   "execution_count": null,
   "id": "02e8bd57",
   "metadata": {},
   "outputs": [],
   "source": []
  }
 ],
 "metadata": {
  "kernelspec": {
   "display_name": "Python 3 (ipykernel)",
   "language": "python",
   "name": "python3"
  },
  "language_info": {
   "codemirror_mode": {
    "name": "ipython",
    "version": 3
   },
   "file_extension": ".py",
   "mimetype": "text/x-python",
   "name": "python",
   "nbconvert_exporter": "python",
   "pygments_lexer": "ipython3",
   "version": "3.9.7"
  }
 },
 "nbformat": 4,
 "nbformat_minor": 5
}
