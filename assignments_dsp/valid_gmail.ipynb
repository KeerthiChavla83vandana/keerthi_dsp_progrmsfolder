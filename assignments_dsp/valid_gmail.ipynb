{
 "cells": [
  {
   "cell_type": "code",
   "execution_count": 1,
   "id": "0d6a6737",
   "metadata": {},
   "outputs": [
    {
     "name": "stdout",
     "output_type": "stream",
     "text": [
      "vkeerthchavla@gmail.com\n",
      "True\n"
     ]
    }
   ],
   "source": [
    "import re\n",
    "def gmail(g):\n",
    "    pat=\"^[a-zA-Z0-9-_]+@[a-zA-Z0-9]+\\.[a-z]{1,3}$\"\n",
    "    if re.match(pat,g):\n",
    "        return True\n",
    "    return  notemail\n",
    "\n",
    "g=input()\n",
    "print(gmail(g))"
   ]
  },
  {
   "cell_type": "code",
   "execution_count": null,
   "id": "d210e143",
   "metadata": {},
   "outputs": [],
   "source": [
    "num=int(input())\n",
    "pat=\"(0|91)?[7-9][0-9]{9}\"\n",
    "\n",
    "if re.match(pat,num):\n",
    "    print(\"true\")\n",
    "    \n"
   ]
  },
  {
   "cell_type": "code",
   "execution_count": null,
   "id": "f55cf632",
   "metadata": {},
   "outputs": [],
   "source": []
  }
 ],
 "metadata": {
  "kernelspec": {
   "display_name": "Python 3 (ipykernel)",
   "language": "python",
   "name": "python3"
  },
  "language_info": {
   "codemirror_mode": {
    "name": "ipython",
    "version": 3
   },
   "file_extension": ".py",
   "mimetype": "text/x-python",
   "name": "python",
   "nbconvert_exporter": "python",
   "pygments_lexer": "ipython3",
   "version": "3.9.7"
  }
 },
 "nbformat": 4,
 "nbformat_minor": 5
}
