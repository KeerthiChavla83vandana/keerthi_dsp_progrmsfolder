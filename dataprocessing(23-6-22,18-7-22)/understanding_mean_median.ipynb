{
 "cells": [
  {
   "cell_type": "code",
   "execution_count": 2,
   "id": "67217dde",
   "metadata": {},
   "outputs": [
    {
     "name": "stdout",
     "output_type": "stream",
     "text": [
      "[1 3 2 4 6]\n",
      "[ 1  3 20  4  6]\n",
      "[ 1  3  2  4 60]\n"
     ]
    },
    {
     "data": {
      "text/plain": [
       "6.8"
      ]
     },
     "execution_count": 2,
     "metadata": {},
     "output_type": "execute_result"
    }
   ],
   "source": [
    "import numpy as np\n",
    "import pandas as pd\n",
    "p1=np.array([1,3,2,4,6])\n",
    "p2=np.array([1,3,20,4,6])\n",
    "p3=np.array([1,3,2,4,60])\n",
    "print(p1)\n",
    "print(p2)\n",
    "print(p3)\n",
    "p1.mean()\n",
    "p2.mean()\n"
   ]
  },
  {
   "cell_type": "code",
   "execution_count": 6,
   "id": "c15d0565",
   "metadata": {},
   "outputs": [
    {
     "name": "stdout",
     "output_type": "stream",
     "text": [
      "3.2\n",
      "6.8\n",
      "14.0\n"
     ]
    }
   ],
   "source": [
    "print(p1.mean())\n",
    "print(p2.mean())\n",
    "print(p3.mean())"
   ]
  },
  {
   "cell_type": "code",
   "execution_count": 7,
   "id": "7c34cb28",
   "metadata": {},
   "outputs": [
    {
     "name": "stdout",
     "output_type": "stream",
     "text": [
      "mean of p1:\n",
      "median of p1:\n",
      "standerd deviation  of p1: 1.7204650534085253\n",
      "varience of p1: 2.96\n",
      "sum of p1: 16\n",
      "product of arr\n"
     ]
    }
   ],
   "source": [
    "p1=np.array([1,3,2,4,6])\n",
    "print(\"mean of p1:\")\n",
    "p1.mean()\n",
    "print(\"median of p1:\")\n",
    "np.median(p1)\n",
    "\n",
    "print(\"standerd deviation  of p1:\",np.std(p1))\n",
    "\n",
    "print(\"varience of p1:\",np.var(p1))\n",
    "\n",
    "print(\"sum of p1:\",sum(p1))\n",
    "\n",
    "print(\"product of arr\")\n"
   ]
  },
  {
   "cell_type": "code",
   "execution_count": 4,
   "id": "f8866dfd",
   "metadata": {},
   "outputs": [
    {
     "name": "stdout",
     "output_type": "stream",
     "text": [
      "mean of p1:\n"
     ]
    },
    {
     "data": {
      "text/plain": [
       "3.2"
      ]
     },
     "execution_count": 4,
     "metadata": {},
     "output_type": "execute_result"
    }
   ],
   "source": [
    "print(\"mean of p1:\")\n",
    "p1.mean()\n",
    "\n",
    "\n",
    "\n",
    "\n"
   ]
  },
  {
   "cell_type": "code",
   "execution_count": 5,
   "id": "d96aab95",
   "metadata": {},
   "outputs": [
    {
     "name": "stdout",
     "output_type": "stream",
     "text": [
      "median of p1:\n",
      "standerd deviation  of p1: 1.7204650534085253\n",
      "varience of p1: 2.96\n",
      "sum of p1: 16\n"
     ]
    }
   ],
   "source": [
    "print(\"median of p1:\")\n",
    "np.median(p1)\n",
    "\n",
    "print(\"standerd deviation  of p1:\",np.std(p1))\n",
    "\n",
    "print(\"varience of p1:\",np.var(p1))\n",
    "\n",
    "print(\"sum of p1:\",sum(p1))\n",
    "\n",
    "\n"
   ]
  },
  {
   "cell_type": "code",
   "execution_count": 35,
   "id": "87efc35a",
   "metadata": {},
   "outputs": [
    {
     "name": "stdout",
     "output_type": "stream",
     "text": [
      "[ 1  3 20  4  6]\n",
      "mean of p2 6.8\n"
     ]
    }
   ],
   "source": [
    "import numpy as np\n",
    "import pandas as pd\n",
    "p2=np.array([1,3,20,4,6])\n",
    "print(p2)\n",
    "print(\"mean of p2\",p2.mean())\n",
    "\n",
    "\n",
    "\n"
   ]
  },
  {
   "cell_type": "code",
   "execution_count": 8,
   "id": "91dccf6f",
   "metadata": {},
   "outputs": [
    {
     "name": "stdout",
     "output_type": "stream",
     "text": [
      "median of pp2: 4.0\n",
      "standerd deviation  of p2: 6.794115100585211\n",
      "varience of p2: 46.16\n",
      "sum of p2: 34\n"
     ]
    }
   ],
   "source": [
    "print(\"median of pp2:\",np.median(p2))\n",
    "\n",
    "print(\"standerd deviation  of p2:\",np.std(p2))\n",
    "\n",
    "print(\"varience of p2:\",np.var(p2))\n",
    "\n",
    "print(\"sum of p2:\",sum(p2))"
   ]
  },
  {
   "cell_type": "code",
   "execution_count": 25,
   "id": "2c6862ea",
   "metadata": {},
   "outputs": [
    {
     "name": "stdout",
     "output_type": "stream",
     "text": [
      "[ 1  3  2  4 60]\n"
     ]
    },
    {
     "data": {
      "text/plain": [
       "14.0"
      ]
     },
     "execution_count": 25,
     "metadata": {},
     "output_type": "execute_result"
    }
   ],
   "source": [
    "print(p3)\n",
    "p3.mean()"
   ]
  },
  {
   "cell_type": "code",
   "execution_count": 26,
   "id": "c359db9b",
   "metadata": {},
   "outputs": [
    {
     "name": "stdout",
     "output_type": "stream",
     "text": [
      "median of p3: 3.0\n",
      "standerd deviation  of p3: 23.021728866442675\n",
      "varience  of p3: 530.0\n",
      "sum of p3: 70\n"
     ]
    }
   ],
   "source": [
    "print(\"median of p3:\",np.median(p3))\n",
    "print(\"standerd deviation  of p3:\",np.std(p3))\n",
    "print(\"varience  of p3:\",np.var(p3))\n",
    "print(\"sum of p3:\",sum(p3))\n",
    "                                          \n"
   ]
  },
  {
   "cell_type": "code",
   "execution_count": 27,
   "id": "9e58c863",
   "metadata": {},
   "outputs": [
    {
     "data": {
      "image/png": "[encoded data removed]",
      "text/plain": [
       "<Figure size 432x288 with 1 Axes>"
      ]
     },
     "metadata": {
      "needs_background": "light"
     },
     "output_type": "display_data"
    }
   ],
   "source": [
    "import matplotlib.pyplot as plt\n",
    "plt.hist([1,3,2,4,6],color=\"hotpink\")\n",
    "plt.xlabel(\"population\")\n",
    "plt.ylabel(\"frequency\")\n",
    "plt.show()"
   ]
  },
  {
   "cell_type": "code",
   "execution_count": 28,
   "id": "f8a8b878",
   "metadata": {},
   "outputs": [
    {
     "data": {
      "image/png": "[encoded data removed]",
      "text/plain": [
       "<Figure size 432x288 with 1 Axes>"
      ]
     },
     "metadata": {
      "needs_background": "light"
     },
     "output_type": "display_data"
    }
   ],
   "source": [
    "#histogram for p1 with 3 bins\n",
    "\n",
    "plt.hist([1,3,2,4,6],bins=3)\n",
    "plt.xlabel(\"popultion with 3 bins\")\n",
    "plt.ylabel(\"frequency\")\n",
    "plt.show()"
   ]
  },
  {
   "cell_type": "code",
   "execution_count": 29,
   "id": "4eff8844",
   "metadata": {},
   "outputs": [
    {
     "data": {
      "text/plain": [
       "[(0.995, 2.667], (2.667, 4.333], (0.995, 2.667], (2.667, 4.333], (4.333, 6.0]]\n",
       "Categories (3, interval[float64, right]): [(0.995, 2.667] < (2.667, 4.333] < (4.333, 6.0]]"
      ]
     },
     "execution_count": 29,
     "metadata": {},
     "output_type": "execute_result"
    }
   ],
   "source": [
    "import pandas as pd\n",
    "pd.cut(p1,3)"
   ]
  },
  {
   "cell_type": "code",
   "execution_count": 31,
   "id": "30c4f787",
   "metadata": {},
   "outputs": [
    {
     "data": {
      "image/png": "[encoded data removed]",
      "text/plain": [
       "<Figure size 432x288 with 1 Axes>"
      ]
     },
     "metadata": {
      "needs_background": "light"
     },
     "output_type": "display_data"
    },
    {
     "data": {
      "text/plain": [
       "[(0.995, 2.0], (2.0, 3.0], (0.995, 2.0], (3.0, 4.0], (5.0, 6.0]]\n",
       "Categories (5, interval[float64, right]): [(0.995, 2.0] < (2.0, 3.0] < (3.0, 4.0] < (4.0, 5.0] < (5.0, 6.0]]"
      ]
     },
     "execution_count": 31,
     "metadata": {},
     "output_type": "execute_result"
    }
   ],
   "source": [
    "plt.hist(p1,bins=5)\n",
    "plt.xlabel(\"population1 \")\n",
    "plt.ylabel(\"frequency\")\n",
    "plt.show()\n",
    "\n",
    "pd.cut(p1,bins=5)"
   ]
  },
  {
   "cell_type": "code",
   "execution_count": 37,
   "id": "3ccdbdda",
   "metadata": {},
   "outputs": [
    {
     "name": "stdout",
     "output_type": "stream",
     "text": [
      "[ 1  3 20  4  6]\n"
     ]
    },
    {
     "data": {
      "image/png": "[encoded data removed]",
      "text/plain": [
       "<Figure size 432x288 with 1 Axes>"
      ]
     },
     "metadata": {
      "needs_background": "light"
     },
     "output_type": "display_data"
    },
    {
     "data": {
      "text/plain": [
       "[(0.981, 7.333], (0.981, 7.333], (13.667, 20.0], (0.981, 7.333], (0.981, 7.333]]\n",
       "Categories (3, interval[float64, right]): [(0.981, 7.333] < (7.333, 13.667] < (13.667, 20.0]]"
      ]
     },
     "execution_count": 37,
     "metadata": {},
     "output_type": "execute_result"
    }
   ],
   "source": [
    "import pandas as pd\n",
    "print(p2)\n",
    "plt.hist(p2,color='r')\n",
    "plt.xlabel(\"population2 \")\n",
    "plt.ylabel(\"frequency\")\n",
    "plt.show()\n",
    "\n",
    "pd.cut(p2,bins=3)"
   ]
  },
  {
   "cell_type": "code",
   "execution_count": 39,
   "id": "b1a3f25e",
   "metadata": {},
   "outputs": [
    {
     "data": {
      "image/png": "[encoded data removed]",
      "text/plain": [
       "<Figure size 432x288 with 1 Axes>"
      ]
     },
     "metadata": {
      "needs_background": "light"
     },
     "output_type": "display_data"
    },
    {
     "name": "stdout",
     "output_type": "stream",
     "text": [
      "[ 1  3 20  4  6]\n"
     ]
    },
    {
     "data": {
      "text/plain": [
       "[(0.981, 4.8], (0.981, 4.8], (16.2, 20.0], (0.981, 4.8], (4.8, 8.6]]\n",
       "Categories (5, interval[float64, right]): [(0.981, 4.8] < (4.8, 8.6] < (8.6, 12.4] < (12.4, 16.2] < (16.2, 20.0]]"
      ]
     },
     "execution_count": 39,
     "metadata": {},
     "output_type": "execute_result"
    }
   ],
   "source": [
    "plt.hist(p2,color='y',bins=5)\n",
    "plt.xlabel(\"population2 \")\n",
    "plt.ylabel(\"frequency\")\n",
    "plt.show()\n",
    "\n",
    "print(p2)\n",
    "pd.cut(p2,bins=5)\n",
    "\n"
   ]
  },
  {
   "cell_type": "code",
   "execution_count": 41,
   "id": "145256f3",
   "metadata": {},
   "outputs": [
    {
     "data": {
      "image/png": "[encoded data removed]",
      "text/plain": [
       "<Figure size 432x288 with 1 Axes>"
      ]
     },
     "metadata": {
      "needs_background": "light"
     },
     "output_type": "display_data"
    },
    {
     "name": "stdout",
     "output_type": "stream",
     "text": [
      "[ 1  3  2  4 60]\n"
     ]
    },
    {
     "data": {
      "text/plain": [
       "[(0.941, 20.667], (0.941, 20.667], (0.941, 20.667], (0.941, 20.667], (40.333, 60.0]]\n",
       "Categories (3, interval[float64, right]): [(0.941, 20.667] < (20.667, 40.333] < (40.333, 60.0]]"
      ]
     },
     "execution_count": 41,
     "metadata": {},
     "output_type": "execute_result"
    }
   ],
   "source": [
    "plt.hist(p3,color='violet',bins=3)\n",
    "plt.xlabel(\"population3 with 3 bins \")\n",
    "plt.ylabel(\"frequency\")\n",
    "plt.show()\n",
    "\n",
    "print(p3)\n",
    "\n",
    "pd.cut(p3,bins=3)"
   ]
  },
  {
   "cell_type": "code",
   "execution_count": 43,
   "id": "15bbb98a",
   "metadata": {},
   "outputs": [
    {
     "data": {
      "image/png": "[encoded data removed]",
      "text/plain": [
       "<Figure size 432x288 with 1 Axes>"
      ]
     },
     "metadata": {
      "needs_background": "light"
     },
     "output_type": "display_data"
    },
    {
     "name": "stdout",
     "output_type": "stream",
     "text": [
      "[ 1  3  2  4 60]\n"
     ]
    },
    {
     "data": {
      "text/plain": [
       "[(0.941, 12.8], (0.941, 12.8], (0.941, 12.8], (0.941, 12.8], (48.2, 60.0]]\n",
       "Categories (5, interval[float64, right]): [(0.941, 12.8] < (12.8, 24.6] < (24.6, 36.4] < (36.4, 48.2] < (48.2, 60.0]]"
      ]
     },
     "execution_count": 43,
     "metadata": {},
     "output_type": "execute_result"
    }
   ],
   "source": [
    "plt.hist(p3,color='violet',bins=5)\n",
    "plt.xlabel(\"population3 with 5 bins \")\n",
    "plt.ylabel(\"frequency\")\n",
    "plt.show()\n",
    "\n",
    "print(p3)\n",
    "\n",
    "pd.cut(p3,bins=5)"
   ]
  },
  {
   "cell_type": "code",
   "execution_count": 45,
   "id": "8b655efe",
   "metadata": {},
   "outputs": [
    {
     "data": {
      "image/png": "[encoded data removed]",
      "text/plain": [
       "<Figure size 432x288 with 1 Axes>"
      ]
     },
     "metadata": {},
     "output_type": "display_data"
    }
   ],
   "source": [
    "# drawing bar graph\n",
    "p1.mean()\n",
    "p2.mean()\n",
    "p3.mean()\n",
    "df=([p1.mean(),p2.mean(),p3.mean()])\n",
    "plt.pie(df,labels=[\"p1 mean\",\"p2 mean\",\"p3 mean\"])\n",
    "plt.show()"
   ]
  },
  {
   "cell_type": "code",
   "execution_count": 8,
   "id": "49f84b26",
   "metadata": {},
   "outputs": [
    {
     "data": {
      "text/plain": [
       "([<matplotlib.patches.Wedge at 0x1e9354d1580>,\n",
       "  <matplotlib.patches.Wedge at 0x1e9354d1ac0>,\n",
       "  <matplotlib.patches.Wedge at 0x1e9354d1fa0>],\n",
       " [Text(0.6111272563215626, 0.9146165735327998, 'p1'),\n",
       "  Text(-1.0999999999999954, 1.0298943285007232e-07, 'p2'),\n",
       "  Text(0.611127085056384, -0.9146166879685104, 'p3')])"
      ]
     },
     "execution_count": 8,
     "metadata": {},
     "output_type": "execute_result"
    },
    {
     "data": {
      "image/png": "[encoded data removed]",
      "text/plain": [
       "<Figure size 432x288 with 1 Axes>"
      ]
     },
     "metadata": {},
     "output_type": "display_data"
    }
   ],
   "source": [
    "import matplotlib.pyplot as plt\n",
    "a=[np.median(p1),np.median(p2),np.median(p3)]\n",
    "plt.pie(a,labels=[\"p1\",\"p2\",\"p3\"])"
   ]
  },
  {
   "cell_type": "code",
   "execution_count": 9,
   "id": "eaa0686a",
   "metadata": {},
   "outputs": [
    {
     "data": {
      "text/plain": [
       "([<matplotlib.patches.Wedge at 0x1e93551bfd0>,\n",
       "  <matplotlib.patches.Wedge at 0x1e935527550>,\n",
       "  <matplotlib.patches.Wedge at 0x1e935527a30>],\n",
       " [Text(1.0998345624621606, 0.019077086089541898, 'p1'),\n",
       "  Text(1.0984272428551909, 0.05880129380841688, 'p2'),\n",
       "  Text(-1.0992818195160792, -0.039742688401997586, 'p3')])"
      ]
     },
     "execution_count": 9,
     "metadata": {},
     "output_type": "execute_result"
    },
    {
     "data": {
      "image/png": "[encoded data removed]",
      "text/plain": [
       "<Figure size 432x288 with 1 Axes>"
      ]
     },
     "metadata": {},
     "output_type": "display_data"
    }
   ],
   "source": [
    "a=[np.var(p1),np.var(p2),np.var(p3)]\n",
    "plt.pie(a,labels=[\"p1\",\"p2\",\"p3\"])"
   ]
  },
  {
   "cell_type": "code",
   "execution_count": 10,
   "id": "0493ce3c",
   "metadata": {},
   "outputs": [
    {
     "data": {
      "text/plain": [
       "([<matplotlib.patches.Wedge at 0x1e93556c820>,\n",
       "  <matplotlib.patches.Wedge at 0x1e93556cd00>,\n",
       "  <matplotlib.patches.Wedge at 0x1e93557a220>],\n",
       " [Text(1.0772556040788226, 0.22253171342703343, 'p1'),\n",
       "  Text(0.8956061657534002, 0.6386623488702722, 'p2'),\n",
       "  Text(-1.0062903214401409, -0.44427445231061624, 'p3')])"
      ]
     },
     "execution_count": 10,
     "metadata": {},
     "output_type": "execute_result"
    },
    {
     "data": {
      "image/png": "[encoded data removed]",
      "text/plain": [
       "<Figure size 432x288 with 1 Axes>"
      ]
     },
     "metadata": {},
     "output_type": "display_data"
    }
   ],
   "source": [
    "a=[np.std(p1),np.std(p2),np.std(p3)]\n",
    "plt.pie(a,labels=[\"p1\",\"p2\",\"p3\"])"
   ]
  },
  {
   "cell_type": "code",
   "execution_count": 10,
   "id": "19f44be2",
   "metadata": {},
   "outputs": [
    {
     "ename": "AttributeError",
     "evalue": "'numpy.ndarray' object has no attribute 'corr'",
     "output_type": "error",
     "traceback": [
      "\u001b[1;31m---------------------------------------------------------------------------\u001b[0m",
      "\u001b[1;31mAttributeError\u001b[0m                            Traceback (most recent call last)",
      "\u001b[1;32mC:\\Users\\KEERTH~1\\AppData\\Local\\Temp/ipykernel_7888/2974867719.py\u001b[0m in \u001b[0;36m<module>\u001b[1;34m\u001b[0m\n\u001b[0;32m      1\u001b[0m \u001b[0mx\u001b[0m\u001b[1;33m=\u001b[0m\u001b[0mnp\u001b[0m\u001b[1;33m.\u001b[0m\u001b[0marray\u001b[0m\u001b[1;33m(\u001b[0m\u001b[1;33m[\u001b[0m\u001b[1;36m20000\u001b[0m\u001b[1;33m,\u001b[0m\u001b[1;36m30000\u001b[0m\u001b[1;33m,\u001b[0m\u001b[1;36m40000\u001b[0m\u001b[1;33m,\u001b[0m\u001b[1;36m50000\u001b[0m\u001b[1;33m]\u001b[0m\u001b[1;33m)\u001b[0m\u001b[1;33m\u001b[0m\u001b[1;33m\u001b[0m\u001b[0m\n\u001b[0;32m      2\u001b[0m \u001b[0my\u001b[0m\u001b[1;33m=\u001b[0m\u001b[0mnp\u001b[0m\u001b[1;33m.\u001b[0m\u001b[0marray\u001b[0m\u001b[1;33m(\u001b[0m\u001b[1;33m[\u001b[0m\u001b[1;36m5\u001b[0m\u001b[1;33m,\u001b[0m\u001b[1;36m10\u001b[0m\u001b[1;33m,\u001b[0m\u001b[1;36m12\u001b[0m\u001b[1;33m,\u001b[0m\u001b[1;36m15\u001b[0m\u001b[1;33m]\u001b[0m\u001b[1;33m)\u001b[0m\u001b[1;33m\u001b[0m\u001b[1;33m\u001b[0m\u001b[0m\n\u001b[1;32m----> 3\u001b[1;33m \u001b[0mres\u001b[0m\u001b[1;33m=\u001b[0m\u001b[0mx\u001b[0m\u001b[1;33m.\u001b[0m\u001b[0mcorr\u001b[0m\u001b[1;33m(\u001b[0m\u001b[0my\u001b[0m\u001b[1;33m)\u001b[0m\u001b[1;33m\u001b[0m\u001b[1;33m\u001b[0m\u001b[0m\n\u001b[0m\u001b[0;32m      4\u001b[0m \u001b[0mprint\u001b[0m\u001b[1;33m(\u001b[0m\u001b[0mres\u001b[0m\u001b[1;33m)\u001b[0m\u001b[1;33m\u001b[0m\u001b[1;33m\u001b[0m\u001b[0m\n",
      "\u001b[1;31mAttributeError\u001b[0m: 'numpy.ndarray' object has no attribute 'corr'"
     ]
    }
   ],
   "source": [
    "sal=pd.DataFrame(x:[20000,30000,40000,50000])\n",
    "y=np.array([5,10,12,15])\n",
    "res=x.corr(y)\n",
    "print(res)"
   ]
  },
  {
   "cell_type": "code",
   "execution_count": null,
   "id": "0992f428",
   "metadata": {},
   "outputs": [],
   "source": []
  }
 ],
 "metadata": {
  "kernelspec": {
   "display_name": "Python 3 (ipykernel)",
   "language": "python",
   "name": "python3"
  },
  "language_info": {
   "codemirror_mode": {
    "name": "ipython",
    "version": 3
   },
   "file_extension": ".py",
   "mimetype": "text/x-python",
   "name": "python",
   "nbconvert_exporter": "python",
   "pygments_lexer": "ipython3",
   "version": "3.9.7"
  }
 },
 "nbformat": 4,
 "nbformat_minor": 5
}
